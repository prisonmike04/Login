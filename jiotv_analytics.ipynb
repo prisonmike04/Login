{
  "nbformat": 4,
  "nbformat_minor": 0,
  "metadata": {
    "colab": {
      "provenance": [],
      "authorship_tag": "ABX9TyNN/hbE9qsgCA2saQvY7YxC"
    },
    "kernelspec": {
      "name": "python3",
      "display_name": "Python 3"
    },
    "language_info": {
      "name": "python"
    }
  },
  "cells": [
    {
      "cell_type": "code",
      "execution_count": 1,
      "metadata": {
        "colab": {
          "base_uri": "https://localhost:8080/"
        },
        "id": "Y2z5AO0a8_ke",
        "outputId": "160fdc3c-f69a-4db8-946e-bbc49f711cdd"
      },
      "outputs": [
        {
          "output_type": "stream",
          "name": "stdout",
          "text": [
            "Collecting pyspark\n",
            "  Downloading pyspark-3.5.1.tar.gz (317.0 MB)\n",
            "\u001b[2K     \u001b[90m━━━━━━━━━━━━━━━━━━━━━━━━━━━━━━━━━━━━━━━━\u001b[0m \u001b[32m317.0/317.0 MB\u001b[0m \u001b[31m3.5 MB/s\u001b[0m eta \u001b[36m0:00:00\u001b[0m\n",
            "\u001b[?25h  Preparing metadata (setup.py) ... \u001b[?25l\u001b[?25hdone\n",
            "Requirement already satisfied: py4j==0.10.9.7 in /usr/local/lib/python3.10/dist-packages (from pyspark) (0.10.9.7)\n",
            "Building wheels for collected packages: pyspark\n",
            "  Building wheel for pyspark (setup.py) ... \u001b[?25l\u001b[?25hdone\n",
            "  Created wheel for pyspark: filename=pyspark-3.5.1-py2.py3-none-any.whl size=317488491 sha256=281564d3b8cc9f50621b81b5a4d75b433df3e2da07d9ffdea346aa8fb22ce0e5\n",
            "  Stored in directory: /root/.cache/pip/wheels/80/1d/60/2c256ed38dddce2fdd93be545214a63e02fbd8d74fb0b7f3a6\n",
            "Successfully built pyspark\n",
            "Installing collected packages: pyspark\n",
            "Successfully installed pyspark-3.5.1\n"
          ]
        }
      ],
      "source": [
        "pip install pyspark"
      ]
    },
    {
      "cell_type": "code",
      "source": [
        "!pip install pyspark"
      ],
      "metadata": {
        "colab": {
          "base_uri": "https://localhost:8080/"
        },
        "id": "bVPpPidu9Amn",
        "outputId": "7fd154e2-35b9-4658-b0bd-69a1308bd99c"
      },
      "execution_count": 2,
      "outputs": [
        {
          "output_type": "stream",
          "name": "stdout",
          "text": [
            "Requirement already satisfied: pyspark in /usr/local/lib/python3.10/dist-packages (3.5.1)\n",
            "Requirement already satisfied: py4j==0.10.9.7 in /usr/local/lib/python3.10/dist-packages (from pyspark) (0.10.9.7)\n"
          ]
        }
      ]
    },
    {
      "cell_type": "code",
      "source": [
        "!apt-get install openjdk-8-jdk-headless -qq > /dev/null"
      ],
      "metadata": {
        "id": "CXsjQqPy9ELj"
      },
      "execution_count": 3,
      "outputs": []
    },
    {
      "cell_type": "code",
      "source": [
        "\n",
        "!apt-get install -q openjdk-8-jdk-headless -qq > /dev/null"
      ],
      "metadata": {
        "id": "okERkdhd9I9_"
      },
      "execution_count": 4,
      "outputs": []
    },
    {
      "cell_type": "code",
      "source": [
        "import os\n",
        "os.environ[\"JAVA_HOME\"] = \"/usr/lib/jvm/java-8-openjdk-amd64\""
      ],
      "metadata": {
        "id": "13bIXbLK9KZC"
      },
      "execution_count": 5,
      "outputs": []
    },
    {
      "cell_type": "code",
      "source": [
        "!rm -rf spark-3.4.1-bin-hadoop3*\n",
        "\n",
        "!wget -q https://archive.apache.org/dist/spark/spark-3.4.1/spark-3.4.1-bin-hadoop3.tgz\n",
        "\n",
        "\n",
        "!tar xf spark-3.4.1-bin-hadoop3.tgz"
      ],
      "metadata": {
        "id": "r2rzjhDH9MVV"
      },
      "execution_count": 6,
      "outputs": []
    },
    {
      "cell_type": "code",
      "source": [
        "\n",
        "os.environ[\"SPARK_HOME\"] = \"/content/spark-3.4.1-bin-hadoop3\""
      ],
      "metadata": {
        "id": "WBRD--AP9ObT"
      },
      "execution_count": 7,
      "outputs": []
    },
    {
      "cell_type": "code",
      "source": [
        "import os\n",
        "\n",
        "os.environ[\"JAVA_HOME\"] = \"/usr/lib/jvm/java-8-openjdk-amd64\"\n",
        "os.environ[\"SPARK_HOME\"] = \"/content/spark-3.4.1-bin-hadoop3\"\n",
        "os.environ[\"PATH\"] = os.environ[\"SPARK_HOME\"] + \"/bin:\" + os.environ[\"PATH\"]"
      ],
      "metadata": {
        "id": "UeHK7Suu9QDc"
      },
      "execution_count": 8,
      "outputs": []
    },
    {
      "cell_type": "code",
      "source": [
        "\n",
        "!pip install -q findspark\n",
        "\n",
        "\n",
        "import findspark\n",
        "findspark.init()\n"
      ],
      "metadata": {
        "id": "I2aciNBr9SNO"
      },
      "execution_count": 9,
      "outputs": []
    },
    {
      "cell_type": "code",
      "source": [
        "!pip install -q pyspark\n",
        "!pip install -q spylon-kernel\n"
      ],
      "metadata": {
        "id": "JN_vldNI9TjI",
        "colab": {
          "base_uri": "https://localhost:8080/"
        },
        "outputId": "921c8c78-99f5-45cd-dbaa-5c7951ad096b"
      },
      "execution_count": 10,
      "outputs": [
        {
          "output_type": "stream",
          "name": "stdout",
          "text": [
            "  Preparing metadata (setup.py) ... \u001b[?25l\u001b[?25hdone\n",
            "\u001b[2K     \u001b[90m━━━━━━━━━━━━━━━━━━━━━━━━━━━━━━━━━━━━━━━━\u001b[0m \u001b[32m1.6/1.6 MB\u001b[0m \u001b[31m17.4 MB/s\u001b[0m eta \u001b[36m0:00:00\u001b[0m\n",
            "\u001b[2K     \u001b[90m━━━━━━━━━━━━━━━━━━━━━━━━━━━━━━━━━━━━━━━━\u001b[0m \u001b[32m217.8/217.8 kB\u001b[0m \u001b[31m21.0 MB/s\u001b[0m eta \u001b[36m0:00:00\u001b[0m\n",
            "\u001b[2K     \u001b[90m━━━━━━━━━━━━━━━━━━━━━━━━━━━━━━━━━━━━━━━━\u001b[0m \u001b[32m140.4/140.4 kB\u001b[0m \u001b[31m15.0 MB/s\u001b[0m eta \u001b[36m0:00:00\u001b[0m\n",
            "\u001b[?25h  Preparing metadata (setup.py) ... \u001b[?25l\u001b[?25hdone\n",
            "  Building wheel for spylon-kernel (setup.py) ... \u001b[?25l\u001b[?25hdone\n",
            "  Building wheel for spylon (setup.py) ... \u001b[?25l\u001b[?25hdone\n"
          ]
        }
      ]
    },
    {
      "cell_type": "code",
      "source": [
        "\n",
        "from pyspark.sql import SparkSession\n",
        "\n",
        "spark = SparkSession.builder \\\n",
        "    .master(\"local[*]\") \\\n",
        "    .appName(\"Find Unique Users\") \\\n",
        "    .getOrCreate()"
      ],
      "metadata": {
        "id": "ro-mnr_W9U9M"
      },
      "execution_count": 11,
      "outputs": []
    },
    {
      "cell_type": "code",
      "source": [
        "\n",
        "df = spark.read.json('/content/short.json')\n",
        "\n",
        "df.show()"
      ],
      "metadata": {
        "colab": {
          "base_uri": "https://localhost:8080/"
        },
        "id": "79EMM09I9W3_",
        "outputId": "9ab1554f-2dea-46b4-cf15-cfb66a72af06"
      },
      "execution_count": 12,
      "outputs": [
        {
          "output_type": "stream",
          "name": "stdout",
          "text": [
            "+---------+-------+----+----------+-------------+----------------+----+-----+-----------------+-------------+--------------------+------------+------------------+-----------------+-----+-------+-------+----+---------+-------+------+---+-----------------+--------------------+---------+-------+-------------+-------+--------------------+-------------+--------------------+--------------------+--------------------+\n",
            "|     akey|    avn|   c|     crmid|    dateflink|             did|dtpe|evtno|firmware_revision|hardware_info|              idamid|         key|               lat|              lng|logno|    mnu|    mod| nwk|      ori|os_name|   osv| pf|platform_build_id|                 pro|profileid|    res|          rtc|    sdv|                 sid|     software|                 uid|          user_agent|     x-forwarded-for|\n",
            "+---------+-------+----+----------+-------------+----------------+----+-----+-----------------+-------------+--------------------+------------+------------------+-----------------+-----+-------+-------+----+---------+-------+------+---+-----------------+--------------------+---------+-------+-------------+-------+--------------------+-------------+--------------------+--------------------+--------------------+\n",
            "|109154002|  6.0.8|null|7047321247|1622626200111|5034ef043e8f2749|   S|    1|             null|         null|e281f8e4-bdea-4a5...|media_access|           27.5574|          78.6643|   23|   vivo|   null|  4G|     null|   null|   6.0|  A|             null|{00000000-1ca7-1f...|     null|   null|1622626190636|   null|       1622626172573|         null|       ril7047321247|                null|2409:4053:202:82e...|\n",
            "|109154002|1.6.6.4| Jio|7137774035|1622626200278|1dd45ec58313ebb4|   F| null|                 |         F90M|6bf00fe8-dceb-464...|media_access|30.531692504882812|75.88119506835938|   20|    LYF|Feature|  4G|Landscape|    2.5|48.0a2|  K|   20201029161555|{null, null, null...|       NA|240x320|1622626199874|1.6.6.4|16226261766384e30...|    KaiOS 2.5|      neelamkumar781|Mozilla/5.0 (Mobi...|2409:4055:69d:3cd...|\n",
            "|109154002|  6.0.8|null|1124003909|1622626200293|3bbb560707f29684|   S|    1|             null|         null|ab9096ac-57a8-426...|media_access|           26.9035|           75.729|   54| Xiaomi|   null|  4G|     null|   null| 8.1.0|  A|             null|{00000000-5487-3f...|     null|   null|1622626198459|   null|       1622625884908|         null|         salamkhan19|                null|2409:4052:2e02:60...|\n",
            "|109154002|  6.0.8|null|1132537431|1622626200307|98020733e34987a9|   S|    1|             null|         null|171f3a72-697e-405...|media_access|                 0|                0|  137| Xiaomi|   null|  4G|     null|   null|    10|  A|             null|{00000000-1e5c-e7...|     null|   null|1622626197645|   null|       1622625444655|         null|       ril1132537431|                null|        157.38.63.70|\n",
            "|109154002|  6.0.8|null|3071421502|1622626200452|e463668faa1d5874|   S|    1|             null|         null|b90c740d-6f9f-4ae...|media_access|           22.7284|          88.4677|   93|samsung|   null|WIFI|     null|   null|    11|  A|             null|{ffffffff-b7f8-c9...|     null|   null|1622626199200|   null|       1622625314706|         null|     kingsukghosh-41|                null|       103.76.82.207|\n",
            "|109154002|  6.0.8|null|3140553756|1622626200478|a11e9f558353b398|   S|    1|             null|         null|2c58e8c8-4573-4ce...|media_access|                 0|                0|  120|   vivo|   null|  4G|     null|   null|    11|  A|             null|{ffffffff-8673-95...|     null|   null|1622626196839|   null|       1622624348354|         null|       ril3140553756|                null|2409:4062:18a:749...|\n",
            "|109154002|  6.0.7|null|1140063322|1622626200478|c8e1820703f52ab8|   S|    1|             null|         null|287796f8-f2f0-468...|media_access|                 0|                0|   26|   vivo|   null|  4G|     null|   null| 6.0.1|  A|             null|{ffffffff-8602-d9...|     null|   null|1622626192270|   null|       1622626127116|         null| Arun.Ganpat.Talekar|                null|2409:4042:2d86:43...|\n",
            "|109154002|  6.0.8|null|7086959243|1622626200480|87445dff7df45418|   S|    1|             null|         null|fc0e777a-8544-426...|media_access|           30.5964|          77.2982|   17| Xiaomi|   null|  4G|     null|   null| 7.1.2|  A|             null|{ffffffff-89dd-4e...|     null|   null|1622626198847|   null|       1622626098402|         null|       ril7086959243|                null|2409:4056:e9e:7f6...|\n",
            "|109154002|  6.0.8|null|1108323902|1622626200531|6b0cc8e17335e2ed|   S|    1|             null|         null|409f562a-70bb-4f5...|media_access|                 0|                0|   41|samsung|   null|  4G|     null|   null|    10|  A|             null|{ffffffff-8b21-6e...|     null|   null|1622626199147|   null|       1622624159275|         null|Vasava.Dilipkumar...|                null|2405:204:8106:eeb...|\n",
            "|109154002|  6.0.7|null|3073231160|1622626200540|b5364b4e4efddc9a|   S|    1|             null|         null|7208b35a-f88d-4d9...|media_access|                 0|                0|  107|   OPPO|   null|  4G|     null|   null|     9|  A|             null|{00000000-518e-b7...|     null|   null|1622626197557|   null|       1622621486500|         null|       bulbulibibi75|                null|2409:4061:2091:ec...|\n",
            "|109154002|  6.0.7|null|3122832937|1622626200549|f9ce164bc9da2ce1|   S|    1|             null|         null|852f096b-18c2-4c4...|media_access|                 0|                0|   60| Realme|   null|  4G|     null|   null|     9|  A|             null|{00000000-4c79-47...|     null|   null|1622626200543|   null|       1622625874674|         null|       ril3122832937|                null|2409:4064:2e2f:8a...|\n",
            "|109154002|  6.0.7|null|1135328819|1622626200550|54305bd8b8d84a30|   S|    1|             null|         null|aa9dabb6-aa2f-4ce...|media_access|                 0|                0|   35| realme|   null|WIFI|     null|   null|    10|  A|             null|{00000000-54f8-70...|     null|   null|1622626196977|   null|       1622625787302|         null|    shaikh.anam.bano|                null|       103.123.224.8|\n",
            "|109154002|  6.0.7|null|5101332368|1622626200551|1556662b9b9bfb19|   S|    1|             null|         null|2627d78f-9cad-4c9...|media_access|            13.841|          74.6245|   48| Xiaomi|   null|  4G|     null|   null|    10|  A|             null|{00000000-2011-c0...|     null|   null|1622626198216|   null|       1622624916229|         null|           gokul9517|                null|2409:4071:2088:14...|\n",
            "|109154002|  6.0.8|null|3005330614|1622626200880|a41a92b866e55f40|   S|    1|             null|         null|322de4dc-1748-4b5...|media_access|           21.9791|          87.7809|  120|   OPPO|   null|  4G|     null|   null|    10|  A|             null|{00000000-518f-2b...|     null|   null|1622626196994|   null|       1622624437706|         null|    tapaskumardas-64|                null|2409:4061:608:ced...|\n",
            "|109154002|1.6.6.4| Jio|1112169282|1622626200889|edddf160ce4ea867|   F| null|                 |        F320B|464ee388-b26b-4e4...|media_access|              null|             null|   70|    LYF|Feature|  4G|Landscape|2.5.3.2|48.0a2|  K|   20210315171215|{null, null, null...|       NA|240x320|1622626199758|1.6.6.4|16226255474632f90...|KaiOS 2.5.3.2|  mahliyamukeshbhai8|Mozilla/5.0 (Mobi...|2405:205:c8c6:460...|\n",
            "|109154002|  6.0.8|null|1218102819|1622626200904|871a9531cecb6d1c|   S|    1|             null|         null|992edb59-889b-454...|media_access|                 0|                0|   46| Xiaomi|   null|  4G|     null|   null|    10|  A|             null|{ffffffff-bca0-3b...|     null|   null|1622626198721|   null|       1622626073116|         null|Suvama.Ankush.Wag...|                null|2409:4042:2402:c0...|\n",
            "|109154002|  6.0.8|null|1032837923|1622626200904|8acf88171981753e|   S|    1|             null|         null|09f4d09b-4136-421...|media_access|                 0|                0|   32|   vivo|   null|WIFI|     null|   null|    10|  A|             null|{00000000-490e-32...|     null|   null|1622626201296|   null|       1622625584347|         null|hemantmadhukarrao...|                null|        103.247.4.78|\n",
            "|109154002|  6.0.8|null|1197657474|1622626200905|98ca0784ab86238e|   S|    1|             null|         null|c6793fbd-7c43-4e2...|media_access|           24.2369|           77.181|  101|   vivo|   null|  4G|     null|   null| 8.1.0|  A|             null|{00000000-490e-32...|     null|   null|1622626198816|   null|       1622623134274|         null|       ril1197657474|                null|2409:4043:2e89:f2...|\n",
            "|109154002|1.6.6.4| Jio|3135559391|1622626200961|fbd03bd3fbf584d4|   F| null|                 |        F320B|65ddab81-6644-412...|media_access|              null|             null|   45|    LYF|Feature|  4G|Landscape|2.5.3.2|48.0a2|  K|   20201009165323|{null, null, null...|       NA|240x320|1622626199835|1.6.6.4|1622625821686ef2b...|KaiOS 2.5.3.2|      ujjalbiswas_50|Mozilla/5.0 (Mobi...|2409:4061:499:887...|\n",
            "|109154002|  6.0.8|null|7150862665|1622626200985|40cf2e977cb78ceb|   S|    1|             null|         null|586cff0a-695e-421...|media_access|                 0|                0|   32|   vivo|   null|  4G|     null|   null| 8.1.0|  A|             null|{00000000-490e-32...|     null|   null|1622626200157|   null|       1622623354122|         null|      serazahmad-060|                null|2409:4063:4d87:53...|\n",
            "+---------+-------+----+----------+-------------+----------------+----+-----+-----------------+-------------+--------------------+------------+------------------+-----------------+-----+-------+-------+----+---------+-------+------+---+-----------------+--------------------+---------+-------+-------------+-------+--------------------+-------------+--------------------+--------------------+--------------------+\n",
            "\n"
          ]
        }
      ]
    },
    {
      "cell_type": "code",
      "source": [
        "from pyspark.sql import SparkSession\n",
        "\n",
        "spark = SparkSession.builder.appName(\"Read JSON\").getOrCreate()\n",
        "\n",
        "\n",
        "df = spark.read.option(\"inferSchema\", True).json(\"/content/short.json\")\n",
        "\n",
        "df.show()\n",
        "\n",
        "df.printSchema()\n",
        "\n",
        "spark.stop()"
      ],
      "metadata": {
        "colab": {
          "base_uri": "https://localhost:8080/"
        },
        "id": "ztSYhqkM9axf",
        "outputId": "565b8a40-9abb-4af0-ca57-4ccf03f4a5dc"
      },
      "execution_count": 13,
      "outputs": [
        {
          "output_type": "stream",
          "name": "stdout",
          "text": [
            "+---------+-------+----+----------+-------------+----------------+----+-----+-----------------+-------------+--------------------+------------+------------------+-----------------+-----+-------+-------+----+---------+-------+------+---+-----------------+--------------------+---------+-------+-------------+-------+--------------------+-------------+--------------------+--------------------+--------------------+\n",
            "|     akey|    avn|   c|     crmid|    dateflink|             did|dtpe|evtno|firmware_revision|hardware_info|              idamid|         key|               lat|              lng|logno|    mnu|    mod| nwk|      ori|os_name|   osv| pf|platform_build_id|                 pro|profileid|    res|          rtc|    sdv|                 sid|     software|                 uid|          user_agent|     x-forwarded-for|\n",
            "+---------+-------+----+----------+-------------+----------------+----+-----+-----------------+-------------+--------------------+------------+------------------+-----------------+-----+-------+-------+----+---------+-------+------+---+-----------------+--------------------+---------+-------+-------------+-------+--------------------+-------------+--------------------+--------------------+--------------------+\n",
            "|109154002|  6.0.8|null|7047321247|1622626200111|5034ef043e8f2749|   S|    1|             null|         null|e281f8e4-bdea-4a5...|media_access|           27.5574|          78.6643|   23|   vivo|   null|  4G|     null|   null|   6.0|  A|             null|{00000000-1ca7-1f...|     null|   null|1622626190636|   null|       1622626172573|         null|       ril7047321247|                null|2409:4053:202:82e...|\n",
            "|109154002|1.6.6.4| Jio|7137774035|1622626200278|1dd45ec58313ebb4|   F| null|                 |         F90M|6bf00fe8-dceb-464...|media_access|30.531692504882812|75.88119506835938|   20|    LYF|Feature|  4G|Landscape|    2.5|48.0a2|  K|   20201029161555|{null, null, null...|       NA|240x320|1622626199874|1.6.6.4|16226261766384e30...|    KaiOS 2.5|      neelamkumar781|Mozilla/5.0 (Mobi...|2409:4055:69d:3cd...|\n",
            "|109154002|  6.0.8|null|1124003909|1622626200293|3bbb560707f29684|   S|    1|             null|         null|ab9096ac-57a8-426...|media_access|           26.9035|           75.729|   54| Xiaomi|   null|  4G|     null|   null| 8.1.0|  A|             null|{00000000-5487-3f...|     null|   null|1622626198459|   null|       1622625884908|         null|         salamkhan19|                null|2409:4052:2e02:60...|\n",
            "|109154002|  6.0.8|null|1132537431|1622626200307|98020733e34987a9|   S|    1|             null|         null|171f3a72-697e-405...|media_access|                 0|                0|  137| Xiaomi|   null|  4G|     null|   null|    10|  A|             null|{00000000-1e5c-e7...|     null|   null|1622626197645|   null|       1622625444655|         null|       ril1132537431|                null|        157.38.63.70|\n",
            "|109154002|  6.0.8|null|3071421502|1622626200452|e463668faa1d5874|   S|    1|             null|         null|b90c740d-6f9f-4ae...|media_access|           22.7284|          88.4677|   93|samsung|   null|WIFI|     null|   null|    11|  A|             null|{ffffffff-b7f8-c9...|     null|   null|1622626199200|   null|       1622625314706|         null|     kingsukghosh-41|                null|       103.76.82.207|\n",
            "|109154002|  6.0.8|null|3140553756|1622626200478|a11e9f558353b398|   S|    1|             null|         null|2c58e8c8-4573-4ce...|media_access|                 0|                0|  120|   vivo|   null|  4G|     null|   null|    11|  A|             null|{ffffffff-8673-95...|     null|   null|1622626196839|   null|       1622624348354|         null|       ril3140553756|                null|2409:4062:18a:749...|\n",
            "|109154002|  6.0.7|null|1140063322|1622626200478|c8e1820703f52ab8|   S|    1|             null|         null|287796f8-f2f0-468...|media_access|                 0|                0|   26|   vivo|   null|  4G|     null|   null| 6.0.1|  A|             null|{ffffffff-8602-d9...|     null|   null|1622626192270|   null|       1622626127116|         null| Arun.Ganpat.Talekar|                null|2409:4042:2d86:43...|\n",
            "|109154002|  6.0.8|null|7086959243|1622626200480|87445dff7df45418|   S|    1|             null|         null|fc0e777a-8544-426...|media_access|           30.5964|          77.2982|   17| Xiaomi|   null|  4G|     null|   null| 7.1.2|  A|             null|{ffffffff-89dd-4e...|     null|   null|1622626198847|   null|       1622626098402|         null|       ril7086959243|                null|2409:4056:e9e:7f6...|\n",
            "|109154002|  6.0.8|null|1108323902|1622626200531|6b0cc8e17335e2ed|   S|    1|             null|         null|409f562a-70bb-4f5...|media_access|                 0|                0|   41|samsung|   null|  4G|     null|   null|    10|  A|             null|{ffffffff-8b21-6e...|     null|   null|1622626199147|   null|       1622624159275|         null|Vasava.Dilipkumar...|                null|2405:204:8106:eeb...|\n",
            "|109154002|  6.0.7|null|3073231160|1622626200540|b5364b4e4efddc9a|   S|    1|             null|         null|7208b35a-f88d-4d9...|media_access|                 0|                0|  107|   OPPO|   null|  4G|     null|   null|     9|  A|             null|{00000000-518e-b7...|     null|   null|1622626197557|   null|       1622621486500|         null|       bulbulibibi75|                null|2409:4061:2091:ec...|\n",
            "|109154002|  6.0.7|null|3122832937|1622626200549|f9ce164bc9da2ce1|   S|    1|             null|         null|852f096b-18c2-4c4...|media_access|                 0|                0|   60| Realme|   null|  4G|     null|   null|     9|  A|             null|{00000000-4c79-47...|     null|   null|1622626200543|   null|       1622625874674|         null|       ril3122832937|                null|2409:4064:2e2f:8a...|\n",
            "|109154002|  6.0.7|null|1135328819|1622626200550|54305bd8b8d84a30|   S|    1|             null|         null|aa9dabb6-aa2f-4ce...|media_access|                 0|                0|   35| realme|   null|WIFI|     null|   null|    10|  A|             null|{00000000-54f8-70...|     null|   null|1622626196977|   null|       1622625787302|         null|    shaikh.anam.bano|                null|       103.123.224.8|\n",
            "|109154002|  6.0.7|null|5101332368|1622626200551|1556662b9b9bfb19|   S|    1|             null|         null|2627d78f-9cad-4c9...|media_access|            13.841|          74.6245|   48| Xiaomi|   null|  4G|     null|   null|    10|  A|             null|{00000000-2011-c0...|     null|   null|1622626198216|   null|       1622624916229|         null|           gokul9517|                null|2409:4071:2088:14...|\n",
            "|109154002|  6.0.8|null|3005330614|1622626200880|a41a92b866e55f40|   S|    1|             null|         null|322de4dc-1748-4b5...|media_access|           21.9791|          87.7809|  120|   OPPO|   null|  4G|     null|   null|    10|  A|             null|{00000000-518f-2b...|     null|   null|1622626196994|   null|       1622624437706|         null|    tapaskumardas-64|                null|2409:4061:608:ced...|\n",
            "|109154002|1.6.6.4| Jio|1112169282|1622626200889|edddf160ce4ea867|   F| null|                 |        F320B|464ee388-b26b-4e4...|media_access|              null|             null|   70|    LYF|Feature|  4G|Landscape|2.5.3.2|48.0a2|  K|   20210315171215|{null, null, null...|       NA|240x320|1622626199758|1.6.6.4|16226255474632f90...|KaiOS 2.5.3.2|  mahliyamukeshbhai8|Mozilla/5.0 (Mobi...|2405:205:c8c6:460...|\n",
            "|109154002|  6.0.8|null|1218102819|1622626200904|871a9531cecb6d1c|   S|    1|             null|         null|992edb59-889b-454...|media_access|                 0|                0|   46| Xiaomi|   null|  4G|     null|   null|    10|  A|             null|{ffffffff-bca0-3b...|     null|   null|1622626198721|   null|       1622626073116|         null|Suvama.Ankush.Wag...|                null|2409:4042:2402:c0...|\n",
            "|109154002|  6.0.8|null|1032837923|1622626200904|8acf88171981753e|   S|    1|             null|         null|09f4d09b-4136-421...|media_access|                 0|                0|   32|   vivo|   null|WIFI|     null|   null|    10|  A|             null|{00000000-490e-32...|     null|   null|1622626201296|   null|       1622625584347|         null|hemantmadhukarrao...|                null|        103.247.4.78|\n",
            "|109154002|  6.0.8|null|1197657474|1622626200905|98ca0784ab86238e|   S|    1|             null|         null|c6793fbd-7c43-4e2...|media_access|           24.2369|           77.181|  101|   vivo|   null|  4G|     null|   null| 8.1.0|  A|             null|{00000000-490e-32...|     null|   null|1622626198816|   null|       1622623134274|         null|       ril1197657474|                null|2409:4043:2e89:f2...|\n",
            "|109154002|1.6.6.4| Jio|3135559391|1622626200961|fbd03bd3fbf584d4|   F| null|                 |        F320B|65ddab81-6644-412...|media_access|              null|             null|   45|    LYF|Feature|  4G|Landscape|2.5.3.2|48.0a2|  K|   20201009165323|{null, null, null...|       NA|240x320|1622626199835|1.6.6.4|1622625821686ef2b...|KaiOS 2.5.3.2|      ujjalbiswas_50|Mozilla/5.0 (Mobi...|2409:4061:499:887...|\n",
            "|109154002|  6.0.8|null|7150862665|1622626200985|40cf2e977cb78ceb|   S|    1|             null|         null|586cff0a-695e-421...|media_access|                 0|                0|   32|   vivo|   null|  4G|     null|   null| 8.1.0|  A|             null|{00000000-490e-32...|     null|   null|1622626200157|   null|       1622623354122|         null|      serazahmad-060|                null|2409:4063:4d87:53...|\n",
            "+---------+-------+----+----------+-------------+----------------+----+-----+-----------------+-------------+--------------------+------------+------------------+-----------------+-----+-------+-------+----+---------+-------+------+---+-----------------+--------------------+---------+-------+-------------+-------+--------------------+-------------+--------------------+--------------------+--------------------+\n",
            "\n",
            "root\n",
            " |-- akey: string (nullable = true)\n",
            " |-- avn: string (nullable = true)\n",
            " |-- c: string (nullable = true)\n",
            " |-- crmid: string (nullable = true)\n",
            " |-- dateflink: long (nullable = true)\n",
            " |-- did: string (nullable = true)\n",
            " |-- dtpe: string (nullable = true)\n",
            " |-- evtno: string (nullable = true)\n",
            " |-- firmware_revision: string (nullable = true)\n",
            " |-- hardware_info: string (nullable = true)\n",
            " |-- idamid: string (nullable = true)\n",
            " |-- key: string (nullable = true)\n",
            " |-- lat: string (nullable = true)\n",
            " |-- lng: string (nullable = true)\n",
            " |-- logno: string (nullable = true)\n",
            " |-- mnu: string (nullable = true)\n",
            " |-- mod: string (nullable = true)\n",
            " |-- nwk: string (nullable = true)\n",
            " |-- ori: string (nullable = true)\n",
            " |-- os_name: string (nullable = true)\n",
            " |-- osv: string (nullable = true)\n",
            " |-- pf: string (nullable = true)\n",
            " |-- platform_build_id: string (nullable = true)\n",
            " |-- pro: struct (nullable = true)\n",
            " |    |-- HARD_CODE_DEVICE_ID: string (nullable = true)\n",
            " |    |-- avr: string (nullable = true)\n",
            " |    |-- bbc: string (nullable = true)\n",
            " |    |-- bbd: string (nullable = true)\n",
            " |    |-- bc: string (nullable = true)\n",
            " |    |-- bd: string (nullable = true)\n",
            " |    |-- bdl: string (nullable = true)\n",
            " |    |-- bufferdetails: string (nullable = true)\n",
            " |    |-- cellid: string (nullable = true)\n",
            " |    |-- cg: string (nullable = true)\n",
            " |    |-- ch: string (nullable = true)\n",
            " |    |-- channel_id: string (nullable = true)\n",
            " |    |-- channel_package_id: array (nullable = true)\n",
            " |    |    |-- element: string (containsNull = true)\n",
            " |    |-- cl: string (nullable = true)\n",
            " |    |-- client_package_id: array (nullable = true)\n",
            " |    |    |-- element: string (containsNull = true)\n",
            " |    |-- codec: string (nullable = true)\n",
            " |    |-- d: string (nullable = true)\n",
            " |    |-- dm: string (nullable = true)\n",
            " |    |-- encryption: string (nullable = true)\n",
            " |    |-- ep: string (nullable = true)\n",
            " |    |-- finish: string (nullable = true)\n",
            " |    |-- getchannelurltime: double (nullable = true)\n",
            " |    |-- index: string (nullable = true)\n",
            " |    |-- isottuser: string (nullable = true)\n",
            " |    |-- jio_id: string (nullable = true)\n",
            " |    |-- keywords: string (nullable = true)\n",
            " |    |-- lac: string (nullable = true)\n",
            " |    |-- mcc: string (nullable = true)\n",
            " |    |-- mnc: string (nullable = true)\n",
            " |    |-- n: string (nullable = true)\n",
            " |    |-- nte: string (nullable = true)\n",
            " |    |-- opr: string (nullable = true)\n",
            " |    |-- pci: string (nullable = true)\n",
            " |    |-- playback_screen: string (nullable = true)\n",
            " |    |-- player: string (nullable = true)\n",
            " |    |-- pn: string (nullable = true)\n",
            " |    |-- prof: string (nullable = true)\n",
            " |    |-- program_date: string (nullable = true)\n",
            " |    |-- program_time: string (nullable = true)\n",
            " |    |-- prow: string (nullable = true)\n",
            " |    |-- rsrp: string (nullable = true)\n",
            " |    |-- rsrq: string (nullable = true)\n",
            " |    |-- rssi: string (nullable = true)\n",
            " |    |-- rtc: string (nullable = true)\n",
            " |    |-- serial_number: string (nullable = true)\n",
            " |    |-- settype: string (nullable = true)\n",
            " |    |-- show_genre: string (nullable = true)\n",
            " |    |-- source: string (nullable = true)\n",
            " |    |-- ss: string (nullable = true)\n",
            " |    |-- start: string (nullable = true)\n",
            " |    |-- startuptime: string (nullable = true)\n",
            " |    |-- t: string (nullable = true)\n",
            " |    |-- tac: string (nullable = true)\n",
            " |    |-- tac_id: string (nullable = true)\n",
            " |    |-- timestamp: string (nullable = true)\n",
            " |    |-- u: string (nullable = true)\n",
            " |    |-- unique_session_id: string (nullable = true)\n",
            " |    |-- unique_session_timestamp: string (nullable = true)\n",
            " |    |-- watch_time_dock: string (nullable = true)\n",
            " |    |-- watch_time_landscape: string (nullable = true)\n",
            " |    |-- watch_time_pip: string (nullable = true)\n",
            " |    |-- watch_time_portrait: string (nullable = true)\n",
            " |-- profileid: string (nullable = true)\n",
            " |-- res: string (nullable = true)\n",
            " |-- rtc: string (nullable = true)\n",
            " |-- sdv: string (nullable = true)\n",
            " |-- sid: string (nullable = true)\n",
            " |-- software: string (nullable = true)\n",
            " |-- uid: string (nullable = true)\n",
            " |-- user_agent: string (nullable = true)\n",
            " |-- x-forwarded-for: string (nullable = true)\n",
            "\n"
          ]
        }
      ]
    },
    {
      "cell_type": "code",
      "source": [
        "from pyspark.sql import SparkSession\n",
        "\n",
        "spark = SparkSession.builder.appName(\"Read JSON with Inferred Schema\").getOrCreate()\n",
        "\n",
        "\n",
        "df = spark.read.option(\"inferSchema\", \"true\").json(\"/content/short.json\")\n",
        "\n",
        "\n",
        "\n",
        "df.select(\"avn\", \"akey\").show()\n",
        "\n",
        "\n",
        "spark.stop()"
      ],
      "metadata": {
        "colab": {
          "base_uri": "https://localhost:8080/"
        },
        "id": "GuQ1nIbk9dsq",
        "outputId": "da45a7ef-ba69-4030-fec0-36569634b8b8"
      },
      "execution_count": 14,
      "outputs": [
        {
          "output_type": "stream",
          "name": "stdout",
          "text": [
            "+-------+---------+\n",
            "|    avn|     akey|\n",
            "+-------+---------+\n",
            "|  6.0.8|109154002|\n",
            "|1.6.6.4|109154002|\n",
            "|  6.0.8|109154002|\n",
            "|  6.0.8|109154002|\n",
            "|  6.0.8|109154002|\n",
            "|  6.0.8|109154002|\n",
            "|  6.0.7|109154002|\n",
            "|  6.0.8|109154002|\n",
            "|  6.0.8|109154002|\n",
            "|  6.0.7|109154002|\n",
            "|  6.0.7|109154002|\n",
            "|  6.0.7|109154002|\n",
            "|  6.0.7|109154002|\n",
            "|  6.0.8|109154002|\n",
            "|1.6.6.4|109154002|\n",
            "|  6.0.8|109154002|\n",
            "|  6.0.8|109154002|\n",
            "|  6.0.8|109154002|\n",
            "|1.6.6.4|109154002|\n",
            "|  6.0.8|109154002|\n",
            "+-------+---------+\n",
            "\n"
          ]
        }
      ]
    },
    {
      "cell_type": "code",
      "source": [
        "from pyspark.sql import SparkSession\n",
        "from pyspark.sql.functions import col\n",
        "\n",
        "spark = SparkSession.builder.appName(\"Read JSON with Inferred Schema\").getOrCreate()\n",
        "\n",
        "\n",
        "df = spark.read.option(\"inferSchema\", \"true\").json(\"/content/short.json\")\n",
        "\n",
        "\n",
        "df.printSchema()\n",
        "\n",
        "\n",
        "df = df.withColumn(\"akey\", col(\"akey\").cast(\"double\"))\n",
        "\n",
        "df = df.withColumn(\"newColumn\", col(\"akey\") + 2.0)\n",
        "\n",
        "df.select(\"newColumn\", \"akey\").show()\n",
        "\n",
        "df.filter(col(\"akey\") > 2).show()\n",
        "\n",
        "df.filter(col(\"newColumn\") > col(\"akey\")).show()\n",
        "\n",
        "df.select(\"avn\", \"akey\").show()\n",
        "\n",
        "spark.stop()"
      ],
      "metadata": {
        "colab": {
          "base_uri": "https://localhost:8080/"
        },
        "id": "kfWFyX0Z9gSd",
        "outputId": "ddb8ee8e-a5a2-44ed-f294-e50cfd9a2c52"
      },
      "execution_count": 15,
      "outputs": [
        {
          "output_type": "stream",
          "name": "stdout",
          "text": [
            "root\n",
            " |-- akey: string (nullable = true)\n",
            " |-- avn: string (nullable = true)\n",
            " |-- c: string (nullable = true)\n",
            " |-- crmid: string (nullable = true)\n",
            " |-- dateflink: long (nullable = true)\n",
            " |-- did: string (nullable = true)\n",
            " |-- dtpe: string (nullable = true)\n",
            " |-- evtno: string (nullable = true)\n",
            " |-- firmware_revision: string (nullable = true)\n",
            " |-- hardware_info: string (nullable = true)\n",
            " |-- idamid: string (nullable = true)\n",
            " |-- key: string (nullable = true)\n",
            " |-- lat: string (nullable = true)\n",
            " |-- lng: string (nullable = true)\n",
            " |-- logno: string (nullable = true)\n",
            " |-- mnu: string (nullable = true)\n",
            " |-- mod: string (nullable = true)\n",
            " |-- nwk: string (nullable = true)\n",
            " |-- ori: string (nullable = true)\n",
            " |-- os_name: string (nullable = true)\n",
            " |-- osv: string (nullable = true)\n",
            " |-- pf: string (nullable = true)\n",
            " |-- platform_build_id: string (nullable = true)\n",
            " |-- pro: struct (nullable = true)\n",
            " |    |-- HARD_CODE_DEVICE_ID: string (nullable = true)\n",
            " |    |-- avr: string (nullable = true)\n",
            " |    |-- bbc: string (nullable = true)\n",
            " |    |-- bbd: string (nullable = true)\n",
            " |    |-- bc: string (nullable = true)\n",
            " |    |-- bd: string (nullable = true)\n",
            " |    |-- bdl: string (nullable = true)\n",
            " |    |-- bufferdetails: string (nullable = true)\n",
            " |    |-- cellid: string (nullable = true)\n",
            " |    |-- cg: string (nullable = true)\n",
            " |    |-- ch: string (nullable = true)\n",
            " |    |-- channel_id: string (nullable = true)\n",
            " |    |-- channel_package_id: array (nullable = true)\n",
            " |    |    |-- element: string (containsNull = true)\n",
            " |    |-- cl: string (nullable = true)\n",
            " |    |-- client_package_id: array (nullable = true)\n",
            " |    |    |-- element: string (containsNull = true)\n",
            " |    |-- codec: string (nullable = true)\n",
            " |    |-- d: string (nullable = true)\n",
            " |    |-- dm: string (nullable = true)\n",
            " |    |-- encryption: string (nullable = true)\n",
            " |    |-- ep: string (nullable = true)\n",
            " |    |-- finish: string (nullable = true)\n",
            " |    |-- getchannelurltime: double (nullable = true)\n",
            " |    |-- index: string (nullable = true)\n",
            " |    |-- isottuser: string (nullable = true)\n",
            " |    |-- jio_id: string (nullable = true)\n",
            " |    |-- keywords: string (nullable = true)\n",
            " |    |-- lac: string (nullable = true)\n",
            " |    |-- mcc: string (nullable = true)\n",
            " |    |-- mnc: string (nullable = true)\n",
            " |    |-- n: string (nullable = true)\n",
            " |    |-- nte: string (nullable = true)\n",
            " |    |-- opr: string (nullable = true)\n",
            " |    |-- pci: string (nullable = true)\n",
            " |    |-- playback_screen: string (nullable = true)\n",
            " |    |-- player: string (nullable = true)\n",
            " |    |-- pn: string (nullable = true)\n",
            " |    |-- prof: string (nullable = true)\n",
            " |    |-- program_date: string (nullable = true)\n",
            " |    |-- program_time: string (nullable = true)\n",
            " |    |-- prow: string (nullable = true)\n",
            " |    |-- rsrp: string (nullable = true)\n",
            " |    |-- rsrq: string (nullable = true)\n",
            " |    |-- rssi: string (nullable = true)\n",
            " |    |-- rtc: string (nullable = true)\n",
            " |    |-- serial_number: string (nullable = true)\n",
            " |    |-- settype: string (nullable = true)\n",
            " |    |-- show_genre: string (nullable = true)\n",
            " |    |-- source: string (nullable = true)\n",
            " |    |-- ss: string (nullable = true)\n",
            " |    |-- start: string (nullable = true)\n",
            " |    |-- startuptime: string (nullable = true)\n",
            " |    |-- t: string (nullable = true)\n",
            " |    |-- tac: string (nullable = true)\n",
            " |    |-- tac_id: string (nullable = true)\n",
            " |    |-- timestamp: string (nullable = true)\n",
            " |    |-- u: string (nullable = true)\n",
            " |    |-- unique_session_id: string (nullable = true)\n",
            " |    |-- unique_session_timestamp: string (nullable = true)\n",
            " |    |-- watch_time_dock: string (nullable = true)\n",
            " |    |-- watch_time_landscape: string (nullable = true)\n",
            " |    |-- watch_time_pip: string (nullable = true)\n",
            " |    |-- watch_time_portrait: string (nullable = true)\n",
            " |-- profileid: string (nullable = true)\n",
            " |-- res: string (nullable = true)\n",
            " |-- rtc: string (nullable = true)\n",
            " |-- sdv: string (nullable = true)\n",
            " |-- sid: string (nullable = true)\n",
            " |-- software: string (nullable = true)\n",
            " |-- uid: string (nullable = true)\n",
            " |-- user_agent: string (nullable = true)\n",
            " |-- x-forwarded-for: string (nullable = true)\n",
            "\n",
            "+------------+------------+\n",
            "|   newColumn|        akey|\n",
            "+------------+------------+\n",
            "|1.09154004E8|1.09154002E8|\n",
            "|1.09154004E8|1.09154002E8|\n",
            "|1.09154004E8|1.09154002E8|\n",
            "|1.09154004E8|1.09154002E8|\n",
            "|1.09154004E8|1.09154002E8|\n",
            "|1.09154004E8|1.09154002E8|\n",
            "|1.09154004E8|1.09154002E8|\n",
            "|1.09154004E8|1.09154002E8|\n",
            "|1.09154004E8|1.09154002E8|\n",
            "|1.09154004E8|1.09154002E8|\n",
            "|1.09154004E8|1.09154002E8|\n",
            "|1.09154004E8|1.09154002E8|\n",
            "|1.09154004E8|1.09154002E8|\n",
            "|1.09154004E8|1.09154002E8|\n",
            "|1.09154004E8|1.09154002E8|\n",
            "|1.09154004E8|1.09154002E8|\n",
            "|1.09154004E8|1.09154002E8|\n",
            "|1.09154004E8|1.09154002E8|\n",
            "|1.09154004E8|1.09154002E8|\n",
            "|1.09154004E8|1.09154002E8|\n",
            "+------------+------------+\n",
            "\n",
            "+------------+-------+----+----------+-------------+----------------+----+-----+-----------------+-------------+--------------------+------------+------------------+-----------------+-----+-------+-------+----+---------+-------+------+---+-----------------+--------------------+---------+-------+-------------+-------+--------------------+-------------+--------------------+--------------------+--------------------+------------+\n",
            "|        akey|    avn|   c|     crmid|    dateflink|             did|dtpe|evtno|firmware_revision|hardware_info|              idamid|         key|               lat|              lng|logno|    mnu|    mod| nwk|      ori|os_name|   osv| pf|platform_build_id|                 pro|profileid|    res|          rtc|    sdv|                 sid|     software|                 uid|          user_agent|     x-forwarded-for|   newColumn|\n",
            "+------------+-------+----+----------+-------------+----------------+----+-----+-----------------+-------------+--------------------+------------+------------------+-----------------+-----+-------+-------+----+---------+-------+------+---+-----------------+--------------------+---------+-------+-------------+-------+--------------------+-------------+--------------------+--------------------+--------------------+------------+\n",
            "|1.09154002E8|  6.0.8|null|7047321247|1622626200111|5034ef043e8f2749|   S|    1|             null|         null|e281f8e4-bdea-4a5...|media_access|           27.5574|          78.6643|   23|   vivo|   null|  4G|     null|   null|   6.0|  A|             null|{00000000-1ca7-1f...|     null|   null|1622626190636|   null|       1622626172573|         null|       ril7047321247|                null|2409:4053:202:82e...|1.09154004E8|\n",
            "|1.09154002E8|1.6.6.4| Jio|7137774035|1622626200278|1dd45ec58313ebb4|   F| null|                 |         F90M|6bf00fe8-dceb-464...|media_access|30.531692504882812|75.88119506835938|   20|    LYF|Feature|  4G|Landscape|    2.5|48.0a2|  K|   20201029161555|{null, null, null...|       NA|240x320|1622626199874|1.6.6.4|16226261766384e30...|    KaiOS 2.5|      neelamkumar781|Mozilla/5.0 (Mobi...|2409:4055:69d:3cd...|1.09154004E8|\n",
            "|1.09154002E8|  6.0.8|null|1124003909|1622626200293|3bbb560707f29684|   S|    1|             null|         null|ab9096ac-57a8-426...|media_access|           26.9035|           75.729|   54| Xiaomi|   null|  4G|     null|   null| 8.1.0|  A|             null|{00000000-5487-3f...|     null|   null|1622626198459|   null|       1622625884908|         null|         salamkhan19|                null|2409:4052:2e02:60...|1.09154004E8|\n",
            "|1.09154002E8|  6.0.8|null|1132537431|1622626200307|98020733e34987a9|   S|    1|             null|         null|171f3a72-697e-405...|media_access|                 0|                0|  137| Xiaomi|   null|  4G|     null|   null|    10|  A|             null|{00000000-1e5c-e7...|     null|   null|1622626197645|   null|       1622625444655|         null|       ril1132537431|                null|        157.38.63.70|1.09154004E8|\n",
            "|1.09154002E8|  6.0.8|null|3071421502|1622626200452|e463668faa1d5874|   S|    1|             null|         null|b90c740d-6f9f-4ae...|media_access|           22.7284|          88.4677|   93|samsung|   null|WIFI|     null|   null|    11|  A|             null|{ffffffff-b7f8-c9...|     null|   null|1622626199200|   null|       1622625314706|         null|     kingsukghosh-41|                null|       103.76.82.207|1.09154004E8|\n",
            "|1.09154002E8|  6.0.8|null|3140553756|1622626200478|a11e9f558353b398|   S|    1|             null|         null|2c58e8c8-4573-4ce...|media_access|                 0|                0|  120|   vivo|   null|  4G|     null|   null|    11|  A|             null|{ffffffff-8673-95...|     null|   null|1622626196839|   null|       1622624348354|         null|       ril3140553756|                null|2409:4062:18a:749...|1.09154004E8|\n",
            "|1.09154002E8|  6.0.7|null|1140063322|1622626200478|c8e1820703f52ab8|   S|    1|             null|         null|287796f8-f2f0-468...|media_access|                 0|                0|   26|   vivo|   null|  4G|     null|   null| 6.0.1|  A|             null|{ffffffff-8602-d9...|     null|   null|1622626192270|   null|       1622626127116|         null| Arun.Ganpat.Talekar|                null|2409:4042:2d86:43...|1.09154004E8|\n",
            "|1.09154002E8|  6.0.8|null|7086959243|1622626200480|87445dff7df45418|   S|    1|             null|         null|fc0e777a-8544-426...|media_access|           30.5964|          77.2982|   17| Xiaomi|   null|  4G|     null|   null| 7.1.2|  A|             null|{ffffffff-89dd-4e...|     null|   null|1622626198847|   null|       1622626098402|         null|       ril7086959243|                null|2409:4056:e9e:7f6...|1.09154004E8|\n",
            "|1.09154002E8|  6.0.8|null|1108323902|1622626200531|6b0cc8e17335e2ed|   S|    1|             null|         null|409f562a-70bb-4f5...|media_access|                 0|                0|   41|samsung|   null|  4G|     null|   null|    10|  A|             null|{ffffffff-8b21-6e...|     null|   null|1622626199147|   null|       1622624159275|         null|Vasava.Dilipkumar...|                null|2405:204:8106:eeb...|1.09154004E8|\n",
            "|1.09154002E8|  6.0.7|null|3073231160|1622626200540|b5364b4e4efddc9a|   S|    1|             null|         null|7208b35a-f88d-4d9...|media_access|                 0|                0|  107|   OPPO|   null|  4G|     null|   null|     9|  A|             null|{00000000-518e-b7...|     null|   null|1622626197557|   null|       1622621486500|         null|       bulbulibibi75|                null|2409:4061:2091:ec...|1.09154004E8|\n",
            "|1.09154002E8|  6.0.7|null|3122832937|1622626200549|f9ce164bc9da2ce1|   S|    1|             null|         null|852f096b-18c2-4c4...|media_access|                 0|                0|   60| Realme|   null|  4G|     null|   null|     9|  A|             null|{00000000-4c79-47...|     null|   null|1622626200543|   null|       1622625874674|         null|       ril3122832937|                null|2409:4064:2e2f:8a...|1.09154004E8|\n",
            "|1.09154002E8|  6.0.7|null|1135328819|1622626200550|54305bd8b8d84a30|   S|    1|             null|         null|aa9dabb6-aa2f-4ce...|media_access|                 0|                0|   35| realme|   null|WIFI|     null|   null|    10|  A|             null|{00000000-54f8-70...|     null|   null|1622626196977|   null|       1622625787302|         null|    shaikh.anam.bano|                null|       103.123.224.8|1.09154004E8|\n",
            "|1.09154002E8|  6.0.7|null|5101332368|1622626200551|1556662b9b9bfb19|   S|    1|             null|         null|2627d78f-9cad-4c9...|media_access|            13.841|          74.6245|   48| Xiaomi|   null|  4G|     null|   null|    10|  A|             null|{00000000-2011-c0...|     null|   null|1622626198216|   null|       1622624916229|         null|           gokul9517|                null|2409:4071:2088:14...|1.09154004E8|\n",
            "|1.09154002E8|  6.0.8|null|3005330614|1622626200880|a41a92b866e55f40|   S|    1|             null|         null|322de4dc-1748-4b5...|media_access|           21.9791|          87.7809|  120|   OPPO|   null|  4G|     null|   null|    10|  A|             null|{00000000-518f-2b...|     null|   null|1622626196994|   null|       1622624437706|         null|    tapaskumardas-64|                null|2409:4061:608:ced...|1.09154004E8|\n",
            "|1.09154002E8|1.6.6.4| Jio|1112169282|1622626200889|edddf160ce4ea867|   F| null|                 |        F320B|464ee388-b26b-4e4...|media_access|              null|             null|   70|    LYF|Feature|  4G|Landscape|2.5.3.2|48.0a2|  K|   20210315171215|{null, null, null...|       NA|240x320|1622626199758|1.6.6.4|16226255474632f90...|KaiOS 2.5.3.2|  mahliyamukeshbhai8|Mozilla/5.0 (Mobi...|2405:205:c8c6:460...|1.09154004E8|\n",
            "|1.09154002E8|  6.0.8|null|1218102819|1622626200904|871a9531cecb6d1c|   S|    1|             null|         null|992edb59-889b-454...|media_access|                 0|                0|   46| Xiaomi|   null|  4G|     null|   null|    10|  A|             null|{ffffffff-bca0-3b...|     null|   null|1622626198721|   null|       1622626073116|         null|Suvama.Ankush.Wag...|                null|2409:4042:2402:c0...|1.09154004E8|\n",
            "|1.09154002E8|  6.0.8|null|1032837923|1622626200904|8acf88171981753e|   S|    1|             null|         null|09f4d09b-4136-421...|media_access|                 0|                0|   32|   vivo|   null|WIFI|     null|   null|    10|  A|             null|{00000000-490e-32...|     null|   null|1622626201296|   null|       1622625584347|         null|hemantmadhukarrao...|                null|        103.247.4.78|1.09154004E8|\n",
            "|1.09154002E8|  6.0.8|null|1197657474|1622626200905|98ca0784ab86238e|   S|    1|             null|         null|c6793fbd-7c43-4e2...|media_access|           24.2369|           77.181|  101|   vivo|   null|  4G|     null|   null| 8.1.0|  A|             null|{00000000-490e-32...|     null|   null|1622626198816|   null|       1622623134274|         null|       ril1197657474|                null|2409:4043:2e89:f2...|1.09154004E8|\n",
            "|1.09154002E8|1.6.6.4| Jio|3135559391|1622626200961|fbd03bd3fbf584d4|   F| null|                 |        F320B|65ddab81-6644-412...|media_access|              null|             null|   45|    LYF|Feature|  4G|Landscape|2.5.3.2|48.0a2|  K|   20201009165323|{null, null, null...|       NA|240x320|1622626199835|1.6.6.4|1622625821686ef2b...|KaiOS 2.5.3.2|      ujjalbiswas_50|Mozilla/5.0 (Mobi...|2409:4061:499:887...|1.09154004E8|\n",
            "|1.09154002E8|  6.0.8|null|7150862665|1622626200985|40cf2e977cb78ceb|   S|    1|             null|         null|586cff0a-695e-421...|media_access|                 0|                0|   32|   vivo|   null|  4G|     null|   null| 8.1.0|  A|             null|{00000000-490e-32...|     null|   null|1622626200157|   null|       1622623354122|         null|      serazahmad-060|                null|2409:4063:4d87:53...|1.09154004E8|\n",
            "+------------+-------+----+----------+-------------+----------------+----+-----+-----------------+-------------+--------------------+------------+------------------+-----------------+-----+-------+-------+----+---------+-------+------+---+-----------------+--------------------+---------+-------+-------------+-------+--------------------+-------------+--------------------+--------------------+--------------------+------------+\n",
            "\n",
            "+------------+-------+----+----------+-------------+----------------+----+-----+-----------------+-------------+--------------------+------------+------------------+-----------------+-----+-------+-------+----+---------+-------+------+---+-----------------+--------------------+---------+-------+-------------+-------+--------------------+-------------+--------------------+--------------------+--------------------+------------+\n",
            "|        akey|    avn|   c|     crmid|    dateflink|             did|dtpe|evtno|firmware_revision|hardware_info|              idamid|         key|               lat|              lng|logno|    mnu|    mod| nwk|      ori|os_name|   osv| pf|platform_build_id|                 pro|profileid|    res|          rtc|    sdv|                 sid|     software|                 uid|          user_agent|     x-forwarded-for|   newColumn|\n",
            "+------------+-------+----+----------+-------------+----------------+----+-----+-----------------+-------------+--------------------+------------+------------------+-----------------+-----+-------+-------+----+---------+-------+------+---+-----------------+--------------------+---------+-------+-------------+-------+--------------------+-------------+--------------------+--------------------+--------------------+------------+\n",
            "|1.09154002E8|  6.0.8|null|7047321247|1622626200111|5034ef043e8f2749|   S|    1|             null|         null|e281f8e4-bdea-4a5...|media_access|           27.5574|          78.6643|   23|   vivo|   null|  4G|     null|   null|   6.0|  A|             null|{00000000-1ca7-1f...|     null|   null|1622626190636|   null|       1622626172573|         null|       ril7047321247|                null|2409:4053:202:82e...|1.09154004E8|\n",
            "|1.09154002E8|1.6.6.4| Jio|7137774035|1622626200278|1dd45ec58313ebb4|   F| null|                 |         F90M|6bf00fe8-dceb-464...|media_access|30.531692504882812|75.88119506835938|   20|    LYF|Feature|  4G|Landscape|    2.5|48.0a2|  K|   20201029161555|{null, null, null...|       NA|240x320|1622626199874|1.6.6.4|16226261766384e30...|    KaiOS 2.5|      neelamkumar781|Mozilla/5.0 (Mobi...|2409:4055:69d:3cd...|1.09154004E8|\n",
            "|1.09154002E8|  6.0.8|null|1124003909|1622626200293|3bbb560707f29684|   S|    1|             null|         null|ab9096ac-57a8-426...|media_access|           26.9035|           75.729|   54| Xiaomi|   null|  4G|     null|   null| 8.1.0|  A|             null|{00000000-5487-3f...|     null|   null|1622626198459|   null|       1622625884908|         null|         salamkhan19|                null|2409:4052:2e02:60...|1.09154004E8|\n",
            "|1.09154002E8|  6.0.8|null|1132537431|1622626200307|98020733e34987a9|   S|    1|             null|         null|171f3a72-697e-405...|media_access|                 0|                0|  137| Xiaomi|   null|  4G|     null|   null|    10|  A|             null|{00000000-1e5c-e7...|     null|   null|1622626197645|   null|       1622625444655|         null|       ril1132537431|                null|        157.38.63.70|1.09154004E8|\n",
            "|1.09154002E8|  6.0.8|null|3071421502|1622626200452|e463668faa1d5874|   S|    1|             null|         null|b90c740d-6f9f-4ae...|media_access|           22.7284|          88.4677|   93|samsung|   null|WIFI|     null|   null|    11|  A|             null|{ffffffff-b7f8-c9...|     null|   null|1622626199200|   null|       1622625314706|         null|     kingsukghosh-41|                null|       103.76.82.207|1.09154004E8|\n",
            "|1.09154002E8|  6.0.8|null|3140553756|1622626200478|a11e9f558353b398|   S|    1|             null|         null|2c58e8c8-4573-4ce...|media_access|                 0|                0|  120|   vivo|   null|  4G|     null|   null|    11|  A|             null|{ffffffff-8673-95...|     null|   null|1622626196839|   null|       1622624348354|         null|       ril3140553756|                null|2409:4062:18a:749...|1.09154004E8|\n",
            "|1.09154002E8|  6.0.7|null|1140063322|1622626200478|c8e1820703f52ab8|   S|    1|             null|         null|287796f8-f2f0-468...|media_access|                 0|                0|   26|   vivo|   null|  4G|     null|   null| 6.0.1|  A|             null|{ffffffff-8602-d9...|     null|   null|1622626192270|   null|       1622626127116|         null| Arun.Ganpat.Talekar|                null|2409:4042:2d86:43...|1.09154004E8|\n",
            "|1.09154002E8|  6.0.8|null|7086959243|1622626200480|87445dff7df45418|   S|    1|             null|         null|fc0e777a-8544-426...|media_access|           30.5964|          77.2982|   17| Xiaomi|   null|  4G|     null|   null| 7.1.2|  A|             null|{ffffffff-89dd-4e...|     null|   null|1622626198847|   null|       1622626098402|         null|       ril7086959243|                null|2409:4056:e9e:7f6...|1.09154004E8|\n",
            "|1.09154002E8|  6.0.8|null|1108323902|1622626200531|6b0cc8e17335e2ed|   S|    1|             null|         null|409f562a-70bb-4f5...|media_access|                 0|                0|   41|samsung|   null|  4G|     null|   null|    10|  A|             null|{ffffffff-8b21-6e...|     null|   null|1622626199147|   null|       1622624159275|         null|Vasava.Dilipkumar...|                null|2405:204:8106:eeb...|1.09154004E8|\n",
            "|1.09154002E8|  6.0.7|null|3073231160|1622626200540|b5364b4e4efddc9a|   S|    1|             null|         null|7208b35a-f88d-4d9...|media_access|                 0|                0|  107|   OPPO|   null|  4G|     null|   null|     9|  A|             null|{00000000-518e-b7...|     null|   null|1622626197557|   null|       1622621486500|         null|       bulbulibibi75|                null|2409:4061:2091:ec...|1.09154004E8|\n",
            "|1.09154002E8|  6.0.7|null|3122832937|1622626200549|f9ce164bc9da2ce1|   S|    1|             null|         null|852f096b-18c2-4c4...|media_access|                 0|                0|   60| Realme|   null|  4G|     null|   null|     9|  A|             null|{00000000-4c79-47...|     null|   null|1622626200543|   null|       1622625874674|         null|       ril3122832937|                null|2409:4064:2e2f:8a...|1.09154004E8|\n",
            "|1.09154002E8|  6.0.7|null|1135328819|1622626200550|54305bd8b8d84a30|   S|    1|             null|         null|aa9dabb6-aa2f-4ce...|media_access|                 0|                0|   35| realme|   null|WIFI|     null|   null|    10|  A|             null|{00000000-54f8-70...|     null|   null|1622626196977|   null|       1622625787302|         null|    shaikh.anam.bano|                null|       103.123.224.8|1.09154004E8|\n",
            "|1.09154002E8|  6.0.7|null|5101332368|1622626200551|1556662b9b9bfb19|   S|    1|             null|         null|2627d78f-9cad-4c9...|media_access|            13.841|          74.6245|   48| Xiaomi|   null|  4G|     null|   null|    10|  A|             null|{00000000-2011-c0...|     null|   null|1622626198216|   null|       1622624916229|         null|           gokul9517|                null|2409:4071:2088:14...|1.09154004E8|\n",
            "|1.09154002E8|  6.0.8|null|3005330614|1622626200880|a41a92b866e55f40|   S|    1|             null|         null|322de4dc-1748-4b5...|media_access|           21.9791|          87.7809|  120|   OPPO|   null|  4G|     null|   null|    10|  A|             null|{00000000-518f-2b...|     null|   null|1622626196994|   null|       1622624437706|         null|    tapaskumardas-64|                null|2409:4061:608:ced...|1.09154004E8|\n",
            "|1.09154002E8|1.6.6.4| Jio|1112169282|1622626200889|edddf160ce4ea867|   F| null|                 |        F320B|464ee388-b26b-4e4...|media_access|              null|             null|   70|    LYF|Feature|  4G|Landscape|2.5.3.2|48.0a2|  K|   20210315171215|{null, null, null...|       NA|240x320|1622626199758|1.6.6.4|16226255474632f90...|KaiOS 2.5.3.2|  mahliyamukeshbhai8|Mozilla/5.0 (Mobi...|2405:205:c8c6:460...|1.09154004E8|\n",
            "|1.09154002E8|  6.0.8|null|1218102819|1622626200904|871a9531cecb6d1c|   S|    1|             null|         null|992edb59-889b-454...|media_access|                 0|                0|   46| Xiaomi|   null|  4G|     null|   null|    10|  A|             null|{ffffffff-bca0-3b...|     null|   null|1622626198721|   null|       1622626073116|         null|Suvama.Ankush.Wag...|                null|2409:4042:2402:c0...|1.09154004E8|\n",
            "|1.09154002E8|  6.0.8|null|1032837923|1622626200904|8acf88171981753e|   S|    1|             null|         null|09f4d09b-4136-421...|media_access|                 0|                0|   32|   vivo|   null|WIFI|     null|   null|    10|  A|             null|{00000000-490e-32...|     null|   null|1622626201296|   null|       1622625584347|         null|hemantmadhukarrao...|                null|        103.247.4.78|1.09154004E8|\n",
            "|1.09154002E8|  6.0.8|null|1197657474|1622626200905|98ca0784ab86238e|   S|    1|             null|         null|c6793fbd-7c43-4e2...|media_access|           24.2369|           77.181|  101|   vivo|   null|  4G|     null|   null| 8.1.0|  A|             null|{00000000-490e-32...|     null|   null|1622626198816|   null|       1622623134274|         null|       ril1197657474|                null|2409:4043:2e89:f2...|1.09154004E8|\n",
            "|1.09154002E8|1.6.6.4| Jio|3135559391|1622626200961|fbd03bd3fbf584d4|   F| null|                 |        F320B|65ddab81-6644-412...|media_access|              null|             null|   45|    LYF|Feature|  4G|Landscape|2.5.3.2|48.0a2|  K|   20201009165323|{null, null, null...|       NA|240x320|1622626199835|1.6.6.4|1622625821686ef2b...|KaiOS 2.5.3.2|      ujjalbiswas_50|Mozilla/5.0 (Mobi...|2409:4061:499:887...|1.09154004E8|\n",
            "|1.09154002E8|  6.0.8|null|7150862665|1622626200985|40cf2e977cb78ceb|   S|    1|             null|         null|586cff0a-695e-421...|media_access|                 0|                0|   32|   vivo|   null|  4G|     null|   null| 8.1.0|  A|             null|{00000000-490e-32...|     null|   null|1622626200157|   null|       1622623354122|         null|      serazahmad-060|                null|2409:4063:4d87:53...|1.09154004E8|\n",
            "+------------+-------+----+----------+-------------+----------------+----+-----+-----------------+-------------+--------------------+------------+------------------+-----------------+-----+-------+-------+----+---------+-------+------+---+-----------------+--------------------+---------+-------+-------------+-------+--------------------+-------------+--------------------+--------------------+--------------------+------------+\n",
            "\n",
            "+-------+------------+\n",
            "|    avn|        akey|\n",
            "+-------+------------+\n",
            "|  6.0.8|1.09154002E8|\n",
            "|1.6.6.4|1.09154002E8|\n",
            "|  6.0.8|1.09154002E8|\n",
            "|  6.0.8|1.09154002E8|\n",
            "|  6.0.8|1.09154002E8|\n",
            "|  6.0.8|1.09154002E8|\n",
            "|  6.0.7|1.09154002E8|\n",
            "|  6.0.8|1.09154002E8|\n",
            "|  6.0.8|1.09154002E8|\n",
            "|  6.0.7|1.09154002E8|\n",
            "|  6.0.7|1.09154002E8|\n",
            "|  6.0.7|1.09154002E8|\n",
            "|  6.0.7|1.09154002E8|\n",
            "|  6.0.8|1.09154002E8|\n",
            "|1.6.6.4|1.09154002E8|\n",
            "|  6.0.8|1.09154002E8|\n",
            "|  6.0.8|1.09154002E8|\n",
            "|  6.0.8|1.09154002E8|\n",
            "|1.6.6.4|1.09154002E8|\n",
            "|  6.0.8|1.09154002E8|\n",
            "+-------+------------+\n",
            "\n"
          ]
        }
      ]
    },
    {
      "cell_type": "code",
      "source": [
        "from pyspark.sql import SparkSession\n",
        "from pyspark.sql.functions import col\n",
        "\n",
        "\n",
        "spark = SparkSession.builder.appName(\"Read JSON with Inferred Schema\").getOrCreate()\n",
        "\n",
        "df = spark.read.option(\"inferSchema\", \"true\").json(\"/content/short.json\")\n",
        "\n",
        "\n",
        "\n",
        "df = df.withColumn(\"akey\", col(\"akey\").cast(\"double\"))\n",
        "\n",
        "df = df.withColumn(\"newColumn\", col(\"akey\") + 2.0)\n",
        "\n",
        "df.select(\"newColumn\", \"akey\").show()\n",
        "\n",
        "df.filter(col(\"akey\") > 2).show()\n",
        "\n",
        "df.filter(col(\"newColumn\") > col(\"akey\")).show()\n",
        "\n",
        "\n",
        "df.select(\"avn\", \"akey\").show()\n",
        "\n",
        "spark.stop()\n"
      ],
      "metadata": {
        "colab": {
          "base_uri": "https://localhost:8080/"
        },
        "id": "CsoIVt2U9mLV",
        "outputId": "925dc84a-e514-4626-f4f8-6a1acb24a5e8"
      },
      "execution_count": 16,
      "outputs": [
        {
          "output_type": "stream",
          "name": "stdout",
          "text": [
            "+------------+------------+\n",
            "|   newColumn|        akey|\n",
            "+------------+------------+\n",
            "|1.09154004E8|1.09154002E8|\n",
            "|1.09154004E8|1.09154002E8|\n",
            "|1.09154004E8|1.09154002E8|\n",
            "|1.09154004E8|1.09154002E8|\n",
            "|1.09154004E8|1.09154002E8|\n",
            "|1.09154004E8|1.09154002E8|\n",
            "|1.09154004E8|1.09154002E8|\n",
            "|1.09154004E8|1.09154002E8|\n",
            "|1.09154004E8|1.09154002E8|\n",
            "|1.09154004E8|1.09154002E8|\n",
            "|1.09154004E8|1.09154002E8|\n",
            "|1.09154004E8|1.09154002E8|\n",
            "|1.09154004E8|1.09154002E8|\n",
            "|1.09154004E8|1.09154002E8|\n",
            "|1.09154004E8|1.09154002E8|\n",
            "|1.09154004E8|1.09154002E8|\n",
            "|1.09154004E8|1.09154002E8|\n",
            "|1.09154004E8|1.09154002E8|\n",
            "|1.09154004E8|1.09154002E8|\n",
            "|1.09154004E8|1.09154002E8|\n",
            "+------------+------------+\n",
            "\n",
            "+------------+-------+----+----------+-------------+----------------+----+-----+-----------------+-------------+--------------------+------------+------------------+-----------------+-----+-------+-------+----+---------+-------+------+---+-----------------+--------------------+---------+-------+-------------+-------+--------------------+-------------+--------------------+--------------------+--------------------+------------+\n",
            "|        akey|    avn|   c|     crmid|    dateflink|             did|dtpe|evtno|firmware_revision|hardware_info|              idamid|         key|               lat|              lng|logno|    mnu|    mod| nwk|      ori|os_name|   osv| pf|platform_build_id|                 pro|profileid|    res|          rtc|    sdv|                 sid|     software|                 uid|          user_agent|     x-forwarded-for|   newColumn|\n",
            "+------------+-------+----+----------+-------------+----------------+----+-----+-----------------+-------------+--------------------+------------+------------------+-----------------+-----+-------+-------+----+---------+-------+------+---+-----------------+--------------------+---------+-------+-------------+-------+--------------------+-------------+--------------------+--------------------+--------------------+------------+\n",
            "|1.09154002E8|  6.0.8|null|7047321247|1622626200111|5034ef043e8f2749|   S|    1|             null|         null|e281f8e4-bdea-4a5...|media_access|           27.5574|          78.6643|   23|   vivo|   null|  4G|     null|   null|   6.0|  A|             null|{00000000-1ca7-1f...|     null|   null|1622626190636|   null|       1622626172573|         null|       ril7047321247|                null|2409:4053:202:82e...|1.09154004E8|\n",
            "|1.09154002E8|1.6.6.4| Jio|7137774035|1622626200278|1dd45ec58313ebb4|   F| null|                 |         F90M|6bf00fe8-dceb-464...|media_access|30.531692504882812|75.88119506835938|   20|    LYF|Feature|  4G|Landscape|    2.5|48.0a2|  K|   20201029161555|{null, null, null...|       NA|240x320|1622626199874|1.6.6.4|16226261766384e30...|    KaiOS 2.5|      neelamkumar781|Mozilla/5.0 (Mobi...|2409:4055:69d:3cd...|1.09154004E8|\n",
            "|1.09154002E8|  6.0.8|null|1124003909|1622626200293|3bbb560707f29684|   S|    1|             null|         null|ab9096ac-57a8-426...|media_access|           26.9035|           75.729|   54| Xiaomi|   null|  4G|     null|   null| 8.1.0|  A|             null|{00000000-5487-3f...|     null|   null|1622626198459|   null|       1622625884908|         null|         salamkhan19|                null|2409:4052:2e02:60...|1.09154004E8|\n",
            "|1.09154002E8|  6.0.8|null|1132537431|1622626200307|98020733e34987a9|   S|    1|             null|         null|171f3a72-697e-405...|media_access|                 0|                0|  137| Xiaomi|   null|  4G|     null|   null|    10|  A|             null|{00000000-1e5c-e7...|     null|   null|1622626197645|   null|       1622625444655|         null|       ril1132537431|                null|        157.38.63.70|1.09154004E8|\n",
            "|1.09154002E8|  6.0.8|null|3071421502|1622626200452|e463668faa1d5874|   S|    1|             null|         null|b90c740d-6f9f-4ae...|media_access|           22.7284|          88.4677|   93|samsung|   null|WIFI|     null|   null|    11|  A|             null|{ffffffff-b7f8-c9...|     null|   null|1622626199200|   null|       1622625314706|         null|     kingsukghosh-41|                null|       103.76.82.207|1.09154004E8|\n",
            "|1.09154002E8|  6.0.8|null|3140553756|1622626200478|a11e9f558353b398|   S|    1|             null|         null|2c58e8c8-4573-4ce...|media_access|                 0|                0|  120|   vivo|   null|  4G|     null|   null|    11|  A|             null|{ffffffff-8673-95...|     null|   null|1622626196839|   null|       1622624348354|         null|       ril3140553756|                null|2409:4062:18a:749...|1.09154004E8|\n",
            "|1.09154002E8|  6.0.7|null|1140063322|1622626200478|c8e1820703f52ab8|   S|    1|             null|         null|287796f8-f2f0-468...|media_access|                 0|                0|   26|   vivo|   null|  4G|     null|   null| 6.0.1|  A|             null|{ffffffff-8602-d9...|     null|   null|1622626192270|   null|       1622626127116|         null| Arun.Ganpat.Talekar|                null|2409:4042:2d86:43...|1.09154004E8|\n",
            "|1.09154002E8|  6.0.8|null|7086959243|1622626200480|87445dff7df45418|   S|    1|             null|         null|fc0e777a-8544-426...|media_access|           30.5964|          77.2982|   17| Xiaomi|   null|  4G|     null|   null| 7.1.2|  A|             null|{ffffffff-89dd-4e...|     null|   null|1622626198847|   null|       1622626098402|         null|       ril7086959243|                null|2409:4056:e9e:7f6...|1.09154004E8|\n",
            "|1.09154002E8|  6.0.8|null|1108323902|1622626200531|6b0cc8e17335e2ed|   S|    1|             null|         null|409f562a-70bb-4f5...|media_access|                 0|                0|   41|samsung|   null|  4G|     null|   null|    10|  A|             null|{ffffffff-8b21-6e...|     null|   null|1622626199147|   null|       1622624159275|         null|Vasava.Dilipkumar...|                null|2405:204:8106:eeb...|1.09154004E8|\n",
            "|1.09154002E8|  6.0.7|null|3073231160|1622626200540|b5364b4e4efddc9a|   S|    1|             null|         null|7208b35a-f88d-4d9...|media_access|                 0|                0|  107|   OPPO|   null|  4G|     null|   null|     9|  A|             null|{00000000-518e-b7...|     null|   null|1622626197557|   null|       1622621486500|         null|       bulbulibibi75|                null|2409:4061:2091:ec...|1.09154004E8|\n",
            "|1.09154002E8|  6.0.7|null|3122832937|1622626200549|f9ce164bc9da2ce1|   S|    1|             null|         null|852f096b-18c2-4c4...|media_access|                 0|                0|   60| Realme|   null|  4G|     null|   null|     9|  A|             null|{00000000-4c79-47...|     null|   null|1622626200543|   null|       1622625874674|         null|       ril3122832937|                null|2409:4064:2e2f:8a...|1.09154004E8|\n",
            "|1.09154002E8|  6.0.7|null|1135328819|1622626200550|54305bd8b8d84a30|   S|    1|             null|         null|aa9dabb6-aa2f-4ce...|media_access|                 0|                0|   35| realme|   null|WIFI|     null|   null|    10|  A|             null|{00000000-54f8-70...|     null|   null|1622626196977|   null|       1622625787302|         null|    shaikh.anam.bano|                null|       103.123.224.8|1.09154004E8|\n",
            "|1.09154002E8|  6.0.7|null|5101332368|1622626200551|1556662b9b9bfb19|   S|    1|             null|         null|2627d78f-9cad-4c9...|media_access|            13.841|          74.6245|   48| Xiaomi|   null|  4G|     null|   null|    10|  A|             null|{00000000-2011-c0...|     null|   null|1622626198216|   null|       1622624916229|         null|           gokul9517|                null|2409:4071:2088:14...|1.09154004E8|\n",
            "|1.09154002E8|  6.0.8|null|3005330614|1622626200880|a41a92b866e55f40|   S|    1|             null|         null|322de4dc-1748-4b5...|media_access|           21.9791|          87.7809|  120|   OPPO|   null|  4G|     null|   null|    10|  A|             null|{00000000-518f-2b...|     null|   null|1622626196994|   null|       1622624437706|         null|    tapaskumardas-64|                null|2409:4061:608:ced...|1.09154004E8|\n",
            "|1.09154002E8|1.6.6.4| Jio|1112169282|1622626200889|edddf160ce4ea867|   F| null|                 |        F320B|464ee388-b26b-4e4...|media_access|              null|             null|   70|    LYF|Feature|  4G|Landscape|2.5.3.2|48.0a2|  K|   20210315171215|{null, null, null...|       NA|240x320|1622626199758|1.6.6.4|16226255474632f90...|KaiOS 2.5.3.2|  mahliyamukeshbhai8|Mozilla/5.0 (Mobi...|2405:205:c8c6:460...|1.09154004E8|\n",
            "|1.09154002E8|  6.0.8|null|1218102819|1622626200904|871a9531cecb6d1c|   S|    1|             null|         null|992edb59-889b-454...|media_access|                 0|                0|   46| Xiaomi|   null|  4G|     null|   null|    10|  A|             null|{ffffffff-bca0-3b...|     null|   null|1622626198721|   null|       1622626073116|         null|Suvama.Ankush.Wag...|                null|2409:4042:2402:c0...|1.09154004E8|\n",
            "|1.09154002E8|  6.0.8|null|1032837923|1622626200904|8acf88171981753e|   S|    1|             null|         null|09f4d09b-4136-421...|media_access|                 0|                0|   32|   vivo|   null|WIFI|     null|   null|    10|  A|             null|{00000000-490e-32...|     null|   null|1622626201296|   null|       1622625584347|         null|hemantmadhukarrao...|                null|        103.247.4.78|1.09154004E8|\n",
            "|1.09154002E8|  6.0.8|null|1197657474|1622626200905|98ca0784ab86238e|   S|    1|             null|         null|c6793fbd-7c43-4e2...|media_access|           24.2369|           77.181|  101|   vivo|   null|  4G|     null|   null| 8.1.0|  A|             null|{00000000-490e-32...|     null|   null|1622626198816|   null|       1622623134274|         null|       ril1197657474|                null|2409:4043:2e89:f2...|1.09154004E8|\n",
            "|1.09154002E8|1.6.6.4| Jio|3135559391|1622626200961|fbd03bd3fbf584d4|   F| null|                 |        F320B|65ddab81-6644-412...|media_access|              null|             null|   45|    LYF|Feature|  4G|Landscape|2.5.3.2|48.0a2|  K|   20201009165323|{null, null, null...|       NA|240x320|1622626199835|1.6.6.4|1622625821686ef2b...|KaiOS 2.5.3.2|      ujjalbiswas_50|Mozilla/5.0 (Mobi...|2409:4061:499:887...|1.09154004E8|\n",
            "|1.09154002E8|  6.0.8|null|7150862665|1622626200985|40cf2e977cb78ceb|   S|    1|             null|         null|586cff0a-695e-421...|media_access|                 0|                0|   32|   vivo|   null|  4G|     null|   null| 8.1.0|  A|             null|{00000000-490e-32...|     null|   null|1622626200157|   null|       1622623354122|         null|      serazahmad-060|                null|2409:4063:4d87:53...|1.09154004E8|\n",
            "+------------+-------+----+----------+-------------+----------------+----+-----+-----------------+-------------+--------------------+------------+------------------+-----------------+-----+-------+-------+----+---------+-------+------+---+-----------------+--------------------+---------+-------+-------------+-------+--------------------+-------------+--------------------+--------------------+--------------------+------------+\n",
            "\n",
            "+------------+-------+----+----------+-------------+----------------+----+-----+-----------------+-------------+--------------------+------------+------------------+-----------------+-----+-------+-------+----+---------+-------+------+---+-----------------+--------------------+---------+-------+-------------+-------+--------------------+-------------+--------------------+--------------------+--------------------+------------+\n",
            "|        akey|    avn|   c|     crmid|    dateflink|             did|dtpe|evtno|firmware_revision|hardware_info|              idamid|         key|               lat|              lng|logno|    mnu|    mod| nwk|      ori|os_name|   osv| pf|platform_build_id|                 pro|profileid|    res|          rtc|    sdv|                 sid|     software|                 uid|          user_agent|     x-forwarded-for|   newColumn|\n",
            "+------------+-------+----+----------+-------------+----------------+----+-----+-----------------+-------------+--------------------+------------+------------------+-----------------+-----+-------+-------+----+---------+-------+------+---+-----------------+--------------------+---------+-------+-------------+-------+--------------------+-------------+--------------------+--------------------+--------------------+------------+\n",
            "|1.09154002E8|  6.0.8|null|7047321247|1622626200111|5034ef043e8f2749|   S|    1|             null|         null|e281f8e4-bdea-4a5...|media_access|           27.5574|          78.6643|   23|   vivo|   null|  4G|     null|   null|   6.0|  A|             null|{00000000-1ca7-1f...|     null|   null|1622626190636|   null|       1622626172573|         null|       ril7047321247|                null|2409:4053:202:82e...|1.09154004E8|\n",
            "|1.09154002E8|1.6.6.4| Jio|7137774035|1622626200278|1dd45ec58313ebb4|   F| null|                 |         F90M|6bf00fe8-dceb-464...|media_access|30.531692504882812|75.88119506835938|   20|    LYF|Feature|  4G|Landscape|    2.5|48.0a2|  K|   20201029161555|{null, null, null...|       NA|240x320|1622626199874|1.6.6.4|16226261766384e30...|    KaiOS 2.5|      neelamkumar781|Mozilla/5.0 (Mobi...|2409:4055:69d:3cd...|1.09154004E8|\n",
            "|1.09154002E8|  6.0.8|null|1124003909|1622626200293|3bbb560707f29684|   S|    1|             null|         null|ab9096ac-57a8-426...|media_access|           26.9035|           75.729|   54| Xiaomi|   null|  4G|     null|   null| 8.1.0|  A|             null|{00000000-5487-3f...|     null|   null|1622626198459|   null|       1622625884908|         null|         salamkhan19|                null|2409:4052:2e02:60...|1.09154004E8|\n",
            "|1.09154002E8|  6.0.8|null|1132537431|1622626200307|98020733e34987a9|   S|    1|             null|         null|171f3a72-697e-405...|media_access|                 0|                0|  137| Xiaomi|   null|  4G|     null|   null|    10|  A|             null|{00000000-1e5c-e7...|     null|   null|1622626197645|   null|       1622625444655|         null|       ril1132537431|                null|        157.38.63.70|1.09154004E8|\n",
            "|1.09154002E8|  6.0.8|null|3071421502|1622626200452|e463668faa1d5874|   S|    1|             null|         null|b90c740d-6f9f-4ae...|media_access|           22.7284|          88.4677|   93|samsung|   null|WIFI|     null|   null|    11|  A|             null|{ffffffff-b7f8-c9...|     null|   null|1622626199200|   null|       1622625314706|         null|     kingsukghosh-41|                null|       103.76.82.207|1.09154004E8|\n",
            "|1.09154002E8|  6.0.8|null|3140553756|1622626200478|a11e9f558353b398|   S|    1|             null|         null|2c58e8c8-4573-4ce...|media_access|                 0|                0|  120|   vivo|   null|  4G|     null|   null|    11|  A|             null|{ffffffff-8673-95...|     null|   null|1622626196839|   null|       1622624348354|         null|       ril3140553756|                null|2409:4062:18a:749...|1.09154004E8|\n",
            "|1.09154002E8|  6.0.7|null|1140063322|1622626200478|c8e1820703f52ab8|   S|    1|             null|         null|287796f8-f2f0-468...|media_access|                 0|                0|   26|   vivo|   null|  4G|     null|   null| 6.0.1|  A|             null|{ffffffff-8602-d9...|     null|   null|1622626192270|   null|       1622626127116|         null| Arun.Ganpat.Talekar|                null|2409:4042:2d86:43...|1.09154004E8|\n",
            "|1.09154002E8|  6.0.8|null|7086959243|1622626200480|87445dff7df45418|   S|    1|             null|         null|fc0e777a-8544-426...|media_access|           30.5964|          77.2982|   17| Xiaomi|   null|  4G|     null|   null| 7.1.2|  A|             null|{ffffffff-89dd-4e...|     null|   null|1622626198847|   null|       1622626098402|         null|       ril7086959243|                null|2409:4056:e9e:7f6...|1.09154004E8|\n",
            "|1.09154002E8|  6.0.8|null|1108323902|1622626200531|6b0cc8e17335e2ed|   S|    1|             null|         null|409f562a-70bb-4f5...|media_access|                 0|                0|   41|samsung|   null|  4G|     null|   null|    10|  A|             null|{ffffffff-8b21-6e...|     null|   null|1622626199147|   null|       1622624159275|         null|Vasava.Dilipkumar...|                null|2405:204:8106:eeb...|1.09154004E8|\n",
            "|1.09154002E8|  6.0.7|null|3073231160|1622626200540|b5364b4e4efddc9a|   S|    1|             null|         null|7208b35a-f88d-4d9...|media_access|                 0|                0|  107|   OPPO|   null|  4G|     null|   null|     9|  A|             null|{00000000-518e-b7...|     null|   null|1622626197557|   null|       1622621486500|         null|       bulbulibibi75|                null|2409:4061:2091:ec...|1.09154004E8|\n",
            "|1.09154002E8|  6.0.7|null|3122832937|1622626200549|f9ce164bc9da2ce1|   S|    1|             null|         null|852f096b-18c2-4c4...|media_access|                 0|                0|   60| Realme|   null|  4G|     null|   null|     9|  A|             null|{00000000-4c79-47...|     null|   null|1622626200543|   null|       1622625874674|         null|       ril3122832937|                null|2409:4064:2e2f:8a...|1.09154004E8|\n",
            "|1.09154002E8|  6.0.7|null|1135328819|1622626200550|54305bd8b8d84a30|   S|    1|             null|         null|aa9dabb6-aa2f-4ce...|media_access|                 0|                0|   35| realme|   null|WIFI|     null|   null|    10|  A|             null|{00000000-54f8-70...|     null|   null|1622626196977|   null|       1622625787302|         null|    shaikh.anam.bano|                null|       103.123.224.8|1.09154004E8|\n",
            "|1.09154002E8|  6.0.7|null|5101332368|1622626200551|1556662b9b9bfb19|   S|    1|             null|         null|2627d78f-9cad-4c9...|media_access|            13.841|          74.6245|   48| Xiaomi|   null|  4G|     null|   null|    10|  A|             null|{00000000-2011-c0...|     null|   null|1622626198216|   null|       1622624916229|         null|           gokul9517|                null|2409:4071:2088:14...|1.09154004E8|\n",
            "|1.09154002E8|  6.0.8|null|3005330614|1622626200880|a41a92b866e55f40|   S|    1|             null|         null|322de4dc-1748-4b5...|media_access|           21.9791|          87.7809|  120|   OPPO|   null|  4G|     null|   null|    10|  A|             null|{00000000-518f-2b...|     null|   null|1622626196994|   null|       1622624437706|         null|    tapaskumardas-64|                null|2409:4061:608:ced...|1.09154004E8|\n",
            "|1.09154002E8|1.6.6.4| Jio|1112169282|1622626200889|edddf160ce4ea867|   F| null|                 |        F320B|464ee388-b26b-4e4...|media_access|              null|             null|   70|    LYF|Feature|  4G|Landscape|2.5.3.2|48.0a2|  K|   20210315171215|{null, null, null...|       NA|240x320|1622626199758|1.6.6.4|16226255474632f90...|KaiOS 2.5.3.2|  mahliyamukeshbhai8|Mozilla/5.0 (Mobi...|2405:205:c8c6:460...|1.09154004E8|\n",
            "|1.09154002E8|  6.0.8|null|1218102819|1622626200904|871a9531cecb6d1c|   S|    1|             null|         null|992edb59-889b-454...|media_access|                 0|                0|   46| Xiaomi|   null|  4G|     null|   null|    10|  A|             null|{ffffffff-bca0-3b...|     null|   null|1622626198721|   null|       1622626073116|         null|Suvama.Ankush.Wag...|                null|2409:4042:2402:c0...|1.09154004E8|\n",
            "|1.09154002E8|  6.0.8|null|1032837923|1622626200904|8acf88171981753e|   S|    1|             null|         null|09f4d09b-4136-421...|media_access|                 0|                0|   32|   vivo|   null|WIFI|     null|   null|    10|  A|             null|{00000000-490e-32...|     null|   null|1622626201296|   null|       1622625584347|         null|hemantmadhukarrao...|                null|        103.247.4.78|1.09154004E8|\n",
            "|1.09154002E8|  6.0.8|null|1197657474|1622626200905|98ca0784ab86238e|   S|    1|             null|         null|c6793fbd-7c43-4e2...|media_access|           24.2369|           77.181|  101|   vivo|   null|  4G|     null|   null| 8.1.0|  A|             null|{00000000-490e-32...|     null|   null|1622626198816|   null|       1622623134274|         null|       ril1197657474|                null|2409:4043:2e89:f2...|1.09154004E8|\n",
            "|1.09154002E8|1.6.6.4| Jio|3135559391|1622626200961|fbd03bd3fbf584d4|   F| null|                 |        F320B|65ddab81-6644-412...|media_access|              null|             null|   45|    LYF|Feature|  4G|Landscape|2.5.3.2|48.0a2|  K|   20201009165323|{null, null, null...|       NA|240x320|1622626199835|1.6.6.4|1622625821686ef2b...|KaiOS 2.5.3.2|      ujjalbiswas_50|Mozilla/5.0 (Mobi...|2409:4061:499:887...|1.09154004E8|\n",
            "|1.09154002E8|  6.0.8|null|7150862665|1622626200985|40cf2e977cb78ceb|   S|    1|             null|         null|586cff0a-695e-421...|media_access|                 0|                0|   32|   vivo|   null|  4G|     null|   null| 8.1.0|  A|             null|{00000000-490e-32...|     null|   null|1622626200157|   null|       1622623354122|         null|      serazahmad-060|                null|2409:4063:4d87:53...|1.09154004E8|\n",
            "+------------+-------+----+----------+-------------+----------------+----+-----+-----------------+-------------+--------------------+------------+------------------+-----------------+-----+-------+-------+----+---------+-------+------+---+-----------------+--------------------+---------+-------+-------------+-------+--------------------+-------------+--------------------+--------------------+--------------------+------------+\n",
            "\n",
            "+-------+------------+\n",
            "|    avn|        akey|\n",
            "+-------+------------+\n",
            "|  6.0.8|1.09154002E8|\n",
            "|1.6.6.4|1.09154002E8|\n",
            "|  6.0.8|1.09154002E8|\n",
            "|  6.0.8|1.09154002E8|\n",
            "|  6.0.8|1.09154002E8|\n",
            "|  6.0.8|1.09154002E8|\n",
            "|  6.0.7|1.09154002E8|\n",
            "|  6.0.8|1.09154002E8|\n",
            "|  6.0.8|1.09154002E8|\n",
            "|  6.0.7|1.09154002E8|\n",
            "|  6.0.7|1.09154002E8|\n",
            "|  6.0.7|1.09154002E8|\n",
            "|  6.0.7|1.09154002E8|\n",
            "|  6.0.8|1.09154002E8|\n",
            "|1.6.6.4|1.09154002E8|\n",
            "|  6.0.8|1.09154002E8|\n",
            "|  6.0.8|1.09154002E8|\n",
            "|  6.0.8|1.09154002E8|\n",
            "|1.6.6.4|1.09154002E8|\n",
            "|  6.0.8|1.09154002E8|\n",
            "+-------+------------+\n",
            "\n"
          ]
        }
      ]
    },
    {
      "cell_type": "code",
      "source": [
        "from pyspark.sql import SparkSession\n",
        "from pyspark.sql.functions import col, lit\n",
        "\n",
        "spark = SparkSession.builder.appName(\"Read JSON with Inferred Schema\").getOrCreate()\n",
        "\n",
        "df = spark.read.option(\"inferSchema\", \"true\").json(\"/content/short.json\")\n",
        "\n",
        "df = df.withColumn(\"akey\", col(\"akey\").cast(\"double\"))\n",
        "df = df.withColumn(\"newColumn\", col(\"akey\") + lit(2.0))\n",
        "\n",
        "df.select(\"newColumn\", \"akey\").show()\n",
        "\n",
        "spark.stop()"
      ],
      "metadata": {
        "colab": {
          "base_uri": "https://localhost:8080/"
        },
        "id": "LjcuZ9XH9sfR",
        "outputId": "45d32337-92ea-4c5c-bade-b548d09d70c1"
      },
      "execution_count": 17,
      "outputs": [
        {
          "output_type": "stream",
          "name": "stdout",
          "text": [
            "+------------+------------+\n",
            "|   newColumn|        akey|\n",
            "+------------+------------+\n",
            "|1.09154004E8|1.09154002E8|\n",
            "|1.09154004E8|1.09154002E8|\n",
            "|1.09154004E8|1.09154002E8|\n",
            "|1.09154004E8|1.09154002E8|\n",
            "|1.09154004E8|1.09154002E8|\n",
            "|1.09154004E8|1.09154002E8|\n",
            "|1.09154004E8|1.09154002E8|\n",
            "|1.09154004E8|1.09154002E8|\n",
            "|1.09154004E8|1.09154002E8|\n",
            "|1.09154004E8|1.09154002E8|\n",
            "|1.09154004E8|1.09154002E8|\n",
            "|1.09154004E8|1.09154002E8|\n",
            "|1.09154004E8|1.09154002E8|\n",
            "|1.09154004E8|1.09154002E8|\n",
            "|1.09154004E8|1.09154002E8|\n",
            "|1.09154004E8|1.09154002E8|\n",
            "|1.09154004E8|1.09154002E8|\n",
            "|1.09154004E8|1.09154002E8|\n",
            "|1.09154004E8|1.09154002E8|\n",
            "|1.09154004E8|1.09154002E8|\n",
            "+------------+------------+\n",
            "\n"
          ]
        }
      ]
    },
    {
      "cell_type": "code",
      "source": [
        "from pyspark.sql import SparkSession\n",
        "from pyspark.sql.functions import col, concat\n",
        "\n",
        "spark = SparkSession.builder.appName(\"Read JSON with Inferred Schema\").getOrCreate()\n",
        "\n",
        "df = spark.read.option(\"inferSchema\", \"true\").json(\"/content/short.json\")\n",
        "\n",
        "df = df.withColumn(\"concatColumn\", concat(col(\"did\"), col(\"idamid\")))\n",
        "\n",
        "df.select(\"concatColumn\", \"did\", \"idamid\").show()\n",
        "\n",
        "spark.stop()"
      ],
      "metadata": {
        "colab": {
          "base_uri": "https://localhost:8080/"
        },
        "id": "7At1AQX99uxL",
        "outputId": "8e748f10-f83b-495b-9efc-f801282444f0"
      },
      "execution_count": 18,
      "outputs": [
        {
          "output_type": "stream",
          "name": "stdout",
          "text": [
            "+--------------------+----------------+--------------------+\n",
            "|        concatColumn|             did|              idamid|\n",
            "+--------------------+----------------+--------------------+\n",
            "|5034ef043e8f2749e...|5034ef043e8f2749|e281f8e4-bdea-4a5...|\n",
            "|1dd45ec58313ebb46...|1dd45ec58313ebb4|6bf00fe8-dceb-464...|\n",
            "|3bbb560707f29684a...|3bbb560707f29684|ab9096ac-57a8-426...|\n",
            "|98020733e34987a91...|98020733e34987a9|171f3a72-697e-405...|\n",
            "|e463668faa1d5874b...|e463668faa1d5874|b90c740d-6f9f-4ae...|\n",
            "|a11e9f558353b3982...|a11e9f558353b398|2c58e8c8-4573-4ce...|\n",
            "|c8e1820703f52ab82...|c8e1820703f52ab8|287796f8-f2f0-468...|\n",
            "|87445dff7df45418f...|87445dff7df45418|fc0e777a-8544-426...|\n",
            "|6b0cc8e17335e2ed4...|6b0cc8e17335e2ed|409f562a-70bb-4f5...|\n",
            "|b5364b4e4efddc9a7...|b5364b4e4efddc9a|7208b35a-f88d-4d9...|\n",
            "|f9ce164bc9da2ce18...|f9ce164bc9da2ce1|852f096b-18c2-4c4...|\n",
            "|54305bd8b8d84a30a...|54305bd8b8d84a30|aa9dabb6-aa2f-4ce...|\n",
            "|1556662b9b9bfb192...|1556662b9b9bfb19|2627d78f-9cad-4c9...|\n",
            "|a41a92b866e55f403...|a41a92b866e55f40|322de4dc-1748-4b5...|\n",
            "|edddf160ce4ea8674...|edddf160ce4ea867|464ee388-b26b-4e4...|\n",
            "|871a9531cecb6d1c9...|871a9531cecb6d1c|992edb59-889b-454...|\n",
            "|8acf88171981753e0...|8acf88171981753e|09f4d09b-4136-421...|\n",
            "|98ca0784ab86238ec...|98ca0784ab86238e|c6793fbd-7c43-4e2...|\n",
            "|fbd03bd3fbf584d46...|fbd03bd3fbf584d4|65ddab81-6644-412...|\n",
            "|40cf2e977cb78ceb5...|40cf2e977cb78ceb|586cff0a-695e-421...|\n",
            "+--------------------+----------------+--------------------+\n",
            "\n"
          ]
        }
      ]
    },
    {
      "cell_type": "code",
      "source": [
        "from pyspark.sql import SparkSession\n",
        "from pyspark.sql.functions import col, concat, lit\n",
        "\n",
        "spark = SparkSession.builder.appName(\"Spark Operations Example\").getOrCreate()\n",
        "\n",
        "df = spark.read.option(\"inferSchema\", \"true\").json(\"/content/short.json\")\n",
        "\n",
        "df = df.withColumn(\"akey\", col(\"akey\").cast(\"double\"))\n",
        "\n",
        "\n",
        "\n",
        "rdd = df.rdd\n",
        "\n",
        "pair_rdd = rdd.map(lambda row: (row['akey'], 1))\n",
        "\n",
        "count_rdd = pair_rdd.reduceByKey(lambda a, b: a + b)\n",
        "\n",
        "count_results = count_rdd.collect()\n",
        "for result in count_results:\n",
        "    print(result)\n",
        "\n",
        "pair_rdd.collect()\n",
        "\n",
        "spark.stop()\n"
      ],
      "metadata": {
        "colab": {
          "base_uri": "https://localhost:8080/"
        },
        "id": "CS1PfxQf9wpw",
        "outputId": "a29075ed-7f06-485f-ca32-2a37d6aeb514"
      },
      "execution_count": 19,
      "outputs": [
        {
          "output_type": "stream",
          "name": "stdout",
          "text": [
            "(109154002.0, 20)\n"
          ]
        }
      ]
    },
    {
      "cell_type": "code",
      "source": [
        "from pyspark.sql import SparkSession\n",
        "from pyspark.sql.functions import col, concat, lit\n",
        "\n",
        "spark = SparkSession.builder.appName(\"Spark Operations Example\").getOrCreate()\n",
        "\n",
        "df = spark.read.option(\"inferSchema\", \"true\").json(\"/content/short.json\")\n",
        "\n",
        "df = df.withColumn(\"crmid\", col(\"crmid\").cast(\"double\"))\n",
        "df = df.withColumn(\"newColumn\", col(\"crmid\") + lit(2.0))\n",
        "df = df.withColumn(\"concatColumn\", concat(col(\"did\"), col(\"idamid\")))\n",
        "\n",
        "df.filter(col(\"newColumn\") > col(\"crmid\")).show()\n",
        "\n",
        "rdd = df.rdd\n",
        "\n",
        "pair_rdd = rdd.map(lambda row: (row['crmid'], 1))\n",
        "count_rdd = pair_rdd.reduceByKey(lambda a, b: a + b)\n",
        "count_results = count_rdd.collect()\n",
        "for result in count_results:\n",
        "    print(result)\n",
        "\n",
        "filtered_rdd = rdd.filter(lambda row: row['crmid'] > 2)\n",
        "filtered_df = filtered_rdd.toDF()\n",
        "filtered_df.show()\n",
        "\n",
        "spark.stop()\n"
      ],
      "metadata": {
        "colab": {
          "base_uri": "https://localhost:8080/"
        },
        "id": "qYzjNDh09ygv",
        "outputId": "25d22a9c-2c19-4c4f-82e2-b307e228679d"
      },
      "execution_count": 20,
      "outputs": [
        {
          "output_type": "stream",
          "name": "stdout",
          "text": [
            "+---------+-------+----+-------------+-------------+----------------+----+-----+-----------------+-------------+--------------------+------------+------------------+-----------------+-----+-------+-------+----+---------+-------+------+---+-----------------+--------------------+---------+-------+-------------+-------+--------------------+-------------+--------------------+--------------------+--------------------+-------------+--------------------+\n",
            "|     akey|    avn|   c|        crmid|    dateflink|             did|dtpe|evtno|firmware_revision|hardware_info|              idamid|         key|               lat|              lng|logno|    mnu|    mod| nwk|      ori|os_name|   osv| pf|platform_build_id|                 pro|profileid|    res|          rtc|    sdv|                 sid|     software|                 uid|          user_agent|     x-forwarded-for|    newColumn|        concatColumn|\n",
            "+---------+-------+----+-------------+-------------+----------------+----+-----+-----------------+-------------+--------------------+------------+------------------+-----------------+-----+-------+-------+----+---------+-------+------+---+-----------------+--------------------+---------+-------+-------------+-------+--------------------+-------------+--------------------+--------------------+--------------------+-------------+--------------------+\n",
            "|109154002|  6.0.8|null|7.047321247E9|1622626200111|5034ef043e8f2749|   S|    1|             null|         null|e281f8e4-bdea-4a5...|media_access|           27.5574|          78.6643|   23|   vivo|   null|  4G|     null|   null|   6.0|  A|             null|{00000000-1ca7-1f...|     null|   null|1622626190636|   null|       1622626172573|         null|       ril7047321247|                null|2409:4053:202:82e...|7.047321249E9|5034ef043e8f2749e...|\n",
            "|109154002|1.6.6.4| Jio|7.137774035E9|1622626200278|1dd45ec58313ebb4|   F| null|                 |         F90M|6bf00fe8-dceb-464...|media_access|30.531692504882812|75.88119506835938|   20|    LYF|Feature|  4G|Landscape|    2.5|48.0a2|  K|   20201029161555|{null, null, null...|       NA|240x320|1622626199874|1.6.6.4|16226261766384e30...|    KaiOS 2.5|      neelamkumar781|Mozilla/5.0 (Mobi...|2409:4055:69d:3cd...|7.137774037E9|1dd45ec58313ebb46...|\n",
            "|109154002|  6.0.8|null|1.124003909E9|1622626200293|3bbb560707f29684|   S|    1|             null|         null|ab9096ac-57a8-426...|media_access|           26.9035|           75.729|   54| Xiaomi|   null|  4G|     null|   null| 8.1.0|  A|             null|{00000000-5487-3f...|     null|   null|1622626198459|   null|       1622625884908|         null|         salamkhan19|                null|2409:4052:2e02:60...|1.124003911E9|3bbb560707f29684a...|\n",
            "|109154002|  6.0.8|null|1.132537431E9|1622626200307|98020733e34987a9|   S|    1|             null|         null|171f3a72-697e-405...|media_access|                 0|                0|  137| Xiaomi|   null|  4G|     null|   null|    10|  A|             null|{00000000-1e5c-e7...|     null|   null|1622626197645|   null|       1622625444655|         null|       ril1132537431|                null|        157.38.63.70|1.132537433E9|98020733e34987a91...|\n",
            "|109154002|  6.0.8|null|3.071421502E9|1622626200452|e463668faa1d5874|   S|    1|             null|         null|b90c740d-6f9f-4ae...|media_access|           22.7284|          88.4677|   93|samsung|   null|WIFI|     null|   null|    11|  A|             null|{ffffffff-b7f8-c9...|     null|   null|1622626199200|   null|       1622625314706|         null|     kingsukghosh-41|                null|       103.76.82.207|3.071421504E9|e463668faa1d5874b...|\n",
            "|109154002|  6.0.8|null|3.140553756E9|1622626200478|a11e9f558353b398|   S|    1|             null|         null|2c58e8c8-4573-4ce...|media_access|                 0|                0|  120|   vivo|   null|  4G|     null|   null|    11|  A|             null|{ffffffff-8673-95...|     null|   null|1622626196839|   null|       1622624348354|         null|       ril3140553756|                null|2409:4062:18a:749...|3.140553758E9|a11e9f558353b3982...|\n",
            "|109154002|  6.0.7|null|1.140063322E9|1622626200478|c8e1820703f52ab8|   S|    1|             null|         null|287796f8-f2f0-468...|media_access|                 0|                0|   26|   vivo|   null|  4G|     null|   null| 6.0.1|  A|             null|{ffffffff-8602-d9...|     null|   null|1622626192270|   null|       1622626127116|         null| Arun.Ganpat.Talekar|                null|2409:4042:2d86:43...|1.140063324E9|c8e1820703f52ab82...|\n",
            "|109154002|  6.0.8|null|7.086959243E9|1622626200480|87445dff7df45418|   S|    1|             null|         null|fc0e777a-8544-426...|media_access|           30.5964|          77.2982|   17| Xiaomi|   null|  4G|     null|   null| 7.1.2|  A|             null|{ffffffff-89dd-4e...|     null|   null|1622626198847|   null|       1622626098402|         null|       ril7086959243|                null|2409:4056:e9e:7f6...|7.086959245E9|87445dff7df45418f...|\n",
            "|109154002|  6.0.8|null|1.108323902E9|1622626200531|6b0cc8e17335e2ed|   S|    1|             null|         null|409f562a-70bb-4f5...|media_access|                 0|                0|   41|samsung|   null|  4G|     null|   null|    10|  A|             null|{ffffffff-8b21-6e...|     null|   null|1622626199147|   null|       1622624159275|         null|Vasava.Dilipkumar...|                null|2405:204:8106:eeb...|1.108323904E9|6b0cc8e17335e2ed4...|\n",
            "|109154002|  6.0.7|null| 3.07323116E9|1622626200540|b5364b4e4efddc9a|   S|    1|             null|         null|7208b35a-f88d-4d9...|media_access|                 0|                0|  107|   OPPO|   null|  4G|     null|   null|     9|  A|             null|{00000000-518e-b7...|     null|   null|1622626197557|   null|       1622621486500|         null|       bulbulibibi75|                null|2409:4061:2091:ec...|3.073231162E9|b5364b4e4efddc9a7...|\n",
            "|109154002|  6.0.7|null|3.122832937E9|1622626200549|f9ce164bc9da2ce1|   S|    1|             null|         null|852f096b-18c2-4c4...|media_access|                 0|                0|   60| Realme|   null|  4G|     null|   null|     9|  A|             null|{00000000-4c79-47...|     null|   null|1622626200543|   null|       1622625874674|         null|       ril3122832937|                null|2409:4064:2e2f:8a...|3.122832939E9|f9ce164bc9da2ce18...|\n",
            "|109154002|  6.0.7|null|1.135328819E9|1622626200550|54305bd8b8d84a30|   S|    1|             null|         null|aa9dabb6-aa2f-4ce...|media_access|                 0|                0|   35| realme|   null|WIFI|     null|   null|    10|  A|             null|{00000000-54f8-70...|     null|   null|1622626196977|   null|       1622625787302|         null|    shaikh.anam.bano|                null|       103.123.224.8|1.135328821E9|54305bd8b8d84a30a...|\n",
            "|109154002|  6.0.7|null|5.101332368E9|1622626200551|1556662b9b9bfb19|   S|    1|             null|         null|2627d78f-9cad-4c9...|media_access|            13.841|          74.6245|   48| Xiaomi|   null|  4G|     null|   null|    10|  A|             null|{00000000-2011-c0...|     null|   null|1622626198216|   null|       1622624916229|         null|           gokul9517|                null|2409:4071:2088:14...| 5.10133237E9|1556662b9b9bfb192...|\n",
            "|109154002|  6.0.8|null|3.005330614E9|1622626200880|a41a92b866e55f40|   S|    1|             null|         null|322de4dc-1748-4b5...|media_access|           21.9791|          87.7809|  120|   OPPO|   null|  4G|     null|   null|    10|  A|             null|{00000000-518f-2b...|     null|   null|1622626196994|   null|       1622624437706|         null|    tapaskumardas-64|                null|2409:4061:608:ced...|3.005330616E9|a41a92b866e55f403...|\n",
            "|109154002|1.6.6.4| Jio|1.112169282E9|1622626200889|edddf160ce4ea867|   F| null|                 |        F320B|464ee388-b26b-4e4...|media_access|              null|             null|   70|    LYF|Feature|  4G|Landscape|2.5.3.2|48.0a2|  K|   20210315171215|{null, null, null...|       NA|240x320|1622626199758|1.6.6.4|16226255474632f90...|KaiOS 2.5.3.2|  mahliyamukeshbhai8|Mozilla/5.0 (Mobi...|2405:205:c8c6:460...|1.112169284E9|edddf160ce4ea8674...|\n",
            "|109154002|  6.0.8|null|1.218102819E9|1622626200904|871a9531cecb6d1c|   S|    1|             null|         null|992edb59-889b-454...|media_access|                 0|                0|   46| Xiaomi|   null|  4G|     null|   null|    10|  A|             null|{ffffffff-bca0-3b...|     null|   null|1622626198721|   null|       1622626073116|         null|Suvama.Ankush.Wag...|                null|2409:4042:2402:c0...|1.218102821E9|871a9531cecb6d1c9...|\n",
            "|109154002|  6.0.8|null|1.032837923E9|1622626200904|8acf88171981753e|   S|    1|             null|         null|09f4d09b-4136-421...|media_access|                 0|                0|   32|   vivo|   null|WIFI|     null|   null|    10|  A|             null|{00000000-490e-32...|     null|   null|1622626201296|   null|       1622625584347|         null|hemantmadhukarrao...|                null|        103.247.4.78|1.032837925E9|8acf88171981753e0...|\n",
            "|109154002|  6.0.8|null|1.197657474E9|1622626200905|98ca0784ab86238e|   S|    1|             null|         null|c6793fbd-7c43-4e2...|media_access|           24.2369|           77.181|  101|   vivo|   null|  4G|     null|   null| 8.1.0|  A|             null|{00000000-490e-32...|     null|   null|1622626198816|   null|       1622623134274|         null|       ril1197657474|                null|2409:4043:2e89:f2...|1.197657476E9|98ca0784ab86238ec...|\n",
            "|109154002|1.6.6.4| Jio|3.135559391E9|1622626200961|fbd03bd3fbf584d4|   F| null|                 |        F320B|65ddab81-6644-412...|media_access|              null|             null|   45|    LYF|Feature|  4G|Landscape|2.5.3.2|48.0a2|  K|   20201009165323|{null, null, null...|       NA|240x320|1622626199835|1.6.6.4|1622625821686ef2b...|KaiOS 2.5.3.2|      ujjalbiswas_50|Mozilla/5.0 (Mobi...|2409:4061:499:887...|3.135559393E9|fbd03bd3fbf584d46...|\n",
            "|109154002|  6.0.8|null|7.150862665E9|1622626200985|40cf2e977cb78ceb|   S|    1|             null|         null|586cff0a-695e-421...|media_access|                 0|                0|   32|   vivo|   null|  4G|     null|   null| 8.1.0|  A|             null|{00000000-490e-32...|     null|   null|1622626200157|   null|       1622623354122|         null|      serazahmad-060|                null|2409:4063:4d87:53...|7.150862667E9|40cf2e977cb78ceb5...|\n",
            "+---------+-------+----+-------------+-------------+----------------+----+-----+-----------------+-------------+--------------------+------------+------------------+-----------------+-----+-------+-------+----+---------+-------+------+---+-----------------+--------------------+---------+-------+-------------+-------+--------------------+-------------+--------------------+--------------------+--------------------+-------------+--------------------+\n",
            "\n",
            "(7047321247.0, 1)\n",
            "(7137774035.0, 1)\n",
            "(1124003909.0, 1)\n",
            "(1132537431.0, 1)\n",
            "(3071421502.0, 1)\n",
            "(3140553756.0, 1)\n",
            "(1140063322.0, 1)\n",
            "(7086959243.0, 1)\n",
            "(1108323902.0, 1)\n",
            "(3073231160.0, 1)\n",
            "(3122832937.0, 1)\n",
            "(1135328819.0, 1)\n",
            "(5101332368.0, 1)\n",
            "(3005330614.0, 1)\n",
            "(1112169282.0, 1)\n",
            "(1218102819.0, 1)\n",
            "(1032837923.0, 1)\n",
            "(1197657474.0, 1)\n",
            "(3135559391.0, 1)\n",
            "(7150862665.0, 1)\n",
            "+---------+-------+----+-------------+-------------+----------------+----+-----+-----------------+-------------+--------------------+------------+------------------+-----------------+-----+-------+-------+----+---------+-------+------+---+-----------------+--------------------+---------+-------+-------------+-------+--------------------+-------------+--------------------+--------------------+--------------------+-------------+--------------------+\n",
            "|     akey|    avn|   c|        crmid|    dateflink|             did|dtpe|evtno|firmware_revision|hardware_info|              idamid|         key|               lat|              lng|logno|    mnu|    mod| nwk|      ori|os_name|   osv| pf|platform_build_id|                 pro|profileid|    res|          rtc|    sdv|                 sid|     software|                 uid|          user_agent|     x-forwarded-for|    newColumn|        concatColumn|\n",
            "+---------+-------+----+-------------+-------------+----------------+----+-----+-----------------+-------------+--------------------+------------+------------------+-----------------+-----+-------+-------+----+---------+-------+------+---+-----------------+--------------------+---------+-------+-------------+-------+--------------------+-------------+--------------------+--------------------+--------------------+-------------+--------------------+\n",
            "|109154002|  6.0.8|null|7.047321247E9|1622626200111|5034ef043e8f2749|   S|    1|             null|         null|e281f8e4-bdea-4a5...|media_access|           27.5574|          78.6643|   23|   vivo|   null|  4G|     null|   null|   6.0|  A|             null|{00000000-1ca7-1f...|     null|   null|1622626190636|   null|       1622626172573|         null|       ril7047321247|                null|2409:4053:202:82e...|7.047321249E9|5034ef043e8f2749e...|\n",
            "|109154002|1.6.6.4| Jio|7.137774035E9|1622626200278|1dd45ec58313ebb4|   F| null|                 |         F90M|6bf00fe8-dceb-464...|media_access|30.531692504882812|75.88119506835938|   20|    LYF|Feature|  4G|Landscape|    2.5|48.0a2|  K|   20201029161555|{null, null, null...|       NA|240x320|1622626199874|1.6.6.4|16226261766384e30...|    KaiOS 2.5|      neelamkumar781|Mozilla/5.0 (Mobi...|2409:4055:69d:3cd...|7.137774037E9|1dd45ec58313ebb46...|\n",
            "|109154002|  6.0.8|null|1.124003909E9|1622626200293|3bbb560707f29684|   S|    1|             null|         null|ab9096ac-57a8-426...|media_access|           26.9035|           75.729|   54| Xiaomi|   null|  4G|     null|   null| 8.1.0|  A|             null|{00000000-5487-3f...|     null|   null|1622626198459|   null|       1622625884908|         null|         salamkhan19|                null|2409:4052:2e02:60...|1.124003911E9|3bbb560707f29684a...|\n",
            "|109154002|  6.0.8|null|1.132537431E9|1622626200307|98020733e34987a9|   S|    1|             null|         null|171f3a72-697e-405...|media_access|                 0|                0|  137| Xiaomi|   null|  4G|     null|   null|    10|  A|             null|{00000000-1e5c-e7...|     null|   null|1622626197645|   null|       1622625444655|         null|       ril1132537431|                null|        157.38.63.70|1.132537433E9|98020733e34987a91...|\n",
            "|109154002|  6.0.8|null|3.071421502E9|1622626200452|e463668faa1d5874|   S|    1|             null|         null|b90c740d-6f9f-4ae...|media_access|           22.7284|          88.4677|   93|samsung|   null|WIFI|     null|   null|    11|  A|             null|{ffffffff-b7f8-c9...|     null|   null|1622626199200|   null|       1622625314706|         null|     kingsukghosh-41|                null|       103.76.82.207|3.071421504E9|e463668faa1d5874b...|\n",
            "|109154002|  6.0.8|null|3.140553756E9|1622626200478|a11e9f558353b398|   S|    1|             null|         null|2c58e8c8-4573-4ce...|media_access|                 0|                0|  120|   vivo|   null|  4G|     null|   null|    11|  A|             null|{ffffffff-8673-95...|     null|   null|1622626196839|   null|       1622624348354|         null|       ril3140553756|                null|2409:4062:18a:749...|3.140553758E9|a11e9f558353b3982...|\n",
            "|109154002|  6.0.7|null|1.140063322E9|1622626200478|c8e1820703f52ab8|   S|    1|             null|         null|287796f8-f2f0-468...|media_access|                 0|                0|   26|   vivo|   null|  4G|     null|   null| 6.0.1|  A|             null|{ffffffff-8602-d9...|     null|   null|1622626192270|   null|       1622626127116|         null| Arun.Ganpat.Talekar|                null|2409:4042:2d86:43...|1.140063324E9|c8e1820703f52ab82...|\n",
            "|109154002|  6.0.8|null|7.086959243E9|1622626200480|87445dff7df45418|   S|    1|             null|         null|fc0e777a-8544-426...|media_access|           30.5964|          77.2982|   17| Xiaomi|   null|  4G|     null|   null| 7.1.2|  A|             null|{ffffffff-89dd-4e...|     null|   null|1622626198847|   null|       1622626098402|         null|       ril7086959243|                null|2409:4056:e9e:7f6...|7.086959245E9|87445dff7df45418f...|\n",
            "|109154002|  6.0.8|null|1.108323902E9|1622626200531|6b0cc8e17335e2ed|   S|    1|             null|         null|409f562a-70bb-4f5...|media_access|                 0|                0|   41|samsung|   null|  4G|     null|   null|    10|  A|             null|{ffffffff-8b21-6e...|     null|   null|1622626199147|   null|       1622624159275|         null|Vasava.Dilipkumar...|                null|2405:204:8106:eeb...|1.108323904E9|6b0cc8e17335e2ed4...|\n",
            "|109154002|  6.0.7|null| 3.07323116E9|1622626200540|b5364b4e4efddc9a|   S|    1|             null|         null|7208b35a-f88d-4d9...|media_access|                 0|                0|  107|   OPPO|   null|  4G|     null|   null|     9|  A|             null|{00000000-518e-b7...|     null|   null|1622626197557|   null|       1622621486500|         null|       bulbulibibi75|                null|2409:4061:2091:ec...|3.073231162E9|b5364b4e4efddc9a7...|\n",
            "|109154002|  6.0.7|null|3.122832937E9|1622626200549|f9ce164bc9da2ce1|   S|    1|             null|         null|852f096b-18c2-4c4...|media_access|                 0|                0|   60| Realme|   null|  4G|     null|   null|     9|  A|             null|{00000000-4c79-47...|     null|   null|1622626200543|   null|       1622625874674|         null|       ril3122832937|                null|2409:4064:2e2f:8a...|3.122832939E9|f9ce164bc9da2ce18...|\n",
            "|109154002|  6.0.7|null|1.135328819E9|1622626200550|54305bd8b8d84a30|   S|    1|             null|         null|aa9dabb6-aa2f-4ce...|media_access|                 0|                0|   35| realme|   null|WIFI|     null|   null|    10|  A|             null|{00000000-54f8-70...|     null|   null|1622626196977|   null|       1622625787302|         null|    shaikh.anam.bano|                null|       103.123.224.8|1.135328821E9|54305bd8b8d84a30a...|\n",
            "|109154002|  6.0.7|null|5.101332368E9|1622626200551|1556662b9b9bfb19|   S|    1|             null|         null|2627d78f-9cad-4c9...|media_access|            13.841|          74.6245|   48| Xiaomi|   null|  4G|     null|   null|    10|  A|             null|{00000000-2011-c0...|     null|   null|1622626198216|   null|       1622624916229|         null|           gokul9517|                null|2409:4071:2088:14...| 5.10133237E9|1556662b9b9bfb192...|\n",
            "|109154002|  6.0.8|null|3.005330614E9|1622626200880|a41a92b866e55f40|   S|    1|             null|         null|322de4dc-1748-4b5...|media_access|           21.9791|          87.7809|  120|   OPPO|   null|  4G|     null|   null|    10|  A|             null|{00000000-518f-2b...|     null|   null|1622626196994|   null|       1622624437706|         null|    tapaskumardas-64|                null|2409:4061:608:ced...|3.005330616E9|a41a92b866e55f403...|\n",
            "|109154002|1.6.6.4| Jio|1.112169282E9|1622626200889|edddf160ce4ea867|   F| null|                 |        F320B|464ee388-b26b-4e4...|media_access|              null|             null|   70|    LYF|Feature|  4G|Landscape|2.5.3.2|48.0a2|  K|   20210315171215|{null, null, null...|       NA|240x320|1622626199758|1.6.6.4|16226255474632f90...|KaiOS 2.5.3.2|  mahliyamukeshbhai8|Mozilla/5.0 (Mobi...|2405:205:c8c6:460...|1.112169284E9|edddf160ce4ea8674...|\n",
            "|109154002|  6.0.8|null|1.218102819E9|1622626200904|871a9531cecb6d1c|   S|    1|             null|         null|992edb59-889b-454...|media_access|                 0|                0|   46| Xiaomi|   null|  4G|     null|   null|    10|  A|             null|{ffffffff-bca0-3b...|     null|   null|1622626198721|   null|       1622626073116|         null|Suvama.Ankush.Wag...|                null|2409:4042:2402:c0...|1.218102821E9|871a9531cecb6d1c9...|\n",
            "|109154002|  6.0.8|null|1.032837923E9|1622626200904|8acf88171981753e|   S|    1|             null|         null|09f4d09b-4136-421...|media_access|                 0|                0|   32|   vivo|   null|WIFI|     null|   null|    10|  A|             null|{00000000-490e-32...|     null|   null|1622626201296|   null|       1622625584347|         null|hemantmadhukarrao...|                null|        103.247.4.78|1.032837925E9|8acf88171981753e0...|\n",
            "|109154002|  6.0.8|null|1.197657474E9|1622626200905|98ca0784ab86238e|   S|    1|             null|         null|c6793fbd-7c43-4e2...|media_access|           24.2369|           77.181|  101|   vivo|   null|  4G|     null|   null| 8.1.0|  A|             null|{00000000-490e-32...|     null|   null|1622626198816|   null|       1622623134274|         null|       ril1197657474|                null|2409:4043:2e89:f2...|1.197657476E9|98ca0784ab86238ec...|\n",
            "|109154002|1.6.6.4| Jio|3.135559391E9|1622626200961|fbd03bd3fbf584d4|   F| null|                 |        F320B|65ddab81-6644-412...|media_access|              null|             null|   45|    LYF|Feature|  4G|Landscape|2.5.3.2|48.0a2|  K|   20201009165323|{null, null, null...|       NA|240x320|1622626199835|1.6.6.4|1622625821686ef2b...|KaiOS 2.5.3.2|      ujjalbiswas_50|Mozilla/5.0 (Mobi...|2409:4061:499:887...|3.135559393E9|fbd03bd3fbf584d46...|\n",
            "|109154002|  6.0.8|null|7.150862665E9|1622626200985|40cf2e977cb78ceb|   S|    1|             null|         null|586cff0a-695e-421...|media_access|                 0|                0|   32|   vivo|   null|  4G|     null|   null| 8.1.0|  A|             null|{00000000-490e-32...|     null|   null|1622626200157|   null|       1622623354122|         null|      serazahmad-060|                null|2409:4063:4d87:53...|7.150862667E9|40cf2e977cb78ceb5...|\n",
            "+---------+-------+----+-------------+-------------+----------------+----+-----+-----------------+-------------+--------------------+------------+------------------+-----------------+-----+-------+-------+----+---------+-------+------+---+-----------------+--------------------+---------+-------+-------------+-------+--------------------+-------------+--------------------+--------------------+--------------------+-------------+--------------------+\n",
            "\n"
          ]
        }
      ]
    },
    {
      "cell_type": "code",
      "source": [
        "\n",
        "for result in count_results:\n",
        "    print(result)"
      ],
      "metadata": {
        "colab": {
          "base_uri": "https://localhost:8080/"
        },
        "id": "ZZ55Zkfy90k3",
        "outputId": "9c5f2635-f914-4579-a174-26b37a44d26d"
      },
      "execution_count": 21,
      "outputs": [
        {
          "output_type": "stream",
          "name": "stdout",
          "text": [
            "(7047321247.0, 1)\n",
            "(7137774035.0, 1)\n",
            "(1124003909.0, 1)\n",
            "(1132537431.0, 1)\n",
            "(3071421502.0, 1)\n",
            "(3140553756.0, 1)\n",
            "(1140063322.0, 1)\n",
            "(7086959243.0, 1)\n",
            "(1108323902.0, 1)\n",
            "(3073231160.0, 1)\n",
            "(3122832937.0, 1)\n",
            "(1135328819.0, 1)\n",
            "(5101332368.0, 1)\n",
            "(3005330614.0, 1)\n",
            "(1112169282.0, 1)\n",
            "(1218102819.0, 1)\n",
            "(1032837923.0, 1)\n",
            "(1197657474.0, 1)\n",
            "(3135559391.0, 1)\n",
            "(7150862665.0, 1)\n"
          ]
        }
      ]
    },
    {
      "cell_type": "code",
      "source": [
        "from pyspark.sql import SparkSession\n",
        "\n",
        "spark = SparkSession.builder \\\n",
        "    .appName(\"Find Unique Users\") \\\n",
        "    .getOrCreate()\n",
        "\n",
        "df = spark.read.json(\"/content/short.json\")\n",
        "\n",
        "unique_users_df = df.select(\"crmid\").distinct()\n",
        "\n",
        "unique_users_df.show()\n",
        "\n",
        "spark.stop()\n"
      ],
      "metadata": {
        "colab": {
          "base_uri": "https://localhost:8080/"
        },
        "id": "PfyESaIJ93c2",
        "outputId": "a17005c4-b926-4975-8a26-ccc606d04f0a"
      },
      "execution_count": 22,
      "outputs": [
        {
          "output_type": "stream",
          "name": "stdout",
          "text": [
            "+----------+\n",
            "|     crmid|\n",
            "+----------+\n",
            "|1197657474|\n",
            "|7137774035|\n",
            "|3135559391|\n",
            "|1135328819|\n",
            "|5101332368|\n",
            "|3073231160|\n",
            "|3140553756|\n",
            "|1108323902|\n",
            "|1132537431|\n",
            "|3122832937|\n",
            "|1140063322|\n",
            "|7047321247|\n",
            "|1124003909|\n",
            "|1112169282|\n",
            "|3071421502|\n",
            "|7150862665|\n",
            "|3005330614|\n",
            "|1218102819|\n",
            "|1032837923|\n",
            "|7086959243|\n",
            "+----------+\n",
            "\n"
          ]
        }
      ]
    },
    {
      "cell_type": "code",
      "source": [
        "from pyspark.sql import SparkSession\n",
        "\n",
        "spark = SparkSession.builder \\\n",
        "    .appName(\"Find Unique Users\") \\\n",
        "    .getOrCreate()\n",
        "\n",
        "df = spark.read.json(\"/content/short.json\")\n",
        "\n",
        "unique_users_df = df.select(\"mnu\").distinct()\n",
        "\n",
        "unique_users_df.show()\n",
        "\n",
        "spark.stop()"
      ],
      "metadata": {
        "colab": {
          "base_uri": "https://localhost:8080/"
        },
        "id": "htHVCIZ_95GL",
        "outputId": "25f87bc6-f05d-427d-e873-f338ed570f2d"
      },
      "execution_count": 23,
      "outputs": [
        {
          "output_type": "stream",
          "name": "stdout",
          "text": [
            "+-------+\n",
            "|    mnu|\n",
            "+-------+\n",
            "|   OPPO|\n",
            "| Realme|\n",
            "| Xiaomi|\n",
            "|samsung|\n",
            "|   vivo|\n",
            "|    LYF|\n",
            "| realme|\n",
            "+-------+\n",
            "\n"
          ]
        }
      ]
    },
    {
      "cell_type": "code",
      "source": [
        "from pyspark.sql import SparkSession\n",
        "\n",
        "spark = SparkSession.builder \\\n",
        "    .appName(\"Jio Analytics\") \\\n",
        "    .getOrCreate()\n",
        "\n",
        "df = spark.read.json(\"/content/short.json\")\n",
        "df.show()\n"
      ],
      "metadata": {
        "colab": {
          "base_uri": "https://localhost:8080/"
        },
        "id": "T7_R-cN899Ai",
        "outputId": "d0dc8735-d92d-4b28-b8ec-5b8bdf6c6969"
      },
      "execution_count": 24,
      "outputs": [
        {
          "output_type": "stream",
          "name": "stdout",
          "text": [
            "+---------+-------+----+----------+-------------+----------------+----+-----+-----------------+-------------+--------------------+------------+------------------+-----------------+-----+-------+-------+----+---------+-------+------+---+-----------------+--------------------+---------+-------+-------------+-------+--------------------+-------------+--------------------+--------------------+--------------------+\n",
            "|     akey|    avn|   c|     crmid|    dateflink|             did|dtpe|evtno|firmware_revision|hardware_info|              idamid|         key|               lat|              lng|logno|    mnu|    mod| nwk|      ori|os_name|   osv| pf|platform_build_id|                 pro|profileid|    res|          rtc|    sdv|                 sid|     software|                 uid|          user_agent|     x-forwarded-for|\n",
            "+---------+-------+----+----------+-------------+----------------+----+-----+-----------------+-------------+--------------------+------------+------------------+-----------------+-----+-------+-------+----+---------+-------+------+---+-----------------+--------------------+---------+-------+-------------+-------+--------------------+-------------+--------------------+--------------------+--------------------+\n",
            "|109154002|  6.0.8|null|7047321247|1622626200111|5034ef043e8f2749|   S|    1|             null|         null|e281f8e4-bdea-4a5...|media_access|           27.5574|          78.6643|   23|   vivo|   null|  4G|     null|   null|   6.0|  A|             null|{00000000-1ca7-1f...|     null|   null|1622626190636|   null|       1622626172573|         null|       ril7047321247|                null|2409:4053:202:82e...|\n",
            "|109154002|1.6.6.4| Jio|7137774035|1622626200278|1dd45ec58313ebb4|   F| null|                 |         F90M|6bf00fe8-dceb-464...|media_access|30.531692504882812|75.88119506835938|   20|    LYF|Feature|  4G|Landscape|    2.5|48.0a2|  K|   20201029161555|{null, null, null...|       NA|240x320|1622626199874|1.6.6.4|16226261766384e30...|    KaiOS 2.5|      neelamkumar781|Mozilla/5.0 (Mobi...|2409:4055:69d:3cd...|\n",
            "|109154002|  6.0.8|null|1124003909|1622626200293|3bbb560707f29684|   S|    1|             null|         null|ab9096ac-57a8-426...|media_access|           26.9035|           75.729|   54| Xiaomi|   null|  4G|     null|   null| 8.1.0|  A|             null|{00000000-5487-3f...|     null|   null|1622626198459|   null|       1622625884908|         null|         salamkhan19|                null|2409:4052:2e02:60...|\n",
            "|109154002|  6.0.8|null|1132537431|1622626200307|98020733e34987a9|   S|    1|             null|         null|171f3a72-697e-405...|media_access|                 0|                0|  137| Xiaomi|   null|  4G|     null|   null|    10|  A|             null|{00000000-1e5c-e7...|     null|   null|1622626197645|   null|       1622625444655|         null|       ril1132537431|                null|        157.38.63.70|\n",
            "|109154002|  6.0.8|null|3071421502|1622626200452|e463668faa1d5874|   S|    1|             null|         null|b90c740d-6f9f-4ae...|media_access|           22.7284|          88.4677|   93|samsung|   null|WIFI|     null|   null|    11|  A|             null|{ffffffff-b7f8-c9...|     null|   null|1622626199200|   null|       1622625314706|         null|     kingsukghosh-41|                null|       103.76.82.207|\n",
            "|109154002|  6.0.8|null|3140553756|1622626200478|a11e9f558353b398|   S|    1|             null|         null|2c58e8c8-4573-4ce...|media_access|                 0|                0|  120|   vivo|   null|  4G|     null|   null|    11|  A|             null|{ffffffff-8673-95...|     null|   null|1622626196839|   null|       1622624348354|         null|       ril3140553756|                null|2409:4062:18a:749...|\n",
            "|109154002|  6.0.7|null|1140063322|1622626200478|c8e1820703f52ab8|   S|    1|             null|         null|287796f8-f2f0-468...|media_access|                 0|                0|   26|   vivo|   null|  4G|     null|   null| 6.0.1|  A|             null|{ffffffff-8602-d9...|     null|   null|1622626192270|   null|       1622626127116|         null| Arun.Ganpat.Talekar|                null|2409:4042:2d86:43...|\n",
            "|109154002|  6.0.8|null|7086959243|1622626200480|87445dff7df45418|   S|    1|             null|         null|fc0e777a-8544-426...|media_access|           30.5964|          77.2982|   17| Xiaomi|   null|  4G|     null|   null| 7.1.2|  A|             null|{ffffffff-89dd-4e...|     null|   null|1622626198847|   null|       1622626098402|         null|       ril7086959243|                null|2409:4056:e9e:7f6...|\n",
            "|109154002|  6.0.8|null|1108323902|1622626200531|6b0cc8e17335e2ed|   S|    1|             null|         null|409f562a-70bb-4f5...|media_access|                 0|                0|   41|samsung|   null|  4G|     null|   null|    10|  A|             null|{ffffffff-8b21-6e...|     null|   null|1622626199147|   null|       1622624159275|         null|Vasava.Dilipkumar...|                null|2405:204:8106:eeb...|\n",
            "|109154002|  6.0.7|null|3073231160|1622626200540|b5364b4e4efddc9a|   S|    1|             null|         null|7208b35a-f88d-4d9...|media_access|                 0|                0|  107|   OPPO|   null|  4G|     null|   null|     9|  A|             null|{00000000-518e-b7...|     null|   null|1622626197557|   null|       1622621486500|         null|       bulbulibibi75|                null|2409:4061:2091:ec...|\n",
            "|109154002|  6.0.7|null|3122832937|1622626200549|f9ce164bc9da2ce1|   S|    1|             null|         null|852f096b-18c2-4c4...|media_access|                 0|                0|   60| Realme|   null|  4G|     null|   null|     9|  A|             null|{00000000-4c79-47...|     null|   null|1622626200543|   null|       1622625874674|         null|       ril3122832937|                null|2409:4064:2e2f:8a...|\n",
            "|109154002|  6.0.7|null|1135328819|1622626200550|54305bd8b8d84a30|   S|    1|             null|         null|aa9dabb6-aa2f-4ce...|media_access|                 0|                0|   35| realme|   null|WIFI|     null|   null|    10|  A|             null|{00000000-54f8-70...|     null|   null|1622626196977|   null|       1622625787302|         null|    shaikh.anam.bano|                null|       103.123.224.8|\n",
            "|109154002|  6.0.7|null|5101332368|1622626200551|1556662b9b9bfb19|   S|    1|             null|         null|2627d78f-9cad-4c9...|media_access|            13.841|          74.6245|   48| Xiaomi|   null|  4G|     null|   null|    10|  A|             null|{00000000-2011-c0...|     null|   null|1622626198216|   null|       1622624916229|         null|           gokul9517|                null|2409:4071:2088:14...|\n",
            "|109154002|  6.0.8|null|3005330614|1622626200880|a41a92b866e55f40|   S|    1|             null|         null|322de4dc-1748-4b5...|media_access|           21.9791|          87.7809|  120|   OPPO|   null|  4G|     null|   null|    10|  A|             null|{00000000-518f-2b...|     null|   null|1622626196994|   null|       1622624437706|         null|    tapaskumardas-64|                null|2409:4061:608:ced...|\n",
            "|109154002|1.6.6.4| Jio|1112169282|1622626200889|edddf160ce4ea867|   F| null|                 |        F320B|464ee388-b26b-4e4...|media_access|              null|             null|   70|    LYF|Feature|  4G|Landscape|2.5.3.2|48.0a2|  K|   20210315171215|{null, null, null...|       NA|240x320|1622626199758|1.6.6.4|16226255474632f90...|KaiOS 2.5.3.2|  mahliyamukeshbhai8|Mozilla/5.0 (Mobi...|2405:205:c8c6:460...|\n",
            "|109154002|  6.0.8|null|1218102819|1622626200904|871a9531cecb6d1c|   S|    1|             null|         null|992edb59-889b-454...|media_access|                 0|                0|   46| Xiaomi|   null|  4G|     null|   null|    10|  A|             null|{ffffffff-bca0-3b...|     null|   null|1622626198721|   null|       1622626073116|         null|Suvama.Ankush.Wag...|                null|2409:4042:2402:c0...|\n",
            "|109154002|  6.0.8|null|1032837923|1622626200904|8acf88171981753e|   S|    1|             null|         null|09f4d09b-4136-421...|media_access|                 0|                0|   32|   vivo|   null|WIFI|     null|   null|    10|  A|             null|{00000000-490e-32...|     null|   null|1622626201296|   null|       1622625584347|         null|hemantmadhukarrao...|                null|        103.247.4.78|\n",
            "|109154002|  6.0.8|null|1197657474|1622626200905|98ca0784ab86238e|   S|    1|             null|         null|c6793fbd-7c43-4e2...|media_access|           24.2369|           77.181|  101|   vivo|   null|  4G|     null|   null| 8.1.0|  A|             null|{00000000-490e-32...|     null|   null|1622626198816|   null|       1622623134274|         null|       ril1197657474|                null|2409:4043:2e89:f2...|\n",
            "|109154002|1.6.6.4| Jio|3135559391|1622626200961|fbd03bd3fbf584d4|   F| null|                 |        F320B|65ddab81-6644-412...|media_access|              null|             null|   45|    LYF|Feature|  4G|Landscape|2.5.3.2|48.0a2|  K|   20201009165323|{null, null, null...|       NA|240x320|1622626199835|1.6.6.4|1622625821686ef2b...|KaiOS 2.5.3.2|      ujjalbiswas_50|Mozilla/5.0 (Mobi...|2409:4061:499:887...|\n",
            "|109154002|  6.0.8|null|7150862665|1622626200985|40cf2e977cb78ceb|   S|    1|             null|         null|586cff0a-695e-421...|media_access|                 0|                0|   32|   vivo|   null|  4G|     null|   null| 8.1.0|  A|             null|{00000000-490e-32...|     null|   null|1622626200157|   null|       1622623354122|         null|      serazahmad-060|                null|2409:4063:4d87:53...|\n",
            "+---------+-------+----+----------+-------------+----------------+----+-----+-----------------+-------------+--------------------+------------+------------------+-----------------+-----+-------+-------+----+---------+-------+------+---+-----------------+--------------------+---------+-------+-------------+-------+--------------------+-------------+--------------------+--------------------+--------------------+\n",
            "\n"
          ]
        }
      ]
    },
    {
      "cell_type": "code",
      "source": [
        "from pyspark.sql.functions import col, from_unixtime\n",
        "\n",
        "cleaned_df = df \\\n",
        "    .withColumn(\"rtc\", from_unixtime(col(\"rtc\"))) \\\n",
        "    .withColumn(\"WatchTimeInSeconds\", col(\"pro.d\").cast(\"int\")) \\\n",
        "    .na.fill(\"unknown\", [\"pro.ch\"]) \\\n",
        "    .dropDuplicates()\n",
        "\n",
        "cleaned_df.show()"
      ],
      "metadata": {
        "colab": {
          "base_uri": "https://localhost:8080/"
        },
        "id": "n5YV-Xm6-AEE",
        "outputId": "bd15fd47-fe65-4b0e-aad1-9b31817f7efe"
      },
      "execution_count": 25,
      "outputs": [
        {
          "output_type": "stream",
          "name": "stdout",
          "text": [
            "+---------+-------+----+----------+-------------+----------------+----+-----+-----------------+-------------+--------------------+------------+------------------+-----------------+-----+-------+-------+----+---------+-------+------+---+-----------------+--------------------+---------+-------+--------------------+-------+--------------------+-------------+--------------------+--------------------+--------------------+------------------+\n",
            "|     akey|    avn|   c|     crmid|    dateflink|             did|dtpe|evtno|firmware_revision|hardware_info|              idamid|         key|               lat|              lng|logno|    mnu|    mod| nwk|      ori|os_name|   osv| pf|platform_build_id|                 pro|profileid|    res|                 rtc|    sdv|                 sid|     software|                 uid|          user_agent|     x-forwarded-for|WatchTimeInSeconds|\n",
            "+---------+-------+----+----------+-------------+----------------+----+-----+-----------------+-------------+--------------------+------------+------------------+-----------------+-----+-------+-------+----+---------+-------+------+---+-----------------+--------------------+---------+-------+--------------------+-------+--------------------+-------------+--------------------+--------------------+--------------------+------------------+\n",
            "|109154002|  6.0.7|null|1135328819|1622626200550|54305bd8b8d84a30|   S|    1|             null|         null|aa9dabb6-aa2f-4ce...|media_access|                 0|                0|   35| realme|   null|WIFI|     null|   null|    10|  A|             null|{00000000-54f8-70...|     null|   null|+53388-12-22 19:0...|   null|       1622625787302|         null|    shaikh.anam.bano|                null|       103.123.224.8|                 5|\n",
            "|109154002|  6.0.8|null|1218102819|1622626200904|871a9531cecb6d1c|   S|    1|             null|         null|992edb59-889b-454...|media_access|                 0|                0|   46| Xiaomi|   null|  4G|     null|   null|    10|  A|             null|{ffffffff-bca0-3b...|     null|   null|+53388-12-22 19:3...|   null|       1622626073116|         null|Suvama.Ankush.Wag...|                null|2409:4042:2402:c0...|                22|\n",
            "|109154002|  6.0.7|null|1140063322|1622626200478|c8e1820703f52ab8|   S|    1|             null|         null|287796f8-f2f0-468...|media_access|                 0|                0|   26|   vivo|   null|  4G|     null|   null| 6.0.1|  A|             null|{ffffffff-8602-d9...|     null|   null|+53388-12-22 17:5...|   null|       1622626127116|         null| Arun.Ganpat.Talekar|                null|2409:4042:2d86:43...|                 0|\n",
            "|109154002|  6.0.8|null|1124003909|1622626200293|3bbb560707f29684|   S|    1|             null|         null|ab9096ac-57a8-426...|media_access|           26.9035|           75.729|   54| Xiaomi|   null|  4G|     null|   null| 8.1.0|  A|             null|{00000000-5487-3f...|     null|   null|+53388-12-22 19:3...|   null|       1622625884908|         null|         salamkhan19|                null|2409:4052:2e02:60...|               140|\n",
            "|109154002|  6.0.8|null|1132537431|1622626200307|98020733e34987a9|   S|    1|             null|         null|171f3a72-697e-405...|media_access|                 0|                0|  137| Xiaomi|   null|  4G|     null|   null|    10|  A|             null|{00000000-1e5c-e7...|     null|   null|+53388-12-22 19:2...|   null|       1622625444655|         null|       ril1132537431|                null|        157.38.63.70|                 0|\n",
            "|109154002|  6.0.8|null|7047321247|1622626200111|5034ef043e8f2749|   S|    1|             null|         null|e281f8e4-bdea-4a5...|media_access|           27.5574|          78.6643|   23|   vivo|   null|  4G|     null|   null|   6.0|  A|             null|{00000000-1ca7-1f...|     null|   null|+53388-12-22 17:2...|   null|       1622626172573|         null|       ril7047321247|                null|2409:4053:202:82e...|                 3|\n",
            "|109154002|  6.0.8|null|3140553756|1622626200478|a11e9f558353b398|   S|    1|             null|         null|2c58e8c8-4573-4ce...|media_access|                 0|                0|  120|   vivo|   null|  4G|     null|   null|    11|  A|             null|{ffffffff-8673-95...|     null|   null|+53388-12-22 19:0...|   null|       1622624348354|         null|       ril3140553756|                null|2409:4062:18a:749...|               685|\n",
            "|109154002|  6.0.8|null|3005330614|1622626200880|a41a92b866e55f40|   S|    1|             null|         null|322de4dc-1748-4b5...|media_access|           21.9791|          87.7809|  120|   OPPO|   null|  4G|     null|   null|    10|  A|             null|{00000000-518f-2b...|     null|   null|+53388-12-22 19:0...|   null|       1622624437706|         null|    tapaskumardas-64|                null|2409:4061:608:ced...|                74|\n",
            "|109154002|  6.0.7|null|3073231160|1622626200540|b5364b4e4efddc9a|   S|    1|             null|         null|7208b35a-f88d-4d9...|media_access|                 0|                0|  107|   OPPO|   null|  4G|     null|   null|     9|  A|             null|{00000000-518e-b7...|     null|   null|+53388-12-22 19:1...|   null|       1622621486500|         null|       bulbulibibi75|                null|2409:4061:2091:ec...|                 0|\n",
            "|109154002|  6.0.7|null|3122832937|1622626200549|f9ce164bc9da2ce1|   S|    1|             null|         null|852f096b-18c2-4c4...|media_access|                 0|                0|   60| Realme|   null|  4G|     null|   null|     9|  A|             null|{00000000-4c79-47...|     null|   null|+53388-12-22 20:0...|   null|       1622625874674|         null|       ril3122832937|                null|2409:4064:2e2f:8a...|                52|\n",
            "|109154002|1.6.6.4| Jio|7137774035|1622626200278|1dd45ec58313ebb4|   F| null|                 |         F90M|6bf00fe8-dceb-464...|media_access|30.531692504882812|75.88119506835938|   20|    LYF|Feature|  4G|Landscape|    2.5|48.0a2|  K|   20201029161555|{null, null, null...|       NA|240x320|+53388-12-22 19:5...|1.6.6.4|16226261766384e30...|    KaiOS 2.5|      neelamkumar781|Mozilla/5.0 (Mobi...|2409:4055:69d:3cd...|                 2|\n",
            "|109154002|  6.0.8|null|3071421502|1622626200452|e463668faa1d5874|   S|    1|             null|         null|b90c740d-6f9f-4ae...|media_access|           22.7284|          88.4677|   93|samsung|   null|WIFI|     null|   null|    11|  A|             null|{ffffffff-b7f8-c9...|     null|   null|+53388-12-22 19:4...|   null|       1622625314706|         null|     kingsukghosh-41|                null|       103.76.82.207|                48|\n",
            "|109154002|1.6.6.4| Jio|3135559391|1622626200961|fbd03bd3fbf584d4|   F| null|                 |        F320B|65ddab81-6644-412...|media_access|              null|             null|   45|    LYF|Feature|  4G|Landscape|2.5.3.2|48.0a2|  K|   20201009165323|{null, null, null...|       NA|240x320|+53388-12-22 19:5...|1.6.6.4|1622625821686ef2b...|KaiOS 2.5.3.2|      ujjalbiswas_50|Mozilla/5.0 (Mobi...|2409:4061:499:887...|                39|\n",
            "|109154002|  6.0.8|null|1032837923|1622626200904|8acf88171981753e|   S|    1|             null|         null|09f4d09b-4136-421...|media_access|                 0|                0|   32|   vivo|   null|WIFI|     null|   null|    10|  A|             null|{00000000-490e-32...|     null|   null|+53388-12-22 20:2...|   null|       1622625584347|         null|hemantmadhukarrao...|                null|        103.247.4.78|               546|\n",
            "|109154002|1.6.6.4| Jio|1112169282|1622626200889|edddf160ce4ea867|   F| null|                 |        F320B|464ee388-b26b-4e4...|media_access|              null|             null|   70|    LYF|Feature|  4G|Landscape|2.5.3.2|48.0a2|  K|   20210315171215|{null, null, null...|       NA|240x320|+53388-12-22 19:5...|1.6.6.4|16226255474632f90...|KaiOS 2.5.3.2|  mahliyamukeshbhai8|Mozilla/5.0 (Mobi...|2405:205:c8c6:460...|                 9|\n",
            "|109154002|  6.0.7|null|5101332368|1622626200551|1556662b9b9bfb19|   S|    1|             null|         null|2627d78f-9cad-4c9...|media_access|            13.841|          74.6245|   48| Xiaomi|   null|  4G|     null|   null|    10|  A|             null|{00000000-2011-c0...|     null|   null|+53388-12-22 19:3...|   null|       1622624916229|         null|           gokul9517|                null|2409:4071:2088:14...|               314|\n",
            "|109154002|  6.0.8|null|7150862665|1622626200985|40cf2e977cb78ceb|   S|    1|             null|         null|586cff0a-695e-421...|media_access|                 0|                0|   32|   vivo|   null|  4G|     null|   null| 8.1.0|  A|             null|{00000000-490e-32...|     null|   null|+53388-12-22 20:0...|   null|       1622623354122|         null|      serazahmad-060|                null|2409:4063:4d87:53...|              2449|\n",
            "|109154002|  6.0.8|null|1108323902|1622626200531|6b0cc8e17335e2ed|   S|    1|             null|         null|409f562a-70bb-4f5...|media_access|                 0|                0|   41|samsung|   null|  4G|     null|   null|    10|  A|             null|{ffffffff-8b21-6e...|     null|   null|+53388-12-22 19:4...|   null|       1622624159275|         null|Vasava.Dilipkumar...|                null|2405:204:8106:eeb...|              1095|\n",
            "|109154002|  6.0.8|null|7086959243|1622626200480|87445dff7df45418|   S|    1|             null|         null|fc0e777a-8544-426...|media_access|           30.5964|          77.2982|   17| Xiaomi|   null|  4G|     null|   null| 7.1.2|  A|             null|{ffffffff-89dd-4e...|     null|   null|+53388-12-22 19:4...|   null|       1622626098402|         null|       ril7086959243|                null|2409:4056:e9e:7f6...|                41|\n",
            "|109154002|  6.0.8|null|1197657474|1622626200905|98ca0784ab86238e|   S|    1|             null|         null|c6793fbd-7c43-4e2...|media_access|           24.2369|           77.181|  101|   vivo|   null|  4G|     null|   null| 8.1.0|  A|             null|{00000000-490e-32...|     null|   null|+53388-12-22 19:4...|   null|       1622623134274|         null|       ril1197657474|                null|2409:4043:2e89:f2...|                11|\n",
            "+---------+-------+----+----------+-------------+----------------+----+-----+-----------------+-------------+--------------------+------------+------------------+-----------------+-----+-------+-------+----+---------+-------+------+---+-----------------+--------------------+---------+-------+--------------------+-------+--------------------+-------------+--------------------+--------------------+--------------------+------------------+\n",
            "\n"
          ]
        }
      ]
    },
    {
      "cell_type": "code",
      "source": [
        "def enrich_geo_data(ip):\n",
        "    return \"SampleLocation\"\n",
        "\n",
        "from pyspark.sql.functions import udf\n",
        "from pyspark.sql.types import StringType\n",
        "\n",
        "enrich_geo_data_udf = udf(enrich_geo_data, StringType())\n",
        "\n",
        "enriched_df = cleaned_df.withColumn(\"GeoLocation\", enrich_geo_data_udf(col(\"x-forwarded-for\")))\n",
        "enriched_df.show()\n"
      ],
      "metadata": {
        "colab": {
          "base_uri": "https://localhost:8080/"
        },
        "id": "U9LOWKGp-C-H",
        "outputId": "f3e4225f-698e-48ce-d581-08bf527a4071"
      },
      "execution_count": 26,
      "outputs": [
        {
          "output_type": "stream",
          "name": "stdout",
          "text": [
            "+---------+-------+----+----------+-------------+----------------+----+-----+-----------------+-------------+--------------------+------------+------------------+-----------------+-----+-------+-------+----+---------+-------+------+---+-----------------+--------------------+---------+-------+--------------------+-------+--------------------+-------------+--------------------+--------------------+--------------------+------------------+--------------+\n",
            "|     akey|    avn|   c|     crmid|    dateflink|             did|dtpe|evtno|firmware_revision|hardware_info|              idamid|         key|               lat|              lng|logno|    mnu|    mod| nwk|      ori|os_name|   osv| pf|platform_build_id|                 pro|profileid|    res|                 rtc|    sdv|                 sid|     software|                 uid|          user_agent|     x-forwarded-for|WatchTimeInSeconds|   GeoLocation|\n",
            "+---------+-------+----+----------+-------------+----------------+----+-----+-----------------+-------------+--------------------+------------+------------------+-----------------+-----+-------+-------+----+---------+-------+------+---+-----------------+--------------------+---------+-------+--------------------+-------+--------------------+-------------+--------------------+--------------------+--------------------+------------------+--------------+\n",
            "|109154002|  6.0.7|null|1135328819|1622626200550|54305bd8b8d84a30|   S|    1|             null|         null|aa9dabb6-aa2f-4ce...|media_access|                 0|                0|   35| realme|   null|WIFI|     null|   null|    10|  A|             null|{00000000-54f8-70...|     null|   null|+53388-12-22 19:0...|   null|       1622625787302|         null|    shaikh.anam.bano|                null|       103.123.224.8|                 5|SampleLocation|\n",
            "|109154002|  6.0.8|null|1218102819|1622626200904|871a9531cecb6d1c|   S|    1|             null|         null|992edb59-889b-454...|media_access|                 0|                0|   46| Xiaomi|   null|  4G|     null|   null|    10|  A|             null|{ffffffff-bca0-3b...|     null|   null|+53388-12-22 19:3...|   null|       1622626073116|         null|Suvama.Ankush.Wag...|                null|2409:4042:2402:c0...|                22|SampleLocation|\n",
            "|109154002|  6.0.7|null|1140063322|1622626200478|c8e1820703f52ab8|   S|    1|             null|         null|287796f8-f2f0-468...|media_access|                 0|                0|   26|   vivo|   null|  4G|     null|   null| 6.0.1|  A|             null|{ffffffff-8602-d9...|     null|   null|+53388-12-22 17:5...|   null|       1622626127116|         null| Arun.Ganpat.Talekar|                null|2409:4042:2d86:43...|                 0|SampleLocation|\n",
            "|109154002|  6.0.8|null|1124003909|1622626200293|3bbb560707f29684|   S|    1|             null|         null|ab9096ac-57a8-426...|media_access|           26.9035|           75.729|   54| Xiaomi|   null|  4G|     null|   null| 8.1.0|  A|             null|{00000000-5487-3f...|     null|   null|+53388-12-22 19:3...|   null|       1622625884908|         null|         salamkhan19|                null|2409:4052:2e02:60...|               140|SampleLocation|\n",
            "|109154002|  6.0.8|null|1132537431|1622626200307|98020733e34987a9|   S|    1|             null|         null|171f3a72-697e-405...|media_access|                 0|                0|  137| Xiaomi|   null|  4G|     null|   null|    10|  A|             null|{00000000-1e5c-e7...|     null|   null|+53388-12-22 19:2...|   null|       1622625444655|         null|       ril1132537431|                null|        157.38.63.70|                 0|SampleLocation|\n",
            "|109154002|  6.0.8|null|7047321247|1622626200111|5034ef043e8f2749|   S|    1|             null|         null|e281f8e4-bdea-4a5...|media_access|           27.5574|          78.6643|   23|   vivo|   null|  4G|     null|   null|   6.0|  A|             null|{00000000-1ca7-1f...|     null|   null|+53388-12-22 17:2...|   null|       1622626172573|         null|       ril7047321247|                null|2409:4053:202:82e...|                 3|SampleLocation|\n",
            "|109154002|  6.0.8|null|3140553756|1622626200478|a11e9f558353b398|   S|    1|             null|         null|2c58e8c8-4573-4ce...|media_access|                 0|                0|  120|   vivo|   null|  4G|     null|   null|    11|  A|             null|{ffffffff-8673-95...|     null|   null|+53388-12-22 19:0...|   null|       1622624348354|         null|       ril3140553756|                null|2409:4062:18a:749...|               685|SampleLocation|\n",
            "|109154002|  6.0.8|null|3005330614|1622626200880|a41a92b866e55f40|   S|    1|             null|         null|322de4dc-1748-4b5...|media_access|           21.9791|          87.7809|  120|   OPPO|   null|  4G|     null|   null|    10|  A|             null|{00000000-518f-2b...|     null|   null|+53388-12-22 19:0...|   null|       1622624437706|         null|    tapaskumardas-64|                null|2409:4061:608:ced...|                74|SampleLocation|\n",
            "|109154002|  6.0.7|null|3073231160|1622626200540|b5364b4e4efddc9a|   S|    1|             null|         null|7208b35a-f88d-4d9...|media_access|                 0|                0|  107|   OPPO|   null|  4G|     null|   null|     9|  A|             null|{00000000-518e-b7...|     null|   null|+53388-12-22 19:1...|   null|       1622621486500|         null|       bulbulibibi75|                null|2409:4061:2091:ec...|                 0|SampleLocation|\n",
            "|109154002|  6.0.7|null|3122832937|1622626200549|f9ce164bc9da2ce1|   S|    1|             null|         null|852f096b-18c2-4c4...|media_access|                 0|                0|   60| Realme|   null|  4G|     null|   null|     9|  A|             null|{00000000-4c79-47...|     null|   null|+53388-12-22 20:0...|   null|       1622625874674|         null|       ril3122832937|                null|2409:4064:2e2f:8a...|                52|SampleLocation|\n",
            "|109154002|1.6.6.4| Jio|7137774035|1622626200278|1dd45ec58313ebb4|   F| null|                 |         F90M|6bf00fe8-dceb-464...|media_access|30.531692504882812|75.88119506835938|   20|    LYF|Feature|  4G|Landscape|    2.5|48.0a2|  K|   20201029161555|{null, null, null...|       NA|240x320|+53388-12-22 19:5...|1.6.6.4|16226261766384e30...|    KaiOS 2.5|      neelamkumar781|Mozilla/5.0 (Mobi...|2409:4055:69d:3cd...|                 2|SampleLocation|\n",
            "|109154002|  6.0.8|null|3071421502|1622626200452|e463668faa1d5874|   S|    1|             null|         null|b90c740d-6f9f-4ae...|media_access|           22.7284|          88.4677|   93|samsung|   null|WIFI|     null|   null|    11|  A|             null|{ffffffff-b7f8-c9...|     null|   null|+53388-12-22 19:4...|   null|       1622625314706|         null|     kingsukghosh-41|                null|       103.76.82.207|                48|SampleLocation|\n",
            "|109154002|1.6.6.4| Jio|3135559391|1622626200961|fbd03bd3fbf584d4|   F| null|                 |        F320B|65ddab81-6644-412...|media_access|              null|             null|   45|    LYF|Feature|  4G|Landscape|2.5.3.2|48.0a2|  K|   20201009165323|{null, null, null...|       NA|240x320|+53388-12-22 19:5...|1.6.6.4|1622625821686ef2b...|KaiOS 2.5.3.2|      ujjalbiswas_50|Mozilla/5.0 (Mobi...|2409:4061:499:887...|                39|SampleLocation|\n",
            "|109154002|  6.0.8|null|1032837923|1622626200904|8acf88171981753e|   S|    1|             null|         null|09f4d09b-4136-421...|media_access|                 0|                0|   32|   vivo|   null|WIFI|     null|   null|    10|  A|             null|{00000000-490e-32...|     null|   null|+53388-12-22 20:2...|   null|       1622625584347|         null|hemantmadhukarrao...|                null|        103.247.4.78|               546|SampleLocation|\n",
            "|109154002|1.6.6.4| Jio|1112169282|1622626200889|edddf160ce4ea867|   F| null|                 |        F320B|464ee388-b26b-4e4...|media_access|              null|             null|   70|    LYF|Feature|  4G|Landscape|2.5.3.2|48.0a2|  K|   20210315171215|{null, null, null...|       NA|240x320|+53388-12-22 19:5...|1.6.6.4|16226255474632f90...|KaiOS 2.5.3.2|  mahliyamukeshbhai8|Mozilla/5.0 (Mobi...|2405:205:c8c6:460...|                 9|SampleLocation|\n",
            "|109154002|  6.0.7|null|5101332368|1622626200551|1556662b9b9bfb19|   S|    1|             null|         null|2627d78f-9cad-4c9...|media_access|            13.841|          74.6245|   48| Xiaomi|   null|  4G|     null|   null|    10|  A|             null|{00000000-2011-c0...|     null|   null|+53388-12-22 19:3...|   null|       1622624916229|         null|           gokul9517|                null|2409:4071:2088:14...|               314|SampleLocation|\n",
            "|109154002|  6.0.8|null|7150862665|1622626200985|40cf2e977cb78ceb|   S|    1|             null|         null|586cff0a-695e-421...|media_access|                 0|                0|   32|   vivo|   null|  4G|     null|   null| 8.1.0|  A|             null|{00000000-490e-32...|     null|   null|+53388-12-22 20:0...|   null|       1622623354122|         null|      serazahmad-060|                null|2409:4063:4d87:53...|              2449|SampleLocation|\n",
            "|109154002|  6.0.8|null|1108323902|1622626200531|6b0cc8e17335e2ed|   S|    1|             null|         null|409f562a-70bb-4f5...|media_access|                 0|                0|   41|samsung|   null|  4G|     null|   null|    10|  A|             null|{ffffffff-8b21-6e...|     null|   null|+53388-12-22 19:4...|   null|       1622624159275|         null|Vasava.Dilipkumar...|                null|2405:204:8106:eeb...|              1095|SampleLocation|\n",
            "|109154002|  6.0.8|null|7086959243|1622626200480|87445dff7df45418|   S|    1|             null|         null|fc0e777a-8544-426...|media_access|           30.5964|          77.2982|   17| Xiaomi|   null|  4G|     null|   null| 7.1.2|  A|             null|{ffffffff-89dd-4e...|     null|   null|+53388-12-22 19:4...|   null|       1622626098402|         null|       ril7086959243|                null|2409:4056:e9e:7f6...|                41|SampleLocation|\n",
            "|109154002|  6.0.8|null|1197657474|1622626200905|98ca0784ab86238e|   S|    1|             null|         null|c6793fbd-7c43-4e2...|media_access|           24.2369|           77.181|  101|   vivo|   null|  4G|     null|   null| 8.1.0|  A|             null|{00000000-490e-32...|     null|   null|+53388-12-22 19:4...|   null|       1622623134274|         null|       ril1197657474|                null|2409:4043:2e89:f2...|                11|SampleLocation|\n",
            "+---------+-------+----+----------+-------------+----------------+----+-----+-----------------+-------------+--------------------+------------+------------------+-----------------+-----+-------+-------+----+---------+-------+------+---+-----------------+--------------------+---------+-------+--------------------+-------+--------------------+-------------+--------------------+--------------------+--------------------+------------------+--------------+\n",
            "\n"
          ]
        }
      ]
    },
    {
      "cell_type": "code",
      "source": [
        "from pyspark.sql import SparkSession\n",
        "\n",
        "spark = SparkSession.builder \\\n",
        "    .appName(\"Find Unique Users\") \\\n",
        "    .getOrCreate()\n",
        "\n",
        "df = spark.read.json(\"/content/short.json\")\n",
        "\n",
        "unique_users_df = df.select(\"uid\").distinct()\n",
        "\n",
        "unique_users_df.show()\n",
        "\n",
        "spark.stop()"
      ],
      "metadata": {
        "colab": {
          "base_uri": "https://localhost:8080/"
        },
        "id": "TwS2lT4K-E1y",
        "outputId": "d449229c-4698-471c-da9c-af7b147ded50"
      },
      "execution_count": 27,
      "outputs": [
        {
          "output_type": "stream",
          "name": "stdout",
          "text": [
            "+--------------------+\n",
            "|                 uid|\n",
            "+--------------------+\n",
            "|       bulbulibibi75|\n",
            "|       ril7047321247|\n",
            "|Suvama.Ankush.Wag...|\n",
            "|         salamkhan19|\n",
            "|hemantmadhukarrao...|\n",
            "|      neelamkumar781|\n",
            "|    tapaskumardas-64|\n",
            "|      ujjalbiswas_50|\n",
            "|           gokul9517|\n",
            "|       ril1197657474|\n",
            "|Vasava.Dilipkumar...|\n",
            "|       ril3122832937|\n",
            "|      serazahmad-060|\n",
            "|     kingsukghosh-41|\n",
            "|    shaikh.anam.bano|\n",
            "|       ril3140553756|\n",
            "|  mahliyamukeshbhai8|\n",
            "| Arun.Ganpat.Talekar|\n",
            "|       ril1132537431|\n",
            "|       ril7086959243|\n",
            "+--------------------+\n",
            "\n"
          ]
        }
      ]
    },
    {
      "cell_type": "code",
      "source": [
        "from pyspark.sql import SparkSession\n",
        "from pyspark.sql.functions import col, from_unixtime, udf, lag, unix_timestamp, when, sum, countDistinct\n",
        "from pyspark.sql.types import StringType\n",
        "from pyspark.sql.window import Window\n",
        "\n",
        "spark = SparkSession.builder \\\n",
        "    .appName(\"Event Analysis\") \\\n",
        "    .getOrCreate()\n",
        "\n",
        "\n",
        "df = spark.read.json(\"/content/short.json\")\n",
        "\n",
        "cleaned_df = df \\\n",
        "    .withColumn(\"rtc\", from_unixtime(col(\"rtc\"))) \\\n",
        "    .withColumn(\"WatchTimeInSeconds\", col(\"pro.d\").cast(\"int\")) \\\n",
        "    .na.fill(\"unknown\", [\"pro.ch\"]) \\\n",
        "    .dropDuplicates()\n",
        "\n",
        "window_spec = Window.partitionBy(\"uid\").orderBy(\"rtc\")\n",
        "\n",
        "session_df = cleaned_df \\\n",
        "    .withColumn(\"prev_rtc\", lag(\"rtc\", 1).over(window_spec)) \\\n",
        "    .withColumn(\"session_id\", sum(when(unix_timestamp(\"rtc\") - unix_timestamp(\"prev_rtc\") > 1800, 1).otherwise(0)).over(window_spec))\n",
        "\n",
        "event_analysis_df = session_df.groupBy(\"key\").agg(\n",
        "    sum(\"WatchTimeInSeconds\").alias(\"TotalWatchTime\"),\n",
        "    countDistinct(\"uid\").alias(\"UniqueUsers\")\n",
        ")\n",
        "\n",
        "event_analysis_df.show()\n",
        "\n",
        "spark.stop()"
      ],
      "metadata": {
        "colab": {
          "base_uri": "https://localhost:8080/"
        },
        "id": "JHSIU5vn-HXI",
        "outputId": "f938e88f-deb3-4e46-b158-e2918cd789af"
      },
      "execution_count": 28,
      "outputs": [
        {
          "output_type": "stream",
          "name": "stdout",
          "text": [
            "+------------+--------------+-----------+\n",
            "|         key|TotalWatchTime|UniqueUsers|\n",
            "+------------+--------------+-----------+\n",
            "|media_access|          5535|         20|\n",
            "+------------+--------------+-----------+\n",
            "\n"
          ]
        }
      ]
    },
    {
      "cell_type": "code",
      "source": [
        "df.printSchema()"
      ],
      "metadata": {
        "colab": {
          "base_uri": "https://localhost:8080/"
        },
        "id": "tF6zL4AQ_xtY",
        "outputId": "b5df7e75-279d-4d15-b6a8-687291af9d43"
      },
      "execution_count": 29,
      "outputs": [
        {
          "output_type": "stream",
          "name": "stdout",
          "text": [
            "root\n",
            " |-- akey: string (nullable = true)\n",
            " |-- avn: string (nullable = true)\n",
            " |-- c: string (nullable = true)\n",
            " |-- crmid: string (nullable = true)\n",
            " |-- dateflink: long (nullable = true)\n",
            " |-- did: string (nullable = true)\n",
            " |-- dtpe: string (nullable = true)\n",
            " |-- evtno: string (nullable = true)\n",
            " |-- firmware_revision: string (nullable = true)\n",
            " |-- hardware_info: string (nullable = true)\n",
            " |-- idamid: string (nullable = true)\n",
            " |-- key: string (nullable = true)\n",
            " |-- lat: string (nullable = true)\n",
            " |-- lng: string (nullable = true)\n",
            " |-- logno: string (nullable = true)\n",
            " |-- mnu: string (nullable = true)\n",
            " |-- mod: string (nullable = true)\n",
            " |-- nwk: string (nullable = true)\n",
            " |-- ori: string (nullable = true)\n",
            " |-- os_name: string (nullable = true)\n",
            " |-- osv: string (nullable = true)\n",
            " |-- pf: string (nullable = true)\n",
            " |-- platform_build_id: string (nullable = true)\n",
            " |-- pro: struct (nullable = true)\n",
            " |    |-- HARD_CODE_DEVICE_ID: string (nullable = true)\n",
            " |    |-- avr: string (nullable = true)\n",
            " |    |-- bbc: string (nullable = true)\n",
            " |    |-- bbd: string (nullable = true)\n",
            " |    |-- bc: string (nullable = true)\n",
            " |    |-- bd: string (nullable = true)\n",
            " |    |-- bdl: string (nullable = true)\n",
            " |    |-- bufferdetails: string (nullable = true)\n",
            " |    |-- cellid: string (nullable = true)\n",
            " |    |-- cg: string (nullable = true)\n",
            " |    |-- ch: string (nullable = true)\n",
            " |    |-- channel_id: string (nullable = true)\n",
            " |    |-- channel_package_id: array (nullable = true)\n",
            " |    |    |-- element: string (containsNull = true)\n",
            " |    |-- cl: string (nullable = true)\n",
            " |    |-- client_package_id: array (nullable = true)\n",
            " |    |    |-- element: string (containsNull = true)\n",
            " |    |-- codec: string (nullable = true)\n",
            " |    |-- d: string (nullable = true)\n",
            " |    |-- dm: string (nullable = true)\n",
            " |    |-- encryption: string (nullable = true)\n",
            " |    |-- ep: string (nullable = true)\n",
            " |    |-- finish: string (nullable = true)\n",
            " |    |-- getchannelurltime: double (nullable = true)\n",
            " |    |-- index: string (nullable = true)\n",
            " |    |-- isottuser: string (nullable = true)\n",
            " |    |-- jio_id: string (nullable = true)\n",
            " |    |-- keywords: string (nullable = true)\n",
            " |    |-- lac: string (nullable = true)\n",
            " |    |-- mcc: string (nullable = true)\n",
            " |    |-- mnc: string (nullable = true)\n",
            " |    |-- n: string (nullable = true)\n",
            " |    |-- nte: string (nullable = true)\n",
            " |    |-- opr: string (nullable = true)\n",
            " |    |-- pci: string (nullable = true)\n",
            " |    |-- playback_screen: string (nullable = true)\n",
            " |    |-- player: string (nullable = true)\n",
            " |    |-- pn: string (nullable = true)\n",
            " |    |-- prof: string (nullable = true)\n",
            " |    |-- program_date: string (nullable = true)\n",
            " |    |-- program_time: string (nullable = true)\n",
            " |    |-- prow: string (nullable = true)\n",
            " |    |-- rsrp: string (nullable = true)\n",
            " |    |-- rsrq: string (nullable = true)\n",
            " |    |-- rssi: string (nullable = true)\n",
            " |    |-- rtc: string (nullable = true)\n",
            " |    |-- serial_number: string (nullable = true)\n",
            " |    |-- settype: string (nullable = true)\n",
            " |    |-- show_genre: string (nullable = true)\n",
            " |    |-- source: string (nullable = true)\n",
            " |    |-- ss: string (nullable = true)\n",
            " |    |-- start: string (nullable = true)\n",
            " |    |-- startuptime: string (nullable = true)\n",
            " |    |-- t: string (nullable = true)\n",
            " |    |-- tac: string (nullable = true)\n",
            " |    |-- tac_id: string (nullable = true)\n",
            " |    |-- timestamp: string (nullable = true)\n",
            " |    |-- u: string (nullable = true)\n",
            " |    |-- unique_session_id: string (nullable = true)\n",
            " |    |-- unique_session_timestamp: string (nullable = true)\n",
            " |    |-- watch_time_dock: string (nullable = true)\n",
            " |    |-- watch_time_landscape: string (nullable = true)\n",
            " |    |-- watch_time_pip: string (nullable = true)\n",
            " |    |-- watch_time_portrait: string (nullable = true)\n",
            " |-- profileid: string (nullable = true)\n",
            " |-- res: string (nullable = true)\n",
            " |-- rtc: string (nullable = true)\n",
            " |-- sdv: string (nullable = true)\n",
            " |-- sid: string (nullable = true)\n",
            " |-- software: string (nullable = true)\n",
            " |-- uid: string (nullable = true)\n",
            " |-- user_agent: string (nullable = true)\n",
            " |-- x-forwarded-for: string (nullable = true)\n",
            "\n"
          ]
        }
      ]
    },
    {
      "cell_type": "code",
      "source": [
        "from pyspark.sql import SparkSession\n",
        "from pyspark.sql.functions import avg, sum, count\n",
        "\n",
        "spark = SparkSession.builder.appName(\"YourAppName\").getOrCreate()\n",
        "\n",
        "try:\n",
        "    session_df = spark.read.json(\"/content/short.json\")\n",
        "\n",
        "    user_behavior_df = session_df.groupBy(\"crmid\").agg(\n",
        "        sum(\"pro.watch_time_dock\").alias(\"TotalWatchTime\"),\n",
        "        avg(\"pro.watch_time_dock\").alias(\"AverageWatchTime\"),\n",
        "        count(\"pf\").alias(\"PlatformCount\"),\n",
        "    )\n",
        "\n",
        "    user_behavior_df.show()\n",
        "\n",
        "finally:\n",
        "    spark.stop()\n",
        "\n"
      ],
      "metadata": {
        "colab": {
          "base_uri": "https://localhost:8080/"
        },
        "id": "P1mQXfsrDAWI",
        "outputId": "8f6715d1-d67f-438b-b2e6-3e1faafd6906"
      },
      "execution_count": 30,
      "outputs": [
        {
          "output_type": "stream",
          "name": "stdout",
          "text": [
            "+----------+--------------+----------------+-------------+\n",
            "|     crmid|TotalWatchTime|AverageWatchTime|PlatformCount|\n",
            "+----------+--------------+----------------+-------------+\n",
            "|1197657474|           5.0|             5.0|            1|\n",
            "|7137774035|          null|            null|            1|\n",
            "|3135559391|          null|            null|            1|\n",
            "|1135328819|           3.0|             3.0|            1|\n",
            "|5101332368|           0.0|             0.0|            1|\n",
            "|3073231160|           4.0|             4.0|            1|\n",
            "|3140553756|           0.0|             0.0|            1|\n",
            "|1108323902|           0.0|             0.0|            1|\n",
            "|1132537431|           0.0|             0.0|            1|\n",
            "|3122832937|          44.0|            44.0|            1|\n",
            "|1140063322|           2.0|             2.0|            1|\n",
            "|7047321247|           5.0|             5.0|            1|\n",
            "|1124003909|           0.0|             0.0|            1|\n",
            "|1112169282|          null|            null|            1|\n",
            "|3071421502|           0.0|             0.0|            1|\n",
            "|7150862665|           0.0|             0.0|            1|\n",
            "|3005330614|           0.0|             0.0|            1|\n",
            "|1218102819|           0.0|             0.0|            1|\n",
            "|1032837923|           0.0|             0.0|            1|\n",
            "|7086959243|           3.0|             3.0|            1|\n",
            "+----------+--------------+----------------+-------------+\n",
            "\n"
          ]
        }
      ]
    },
    {
      "cell_type": "code",
      "source": [
        "from pyspark.sql import SparkSession\n",
        "from pyspark.sql.functions import avg, sum, count\n",
        "\n",
        "spark = SparkSession.builder.appName(\"YourAppName\").getOrCreate()\n",
        "\n",
        "try:\n",
        "    session_df = spark.read.json(\"/content/short.json\")\n",
        "\n",
        "    channel_analysis_df = session_df.groupBy(\"pro.ch\").agg(\n",
        "    count(\"*\").alias(\"EventCount\"),\n",
        "    sum(\"pro.watch_time_dock\").alias(\"TotalWatchTime\")\n",
        "\n",
        "    )\n",
        "\n",
        "\n",
        "    channel_analysis_df.show()\n",
        "\n",
        "finally:\n",
        "    spark.stop()"
      ],
      "metadata": {
        "colab": {
          "base_uri": "https://localhost:8080/"
        },
        "id": "26LhhlFDFe_c",
        "outputId": "6fcdb065-81ac-49ea-9a41-cb8b915b6268"
      },
      "execution_count": 31,
      "outputs": [
        {
          "output_type": "stream",
          "name": "stdout",
          "text": [
            "+--------------------+----------+--------------+\n",
            "|                  ch|EventCount|TotalWatchTime|\n",
            "+--------------------+----------+--------------+\n",
            "|            Newslive|         1|           3.0|\n",
            "|          Pogo+Hindi|         1|           0.0|\n",
            "|        Zee+Business|         1|           0.0|\n",
            "|         Zee+Kannada|         1|           0.0|\n",
            "|           Zee+TV+HD|         2|           0.0|\n",
            "|    Zee+Anmol+Cinema|         1|          44.0|\n",
            "|      ABP News India|         1|          null|\n",
            "|            Sony+SAB|         1|           2.0|\n",
            "|Cartoon Network H...|         1|          null|\n",
            "|          India news|         1|          null|\n",
            "|           Zee+Anmol|         1|           5.0|\n",
            "|             Sony+HD|         1|           5.0|\n",
            "|         Sony+Six+HD|         1|           3.0|\n",
            "|         Republic+TV|         1|           0.0|\n",
            "|     Colors+Cineplex|         1|           0.0|\n",
            "|          ABP+Ananda|         1|           4.0|\n",
            "|           Colors+HD|         3|           0.0|\n",
            "+--------------------+----------+--------------+\n",
            "\n"
          ]
        }
      ]
    },
    {
      "cell_type": "code",
      "source": [
        "from pyspark.sql import SparkSession\n",
        "from pyspark.sql.functions import avg, sum\n",
        "\n",
        "\n",
        "spark = SparkSession.builder.appName(\"YourAppName\").getOrCreate()\n",
        "\n",
        "try:\n",
        "\n",
        "    session_df = spark.read.json(\"/content/short.json\")\n",
        "\n",
        "    performance_metrics_df = session_df.groupBy(\"crmid\").agg(\n",
        "        avg(\"pro.timestamp\").alias(\"AverageLag\"),\n",
        "        sum(\"pro.watch_time_dock\").alias(\"TotalWatchTime\")\n",
        "    )\n",
        "\n",
        "\n",
        "    performance_metrics_df.show()\n",
        "\n",
        "finally:\n",
        "\n",
        "    spark.stop()\n",
        "\n",
        "\n"
      ],
      "metadata": {
        "colab": {
          "base_uri": "https://localhost:8080/"
        },
        "id": "v2ZKBxTJ-KjU",
        "outputId": "d7db0da1-d101-4217-831b-f57abd111628"
      },
      "execution_count": 32,
      "outputs": [
        {
          "output_type": "stream",
          "name": "stdout",
          "text": [
            "+----------+----------+--------------+\n",
            "|     crmid|AverageLag|TotalWatchTime|\n",
            "+----------+----------+--------------+\n",
            "|1197657474|      null|           5.0|\n",
            "|7137774035|      null|          null|\n",
            "|3135559391|      null|          null|\n",
            "|1135328819|      null|           3.0|\n",
            "|5101332368|      null|           0.0|\n",
            "|3073231160|      null|           4.0|\n",
            "|3140553756|      null|           0.0|\n",
            "|1108323902|      null|           0.0|\n",
            "|1132537431|      null|           0.0|\n",
            "|3122832937|      null|          44.0|\n",
            "|1140063322|      null|           2.0|\n",
            "|7047321247|      null|           5.0|\n",
            "|1124003909|      null|           0.0|\n",
            "|1112169282|      null|          null|\n",
            "|3071421502|      null|           0.0|\n",
            "|7150862665|      null|           0.0|\n",
            "|3005330614|      null|           0.0|\n",
            "|1218102819|      null|           0.0|\n",
            "|1032837923|      null|           0.0|\n",
            "|7086959243|      null|           3.0|\n",
            "+----------+----------+--------------+\n",
            "\n"
          ]
        }
      ]
    },
    {
      "cell_type": "code",
      "source": [
        "from pyspark.sql import SparkSession\n",
        "from pyspark.sql.functions import avg, sum\n",
        "\n",
        "\n",
        "spark = SparkSession.builder.appName(\"YourAppName\").getOrCreate()\n",
        "\n",
        "try:\n",
        "\n",
        "    session_df = spark.read.json(\"/content/short.json\")\n",
        "\n",
        "    session_df.toPandas().to_csv(\"session_data.csv\", index=False)\n",
        "\n",
        "\n",
        "\n",
        "\n",
        "finally:\n",
        "\n",
        "    spark.stop()\n"
      ],
      "metadata": {
        "id": "wGkaAzDDIzy1"
      },
      "execution_count": 33,
      "outputs": []
    },
    {
      "cell_type": "code",
      "source": [
        "from pyspark.sql import SparkSession\n",
        "from pyspark.sql.functions import avg, sum\n",
        "\n",
        "\n",
        "spark = SparkSession.builder.appName(\"YourAppName\").getOrCreate()\n",
        "\n",
        "try:\n",
        "\n",
        "    session_df = spark.read.json(\"/content/short.json\")\n",
        "\n",
        "    session_df.cache()\n",
        "\n",
        "    partitioned_df = session_df.repartition(10, \"UID\")\n",
        "\n",
        "\n",
        "\n",
        "\n",
        "finally:\n",
        "\n",
        "    spark.stop()"
      ],
      "metadata": {
        "id": "RsfWDd28JCCx"
      },
      "execution_count": 34,
      "outputs": []
    },
    {
      "cell_type": "code",
      "source": [
        "from pyspark.sql import SparkSession\n",
        "from pyspark.sql.functions import avg, sum\n",
        "\n",
        "\n",
        "spark = SparkSession.builder.appName(\"YourAppName\").getOrCreate()\n",
        "\n",
        "try:\n",
        "\n",
        "    session_df = spark.read.json(\"/content/short.json\")\n",
        "\n",
        "    summary_stats = session_df.describe().show()\n",
        "\n",
        "\n",
        "\n",
        "\n",
        "\n",
        "finally:\n",
        "\n",
        "    spark.stop()\n",
        "\n"
      ],
      "metadata": {
        "colab": {
          "base_uri": "https://localhost:8080/"
        },
        "id": "QrDxx7QB-u6G",
        "outputId": "09292fcb-9cc8-4ae9-d297-bef064eed947"
      },
      "execution_count": 35,
      "outputs": [
        {
          "output_type": "stream",
          "name": "stdout",
          "text": [
            "+-------+------------+-------+----+-------------------+------------------+----------------+----+-----+-----------------+-------------+--------------------+------------+------------------+-----------------+------------------+----+-------+----+---------+-------+------------------+----+--------------------+---------+-------+-------------------+-------+--------------------+-------------+-------------------+--------------------+--------------------+\n",
            "|summary|        akey|    avn|   c|              crmid|         dateflink|             did|dtpe|evtno|firmware_revision|hardware_info|              idamid|         key|               lat|              lng|             logno| mnu|    mod| nwk|      ori|os_name|               osv|  pf|   platform_build_id|profileid|    res|                rtc|    sdv|                 sid|     software|                uid|          user_agent|     x-forwarded-for|\n",
            "+-------+------------+-------+----+-------------------+------------------+----------------+----+-----+-----------------+-------------+--------------------+------------+------------------+-----------------+------------------+----+-------+----+---------+-------+------------------+----+--------------------+---------+-------+-------------------+-------+--------------------+-------------+-------------------+--------------------+--------------------+\n",
            "|  count|          20|     20|   3|                 20|                20|              20|  20|   17|                3|            3|                  20|          20|                18|               18|                20|  20|      3|  20|        3|      3|                20|  20|                   3|        3|      3|                 20|      3|                  20|            3|                 20|                   3|                  20|\n",
            "|   mean|1.09154002E8|   null|null|    3.11371018995E9|1.6226262006013E12|            null|null|  1.0|             null|         null|                null|        null|  11.0207995836046|35.31259972601997|             61.35|null|   null|null|     null|    2.5| 9.666666666666666|null|2.020411783269766...|     null|   null|1.62262619808935E12|   null|1.622624952838764...|         null|               null|                null|                null|\n",
            "| stddev|         0.0|   null|null|2.328704138412677E9| 263.8908814155148|            null|null|  0.0|             null|         null|                null|        null|13.159540781472602|40.77775456393474|37.906082000538895|null|   null|null|     null|   null|1.3026778945578592|null| 5.367061904444651E9|     null|   null| 2590.4614255998868|   null|  1317216.1837387085|         null|               null|                null|                null|\n",
            "|    min|   109154002|1.6.6.4| Jio|         1032837923|     1622626200111|1556662b9b9bfb19|   F|    1|                 |        F320B|09f4d09b-4136-421...|media_access|                 0|                0|               101| LYF|Feature|  4G|Landscape|    2.5|                10|   A|      20201009165323|       NA|240x320|      1622626190636|1.6.6.4|       1622621486500|    KaiOS 2.5|Arun.Ganpat.Talekar|Mozilla/5.0 (Mobi...|       103.123.224.8|\n",
            "|    max|   109154002|  6.0.8| Jio|         7150862665|     1622626200985|fbd03bd3fbf584d4|   S|    1|                 |         F90M|fc0e777a-8544-426...|media_access|           30.5964|          88.4677|                93|vivo|Feature|WIFI|Landscape|2.5.3.2|                 9|   K|      20210315171215|       NA|240x320|      1622626201296|1.6.6.4|16226261766384e30...|KaiOS 2.5.3.2|     ujjalbiswas_50|Mozilla/5.0 (Mobi...|2409:4071:2088:14...|\n",
            "+-------+------------+-------+----+-------------------+------------------+----------------+----+-----+-----------------+-------------+--------------------+------------+------------------+-----------------+------------------+----+-------+----+---------+-------+------------------+----+--------------------+---------+-------+-------------------+-------+--------------------+-------------+-------------------+--------------------+--------------------+\n",
            "\n"
          ]
        }
      ]
    },
    {
      "cell_type": "markdown",
      "source": [
        "# **Extract pro.d Field**"
      ],
      "metadata": {
        "id": "BKTCpXD12CsO"
      }
    },
    {
      "cell_type": "code",
      "source": [
        "from pyspark.sql import SparkSession\n",
        "\n",
        "# Restart Spark session\n",
        "spark = SparkSession.builder \\\n",
        "    .appName(\"Jio Analytics Data Engineering\") \\\n",
        "    .getOrCreate()\n",
        "\n",
        "# Load the JSON file\n",
        "df = spark.read.json('/content/short.json')\n",
        "\n",
        "\n",
        "\n",
        "\n",
        "# Extract the nested field `pro.d` into a separate column\n",
        "cleaned_df = df.withColumn(\"WatchTimeInSeconds\", col(\"pro.d\").cast(\"int\"))\n",
        "\n",
        "# Convert rtc to a readable timestamp\n",
        "cleaned_df = cleaned_df.withColumn(\"rtc\", from_unixtime(col(\"rtc\")))\n",
        "\n",
        "cleaned_df.show()\n"
      ],
      "metadata": {
        "id": "S4tFcQe-IrlB",
        "colab": {
          "base_uri": "https://localhost:8080/"
        },
        "outputId": "ab7824d7-68d3-41a4-d07b-330905f07d97"
      },
      "execution_count": 36,
      "outputs": [
        {
          "output_type": "stream",
          "name": "stdout",
          "text": [
            "+---------+-------+----+----------+-------------+----------------+----+-----+-----------------+-------------+--------------------+------------+------------------+-----------------+-----+-------+-------+----+---------+-------+------+---+-----------------+--------------------+---------+-------+--------------------+-------+--------------------+-------------+--------------------+--------------------+--------------------+------------------+\n",
            "|     akey|    avn|   c|     crmid|    dateflink|             did|dtpe|evtno|firmware_revision|hardware_info|              idamid|         key|               lat|              lng|logno|    mnu|    mod| nwk|      ori|os_name|   osv| pf|platform_build_id|                 pro|profileid|    res|                 rtc|    sdv|                 sid|     software|                 uid|          user_agent|     x-forwarded-for|WatchTimeInSeconds|\n",
            "+---------+-------+----+----------+-------------+----------------+----+-----+-----------------+-------------+--------------------+------------+------------------+-----------------+-----+-------+-------+----+---------+-------+------+---+-----------------+--------------------+---------+-------+--------------------+-------+--------------------+-------------+--------------------+--------------------+--------------------+------------------+\n",
            "|109154002|  6.0.8|null|7047321247|1622626200111|5034ef043e8f2749|   S|    1|             null|         null|e281f8e4-bdea-4a5...|media_access|           27.5574|          78.6643|   23|   vivo|   null|  4G|     null|   null|   6.0|  A|             null|{00000000-1ca7-1f...|     null|   null|+53388-12-22 17:2...|   null|       1622626172573|         null|       ril7047321247|                null|2409:4053:202:82e...|                 3|\n",
            "|109154002|1.6.6.4| Jio|7137774035|1622626200278|1dd45ec58313ebb4|   F| null|                 |         F90M|6bf00fe8-dceb-464...|media_access|30.531692504882812|75.88119506835938|   20|    LYF|Feature|  4G|Landscape|    2.5|48.0a2|  K|   20201029161555|{null, null, null...|       NA|240x320|+53388-12-22 19:5...|1.6.6.4|16226261766384e30...|    KaiOS 2.5|      neelamkumar781|Mozilla/5.0 (Mobi...|2409:4055:69d:3cd...|                 2|\n",
            "|109154002|  6.0.8|null|1124003909|1622626200293|3bbb560707f29684|   S|    1|             null|         null|ab9096ac-57a8-426...|media_access|           26.9035|           75.729|   54| Xiaomi|   null|  4G|     null|   null| 8.1.0|  A|             null|{00000000-5487-3f...|     null|   null|+53388-12-22 19:3...|   null|       1622625884908|         null|         salamkhan19|                null|2409:4052:2e02:60...|               140|\n",
            "|109154002|  6.0.8|null|1132537431|1622626200307|98020733e34987a9|   S|    1|             null|         null|171f3a72-697e-405...|media_access|                 0|                0|  137| Xiaomi|   null|  4G|     null|   null|    10|  A|             null|{00000000-1e5c-e7...|     null|   null|+53388-12-22 19:2...|   null|       1622625444655|         null|       ril1132537431|                null|        157.38.63.70|                 0|\n",
            "|109154002|  6.0.8|null|3071421502|1622626200452|e463668faa1d5874|   S|    1|             null|         null|b90c740d-6f9f-4ae...|media_access|           22.7284|          88.4677|   93|samsung|   null|WIFI|     null|   null|    11|  A|             null|{ffffffff-b7f8-c9...|     null|   null|+53388-12-22 19:4...|   null|       1622625314706|         null|     kingsukghosh-41|                null|       103.76.82.207|                48|\n",
            "|109154002|  6.0.8|null|3140553756|1622626200478|a11e9f558353b398|   S|    1|             null|         null|2c58e8c8-4573-4ce...|media_access|                 0|                0|  120|   vivo|   null|  4G|     null|   null|    11|  A|             null|{ffffffff-8673-95...|     null|   null|+53388-12-22 19:0...|   null|       1622624348354|         null|       ril3140553756|                null|2409:4062:18a:749...|               685|\n",
            "|109154002|  6.0.7|null|1140063322|1622626200478|c8e1820703f52ab8|   S|    1|             null|         null|287796f8-f2f0-468...|media_access|                 0|                0|   26|   vivo|   null|  4G|     null|   null| 6.0.1|  A|             null|{ffffffff-8602-d9...|     null|   null|+53388-12-22 17:5...|   null|       1622626127116|         null| Arun.Ganpat.Talekar|                null|2409:4042:2d86:43...|                 0|\n",
            "|109154002|  6.0.8|null|7086959243|1622626200480|87445dff7df45418|   S|    1|             null|         null|fc0e777a-8544-426...|media_access|           30.5964|          77.2982|   17| Xiaomi|   null|  4G|     null|   null| 7.1.2|  A|             null|{ffffffff-89dd-4e...|     null|   null|+53388-12-22 19:4...|   null|       1622626098402|         null|       ril7086959243|                null|2409:4056:e9e:7f6...|                41|\n",
            "|109154002|  6.0.8|null|1108323902|1622626200531|6b0cc8e17335e2ed|   S|    1|             null|         null|409f562a-70bb-4f5...|media_access|                 0|                0|   41|samsung|   null|  4G|     null|   null|    10|  A|             null|{ffffffff-8b21-6e...|     null|   null|+53388-12-22 19:4...|   null|       1622624159275|         null|Vasava.Dilipkumar...|                null|2405:204:8106:eeb...|              1095|\n",
            "|109154002|  6.0.7|null|3073231160|1622626200540|b5364b4e4efddc9a|   S|    1|             null|         null|7208b35a-f88d-4d9...|media_access|                 0|                0|  107|   OPPO|   null|  4G|     null|   null|     9|  A|             null|{00000000-518e-b7...|     null|   null|+53388-12-22 19:1...|   null|       1622621486500|         null|       bulbulibibi75|                null|2409:4061:2091:ec...|                 0|\n",
            "|109154002|  6.0.7|null|3122832937|1622626200549|f9ce164bc9da2ce1|   S|    1|             null|         null|852f096b-18c2-4c4...|media_access|                 0|                0|   60| Realme|   null|  4G|     null|   null|     9|  A|             null|{00000000-4c79-47...|     null|   null|+53388-12-22 20:0...|   null|       1622625874674|         null|       ril3122832937|                null|2409:4064:2e2f:8a...|                52|\n",
            "|109154002|  6.0.7|null|1135328819|1622626200550|54305bd8b8d84a30|   S|    1|             null|         null|aa9dabb6-aa2f-4ce...|media_access|                 0|                0|   35| realme|   null|WIFI|     null|   null|    10|  A|             null|{00000000-54f8-70...|     null|   null|+53388-12-22 19:0...|   null|       1622625787302|         null|    shaikh.anam.bano|                null|       103.123.224.8|                 5|\n",
            "|109154002|  6.0.7|null|5101332368|1622626200551|1556662b9b9bfb19|   S|    1|             null|         null|2627d78f-9cad-4c9...|media_access|            13.841|          74.6245|   48| Xiaomi|   null|  4G|     null|   null|    10|  A|             null|{00000000-2011-c0...|     null|   null|+53388-12-22 19:3...|   null|       1622624916229|         null|           gokul9517|                null|2409:4071:2088:14...|               314|\n",
            "|109154002|  6.0.8|null|3005330614|1622626200880|a41a92b866e55f40|   S|    1|             null|         null|322de4dc-1748-4b5...|media_access|           21.9791|          87.7809|  120|   OPPO|   null|  4G|     null|   null|    10|  A|             null|{00000000-518f-2b...|     null|   null|+53388-12-22 19:0...|   null|       1622624437706|         null|    tapaskumardas-64|                null|2409:4061:608:ced...|                74|\n",
            "|109154002|1.6.6.4| Jio|1112169282|1622626200889|edddf160ce4ea867|   F| null|                 |        F320B|464ee388-b26b-4e4...|media_access|              null|             null|   70|    LYF|Feature|  4G|Landscape|2.5.3.2|48.0a2|  K|   20210315171215|{null, null, null...|       NA|240x320|+53388-12-22 19:5...|1.6.6.4|16226255474632f90...|KaiOS 2.5.3.2|  mahliyamukeshbhai8|Mozilla/5.0 (Mobi...|2405:205:c8c6:460...|                 9|\n",
            "|109154002|  6.0.8|null|1218102819|1622626200904|871a9531cecb6d1c|   S|    1|             null|         null|992edb59-889b-454...|media_access|                 0|                0|   46| Xiaomi|   null|  4G|     null|   null|    10|  A|             null|{ffffffff-bca0-3b...|     null|   null|+53388-12-22 19:3...|   null|       1622626073116|         null|Suvama.Ankush.Wag...|                null|2409:4042:2402:c0...|                22|\n",
            "|109154002|  6.0.8|null|1032837923|1622626200904|8acf88171981753e|   S|    1|             null|         null|09f4d09b-4136-421...|media_access|                 0|                0|   32|   vivo|   null|WIFI|     null|   null|    10|  A|             null|{00000000-490e-32...|     null|   null|+53388-12-22 20:2...|   null|       1622625584347|         null|hemantmadhukarrao...|                null|        103.247.4.78|               546|\n",
            "|109154002|  6.0.8|null|1197657474|1622626200905|98ca0784ab86238e|   S|    1|             null|         null|c6793fbd-7c43-4e2...|media_access|           24.2369|           77.181|  101|   vivo|   null|  4G|     null|   null| 8.1.0|  A|             null|{00000000-490e-32...|     null|   null|+53388-12-22 19:4...|   null|       1622623134274|         null|       ril1197657474|                null|2409:4043:2e89:f2...|                11|\n",
            "|109154002|1.6.6.4| Jio|3135559391|1622626200961|fbd03bd3fbf584d4|   F| null|                 |        F320B|65ddab81-6644-412...|media_access|              null|             null|   45|    LYF|Feature|  4G|Landscape|2.5.3.2|48.0a2|  K|   20201009165323|{null, null, null...|       NA|240x320|+53388-12-22 19:5...|1.6.6.4|1622625821686ef2b...|KaiOS 2.5.3.2|      ujjalbiswas_50|Mozilla/5.0 (Mobi...|2409:4061:499:887...|                39|\n",
            "|109154002|  6.0.8|null|7150862665|1622626200985|40cf2e977cb78ceb|   S|    1|             null|         null|586cff0a-695e-421...|media_access|                 0|                0|   32|   vivo|   null|  4G|     null|   null| 8.1.0|  A|             null|{00000000-490e-32...|     null|   null|+53388-12-22 20:0...|   null|       1622623354122|         null|      serazahmad-060|                null|2409:4063:4d87:53...|              2449|\n",
            "+---------+-------+----+----------+-------------+----------------+----+-----+-----------------+-------------+--------------------+------------+------------------+-----------------+-----+-------+-------+----+---------+-------+------+---+-----------------+--------------------+---------+-------+--------------------+-------+--------------------+-------------+--------------------+--------------------+--------------------+------------------+\n",
            "\n"
          ]
        }
      ]
    },
    {
      "cell_type": "markdown",
      "source": [
        "# **Fill Missing Values and Normalize**"
      ],
      "metadata": {
        "id": "Gc0AefGm2Ga9"
      }
    },
    {
      "cell_type": "code",
      "source": [
        "from pyspark.sql.functions import col, from_unixtime, mean, stddev, dayofweek, hour, sum, when, unix_timestamp, lag\n",
        "from pyspark.sql.window import Window\n",
        "\n",
        "# Fill missing WatchTimeInSeconds with the mean value\n",
        "mean_watch_time = cleaned_df.select(mean(\"WatchTimeInSeconds\")).collect()[0][0]\n",
        "cleaned_df = cleaned_df.fillna({'WatchTimeInSeconds': mean_watch_time})\n",
        "\n",
        "# Normalize WatchTimeInSeconds\n",
        "watch_time_mean = cleaned_df.select(mean(col(\"WatchTimeInSeconds\"))).collect()[0][0]\n",
        "watch_time_stddev = cleaned_df.select(stddev(col(\"WatchTimeInSeconds\"))).collect()[0][0]\n",
        "\n",
        "cleaned_df = cleaned_df.withColumn(\"NormalizedWatchTime\",\n",
        "                                   (col(\"WatchTimeInSeconds\") - watch_time_mean) / watch_time_stddev)\n",
        "\n",
        "cleaned_df.show()\n"
      ],
      "metadata": {
        "colab": {
          "base_uri": "https://localhost:8080/"
        },
        "id": "i6-fNvCw0Jds",
        "outputId": "186ca014-fad6-494d-c683-636ada527883"
      },
      "execution_count": 37,
      "outputs": [
        {
          "output_type": "stream",
          "name": "stdout",
          "text": [
            "+---------+-------+----+----------+-------------+----------------+----+-----+-----------------+-------------+--------------------+------------+------------------+-----------------+-----+-------+-------+----+---------+-------+------+---+-----------------+--------------------+---------+-------+--------------------+-------+--------------------+-------------+--------------------+--------------------+--------------------+------------------+--------------------+\n",
            "|     akey|    avn|   c|     crmid|    dateflink|             did|dtpe|evtno|firmware_revision|hardware_info|              idamid|         key|               lat|              lng|logno|    mnu|    mod| nwk|      ori|os_name|   osv| pf|platform_build_id|                 pro|profileid|    res|                 rtc|    sdv|                 sid|     software|                 uid|          user_agent|     x-forwarded-for|WatchTimeInSeconds| NormalizedWatchTime|\n",
            "+---------+-------+----+----------+-------------+----------------+----+-----+-----------------+-------------+--------------------+------------+------------------+-----------------+-----+-------+-------+----+---------+-------+------+---+-----------------+--------------------+---------+-------+--------------------+-------+--------------------+-------------+--------------------+--------------------+--------------------+------------------+--------------------+\n",
            "|109154002|  6.0.8|null|7047321247|1622626200111|5034ef043e8f2749|   S|    1|             null|         null|e281f8e4-bdea-4a5...|media_access|           27.5574|          78.6643|   23|   vivo|   null|  4G|     null|   null|   6.0|  A|             null|{00000000-1ca7-1f...|     null|   null|+53388-12-22 17:2...|   null|       1622626172573|         null|       ril7047321247|                null|2409:4053:202:82e...|                 3|-0.46571630567463634|\n",
            "|109154002|1.6.6.4| Jio|7137774035|1622626200278|1dd45ec58313ebb4|   F| null|                 |         F90M|6bf00fe8-dceb-464...|media_access|30.531692504882812|75.88119506835938|   20|    LYF|Feature|  4G|Landscape|    2.5|48.0a2|  K|   20201029161555|{null, null, null...|       NA|240x320|+53388-12-22 19:5...|1.6.6.4|16226261766384e30...|    KaiOS 2.5|      neelamkumar781|Mozilla/5.0 (Mobi...|2409:4055:69d:3cd...|                 2| -0.4674175524533565|\n",
            "|109154002|  6.0.8|null|1124003909|1622626200293|3bbb560707f29684|   S|    1|             null|         null|ab9096ac-57a8-426...|media_access|           26.9035|           75.729|   54| Xiaomi|   null|  4G|     null|   null| 8.1.0|  A|             null|{00000000-5487-3f...|     null|   null|+53388-12-22 19:3...|   null|       1622625884908|         null|         salamkhan19|                null|2409:4052:2e02:60...|               140|-0.23264549698997813|\n",
            "|109154002|  6.0.8|null|1132537431|1622626200307|98020733e34987a9|   S|    1|             null|         null|171f3a72-697e-405...|media_access|                 0|                0|  137| Xiaomi|   null|  4G|     null|   null|    10|  A|             null|{00000000-1e5c-e7...|     null|   null|+53388-12-22 19:2...|   null|       1622625444655|         null|       ril1132537431|                null|        157.38.63.70|                 0|-0.47082004601079674|\n",
            "|109154002|  6.0.8|null|3071421502|1622626200452|e463668faa1d5874|   S|    1|             null|         null|b90c740d-6f9f-4ae...|media_access|           22.7284|          88.4677|   93|samsung|   null|WIFI|     null|   null|    11|  A|             null|{ffffffff-b7f8-c9...|     null|   null|+53388-12-22 19:4...|   null|       1622625314706|         null|     kingsukghosh-41|                null|       103.76.82.207|                48|-0.38916020063223034|\n",
            "|109154002|  6.0.8|null|3140553756|1622626200478|a11e9f558353b398|   S|    1|             null|         null|2c58e8c8-4573-4ce...|media_access|                 0|                0|  120|   vivo|   null|  4G|     null|   null|    11|  A|             null|{ffffffff-8673-95...|     null|   null|+53388-12-22 19:0...|   null|       1622624348354|         null|       ril3140553756|                null|2409:4062:18a:749...|               685|  0.6945339974124942|\n",
            "|109154002|  6.0.7|null|1140063322|1622626200478|c8e1820703f52ab8|   S|    1|             null|         null|287796f8-f2f0-468...|media_access|                 0|                0|   26|   vivo|   null|  4G|     null|   null| 6.0.1|  A|             null|{ffffffff-8602-d9...|     null|   null|+53388-12-22 17:5...|   null|       1622626127116|         null| Arun.Ganpat.Talekar|                null|2409:4042:2d86:43...|                 0|-0.47082004601079674|\n",
            "|109154002|  6.0.8|null|7086959243|1622626200480|87445dff7df45418|   S|    1|             null|         null|fc0e777a-8544-426...|media_access|           30.5964|          77.2982|   17| Xiaomi|   null|  4G|     null|   null| 7.1.2|  A|             null|{ffffffff-89dd-4e...|     null|   null|+53388-12-22 19:4...|   null|       1622626098402|         null|       ril7086959243|                null|2409:4056:e9e:7f6...|                41|-0.40106892808327127|\n",
            "|109154002|  6.0.8|null|1108323902|1622626200531|6b0cc8e17335e2ed|   S|    1|             null|         null|409f562a-70bb-4f5...|media_access|                 0|                0|   41|samsung|   null|  4G|     null|   null|    10|  A|             null|{ffffffff-8b21-6e...|     null|   null|+53388-12-22 19:4...|   null|       1622624159275|         null|Vasava.Dilipkumar...|                null|2405:204:8106:eeb...|              1095|  1.3920451766877486|\n",
            "|109154002|  6.0.7|null|3073231160|1622626200540|b5364b4e4efddc9a|   S|    1|             null|         null|7208b35a-f88d-4d9...|media_access|                 0|                0|  107|   OPPO|   null|  4G|     null|   null|     9|  A|             null|{00000000-518e-b7...|     null|   null|+53388-12-22 19:1...|   null|       1622621486500|         null|       bulbulibibi75|                null|2409:4061:2091:ec...|                 0|-0.47082004601079674|\n",
            "|109154002|  6.0.7|null|3122832937|1622626200549|f9ce164bc9da2ce1|   S|    1|             null|         null|852f096b-18c2-4c4...|media_access|                 0|                0|   60| Realme|   null|  4G|     null|   null|     9|  A|             null|{00000000-4c79-47...|     null|   null|+53388-12-22 20:0...|   null|       1622625874674|         null|       ril3122832937|                null|2409:4064:2e2f:8a...|                52| -0.3823552135173498|\n",
            "|109154002|  6.0.7|null|1135328819|1622626200550|54305bd8b8d84a30|   S|    1|             null|         null|aa9dabb6-aa2f-4ce...|media_access|                 0|                0|   35| realme|   null|WIFI|     null|   null|    10|  A|             null|{00000000-54f8-70...|     null|   null|+53388-12-22 19:0...|   null|       1622625787302|         null|    shaikh.anam.bano|                null|       103.123.224.8|                 5| -0.4623138121171961|\n",
            "|109154002|  6.0.7|null|5101332368|1622626200551|1556662b9b9bfb19|   S|    1|             null|         null|2627d78f-9cad-4c9...|media_access|            13.841|          74.6245|   48| Xiaomi|   null|  4G|     null|   null|    10|  A|             null|{00000000-2011-c0...|     null|   null|+53388-12-22 19:3...|   null|       1622624916229|         null|           gokul9517|                null|2409:4071:2088:14...|               314| 0.06337144250732495|\n",
            "|109154002|  6.0.8|null|3005330614|1622626200880|a41a92b866e55f40|   S|    1|             null|         null|322de4dc-1748-4b5...|media_access|           21.9791|          87.7809|  120|   OPPO|   null|  4G|     null|   null|    10|  A|             null|{00000000-518f-2b...|     null|   null|+53388-12-22 19:0...|   null|       1622624437706|         null|    tapaskumardas-64|                null|2409:4061:608:ced...|                74| -0.3449277843855069|\n",
            "|109154002|1.6.6.4| Jio|1112169282|1622626200889|edddf160ce4ea867|   F| null|                 |        F320B|464ee388-b26b-4e4...|media_access|              null|             null|   70|    LYF|Feature|  4G|Landscape|2.5.3.2|48.0a2|  K|   20210315171215|{null, null, null...|       NA|240x320|+53388-12-22 19:5...|1.6.6.4|16226255474632f90...|KaiOS 2.5.3.2|  mahliyamukeshbhai8|Mozilla/5.0 (Mobi...|2405:205:c8c6:460...|                 9|-0.45550882500231554|\n",
            "|109154002|  6.0.8|null|1218102819|1622626200904|871a9531cecb6d1c|   S|    1|             null|         null|992edb59-889b-454...|media_access|                 0|                0|   46| Xiaomi|   null|  4G|     null|   null|    10|  A|             null|{ffffffff-bca0-3b...|     null|   null|+53388-12-22 19:3...|   null|       1622626073116|         null|Suvama.Ankush.Wag...|                null|2409:4042:2402:c0...|                22| -0.4333926168789538|\n",
            "|109154002|  6.0.8|null|1032837923|1622626200904|8acf88171981753e|   S|    1|             null|         null|09f4d09b-4136-421...|media_access|                 0|                0|   32|   vivo|   null|WIFI|     null|   null|    10|  A|             null|{00000000-490e-32...|     null|   null|+53388-12-22 20:2...|   null|       1622625584347|         null|hemantmadhukarrao...|                null|        103.247.4.78|               546|  0.4580606951703957|\n",
            "|109154002|  6.0.8|null|1197657474|1622626200905|98ca0784ab86238e|   S|    1|             null|         null|c6793fbd-7c43-4e2...|media_access|           24.2369|           77.181|  101|   vivo|   null|  4G|     null|   null| 8.1.0|  A|             null|{00000000-490e-32...|     null|   null|+53388-12-22 19:4...|   null|       1622623134274|         null|       ril1197657474|                null|2409:4043:2e89:f2...|                11| -0.4521063314448753|\n",
            "|109154002|1.6.6.4| Jio|3135559391|1622626200961|fbd03bd3fbf584d4|   F| null|                 |        F320B|65ddab81-6644-412...|media_access|              null|             null|   45|    LYF|Feature|  4G|Landscape|2.5.3.2|48.0a2|  K|   20201009165323|{null, null, null...|       NA|240x320|+53388-12-22 19:5...|1.6.6.4|1622625821686ef2b...|KaiOS 2.5.3.2|      ujjalbiswas_50|Mozilla/5.0 (Mobi...|2409:4061:499:887...|                39|-0.40447142164071154|\n",
            "|109154002|  6.0.8|null|7150862665|1622626200985|40cf2e977cb78ceb|   S|    1|             null|         null|586cff0a-695e-421...|media_access|                 0|                0|   32|   vivo|   null|  4G|     null|   null| 8.1.0|  A|             null|{00000000-490e-32...|     null|   null|+53388-12-22 20:0...|   null|       1622623354122|         null|      serazahmad-060|                null|2409:4063:4d87:53...|              2449|   3.695533315074808|\n",
            "+---------+-------+----+----------+-------------+----------------+----+-----+-----------------+-------------+--------------------+------------+------------------+-----------------+-----+-------+-------+----+---------+-------+------+---+-----------------+--------------------+---------+-------+--------------------+-------+--------------------+-------------+--------------------+--------------------+--------------------+------------------+--------------------+\n",
            "\n"
          ]
        }
      ]
    },
    {
      "cell_type": "markdown",
      "source": [
        "# **Proceed with Advanced Data Cleaning and Transformation**\n"
      ],
      "metadata": {
        "id": "2DSusAhC2Jne"
      }
    },
    {
      "cell_type": "code",
      "source": [
        "# Extract day of the week and hour of the day from rtc\n",
        "cleaned_df = cleaned_df.withColumn(\"day_of_week\", dayofweek(col(\"rtc\"))) \\\n",
        "                       .withColumn(\"hour_of_day\", hour(col(\"rtc\")))\n",
        "\n",
        "# User behavior features: count number of sessions per user\n",
        "window_spec = Window.partitionBy(\"uid\").orderBy(\"rtc\")\n",
        "\n",
        "session_df = cleaned_df.withColumn(\"prev_rtc\", lag(\"rtc\", 1).over(window_spec)) \\\n",
        "                       .withColumn(\"session_id\", sum(when(unix_timestamp(\"rtc\") - unix_timestamp(\"prev_rtc\") > 1800, 1).otherwise(0)).over(window_spec))\n",
        "\n",
        "user_behavior_df = session_df.groupBy(\"uid\").agg(\n",
        "    countDistinct(\"session_id\").alias(\"num_sessions\"),\n",
        "    sum(\"WatchTimeInSeconds\").alias(\"total_watch_time\")\n",
        ")\n",
        "\n",
        "# Show the user behavior DataFrame\n",
        "user_behavior_df.show()\n",
        "\n",
        "# Stop the Spark session\n",
        "spark.stop()\n"
      ],
      "metadata": {
        "colab": {
          "base_uri": "https://localhost:8080/"
        },
        "id": "6Dxcv-aC11kj",
        "outputId": "121b7ef6-7e40-4efa-8c64-ac0912975ecb"
      },
      "execution_count": 38,
      "outputs": [
        {
          "output_type": "stream",
          "name": "stdout",
          "text": [
            "+--------------------+------------+----------------+\n",
            "|                 uid|num_sessions|total_watch_time|\n",
            "+--------------------+------------+----------------+\n",
            "| Arun.Ganpat.Talekar|           1|               0|\n",
            "|Suvama.Ankush.Wag...|           1|              22|\n",
            "|Vasava.Dilipkumar...|           1|            1095|\n",
            "|       bulbulibibi75|           1|               0|\n",
            "|           gokul9517|           1|             314|\n",
            "|hemantmadhukarrao...|           1|             546|\n",
            "|     kingsukghosh-41|           1|              48|\n",
            "|  mahliyamukeshbhai8|           1|               9|\n",
            "|      neelamkumar781|           1|               2|\n",
            "|       ril1132537431|           1|               0|\n",
            "|       ril1197657474|           1|              11|\n",
            "|       ril3122832937|           1|              52|\n",
            "|       ril3140553756|           1|             685|\n",
            "|       ril7047321247|           1|               3|\n",
            "|       ril7086959243|           1|              41|\n",
            "|         salamkhan19|           1|             140|\n",
            "|      serazahmad-060|           1|            2449|\n",
            "|    shaikh.anam.bano|           1|               5|\n",
            "|    tapaskumardas-64|           1|              74|\n",
            "|      ujjalbiswas_50|           1|              39|\n",
            "+--------------------+------------+----------------+\n",
            "\n"
          ]
        }
      ]
    },
    {
      "cell_type": "code",
      "source": [
        "from pyspark.ml.feature import VectorAssembler\n",
        "from pyspark.ml.regression import LinearRegression\n"
      ],
      "metadata": {
        "id": "BlhAghqINX-B"
      },
      "execution_count": 39,
      "outputs": []
    },
    {
      "cell_type": "markdown",
      "source": [
        "failed attempt\n"
      ],
      "metadata": {
        "id": "H-hr4v6t7UD5"
      }
    },
    {
      "cell_type": "code",
      "source": [
        "# Import necessary functions again\n",
        "from pyspark.sql import SparkSession\n",
        "\n",
        "# Restart Spark session\n",
        "spark = SparkSession.builder \\\n",
        "    .appName(\"Jio Analytics Data Engineering\") \\\n",
        "    .getOrCreate()\n",
        "\n",
        "# Load the first JSON file\n",
        "df = spark.read.json('/content/short.json')\n",
        "\n",
        "# Load the second JSON file\n",
        "other_df = spark.read.json(\"/content/second.json\")\n",
        "\n",
        "# Perform an inner join on a common column\n",
        "common_column = \"uid\"\n",
        "joined_df = df.join(other_df.alias(\"other\"), on=common_column, how=\"inner\")\n",
        "\n",
        "# Show the schema of the joined DataFrame\n",
        "joined_df.printSchema()\n",
        "\n",
        "# Show a sample of the joined DataFrame\n",
        "joined_df.show()\n",
        "\n",
        "# Stop the Spark session\n",
        "spark.stop()\n"
      ],
      "metadata": {
        "colab": {
          "base_uri": "https://localhost:8080/",
          "height": 356
        },
        "id": "MhXJ9aci2_Wy",
        "outputId": "78da4552-de33-4ccd-aca7-ed99f4f4d34c"
      },
      "execution_count": 40,
      "outputs": [
        {
          "output_type": "error",
          "ename": "AnalysisException",
          "evalue": "[PATH_NOT_FOUND] Path does not exist: file:/content/second.json.",
          "traceback": [
            "\u001b[0;31m---------------------------------------------------------------------------\u001b[0m",
            "\u001b[0;31mAnalysisException\u001b[0m                         Traceback (most recent call last)",
            "\u001b[0;32m<ipython-input-40-684723740353>\u001b[0m in \u001b[0;36m<cell line: 13>\u001b[0;34m()\u001b[0m\n\u001b[1;32m     11\u001b[0m \u001b[0;34m\u001b[0m\u001b[0m\n\u001b[1;32m     12\u001b[0m \u001b[0;31m# Load the second JSON file\u001b[0m\u001b[0;34m\u001b[0m\u001b[0;34m\u001b[0m\u001b[0m\n\u001b[0;32m---> 13\u001b[0;31m \u001b[0mother_df\u001b[0m \u001b[0;34m=\u001b[0m \u001b[0mspark\u001b[0m\u001b[0;34m.\u001b[0m\u001b[0mread\u001b[0m\u001b[0;34m.\u001b[0m\u001b[0mjson\u001b[0m\u001b[0;34m(\u001b[0m\u001b[0;34m\"/content/second.json\"\u001b[0m\u001b[0;34m)\u001b[0m\u001b[0;34m\u001b[0m\u001b[0;34m\u001b[0m\u001b[0m\n\u001b[0m\u001b[1;32m     14\u001b[0m \u001b[0;34m\u001b[0m\u001b[0m\n\u001b[1;32m     15\u001b[0m \u001b[0;31m# Perform an inner join on a common column\u001b[0m\u001b[0;34m\u001b[0m\u001b[0;34m\u001b[0m\u001b[0m\n",
            "\u001b[0;32m/content/spark-3.4.1-bin-hadoop3/python/pyspark/sql/readwriter.py\u001b[0m in \u001b[0;36mjson\u001b[0;34m(self, path, schema, primitivesAsString, prefersDecimal, allowComments, allowUnquotedFieldNames, allowSingleQuotes, allowNumericLeadingZero, allowBackslashEscapingAnyCharacter, mode, columnNameOfCorruptRecord, dateFormat, timestampFormat, multiLine, allowUnquotedControlChars, lineSep, samplingRatio, dropFieldIfAllNull, encoding, locale, pathGlobFilter, recursiveFileLookup, modifiedBefore, modifiedAfter, allowNonNumericNumbers)\u001b[0m\n\u001b[1;32m    416\u001b[0m         \u001b[0;32mif\u001b[0m \u001b[0mtype\u001b[0m\u001b[0;34m(\u001b[0m\u001b[0mpath\u001b[0m\u001b[0;34m)\u001b[0m \u001b[0;34m==\u001b[0m \u001b[0mlist\u001b[0m\u001b[0;34m:\u001b[0m\u001b[0;34m\u001b[0m\u001b[0;34m\u001b[0m\u001b[0m\n\u001b[1;32m    417\u001b[0m             \u001b[0;32massert\u001b[0m \u001b[0mself\u001b[0m\u001b[0;34m.\u001b[0m\u001b[0m_spark\u001b[0m\u001b[0;34m.\u001b[0m\u001b[0m_sc\u001b[0m\u001b[0;34m.\u001b[0m\u001b[0m_jvm\u001b[0m \u001b[0;32mis\u001b[0m \u001b[0;32mnot\u001b[0m \u001b[0;32mNone\u001b[0m\u001b[0;34m\u001b[0m\u001b[0;34m\u001b[0m\u001b[0m\n\u001b[0;32m--> 418\u001b[0;31m             \u001b[0;32mreturn\u001b[0m \u001b[0mself\u001b[0m\u001b[0;34m.\u001b[0m\u001b[0m_df\u001b[0m\u001b[0;34m(\u001b[0m\u001b[0mself\u001b[0m\u001b[0;34m.\u001b[0m\u001b[0m_jreader\u001b[0m\u001b[0;34m.\u001b[0m\u001b[0mjson\u001b[0m\u001b[0;34m(\u001b[0m\u001b[0mself\u001b[0m\u001b[0;34m.\u001b[0m\u001b[0m_spark\u001b[0m\u001b[0;34m.\u001b[0m\u001b[0m_sc\u001b[0m\u001b[0;34m.\u001b[0m\u001b[0m_jvm\u001b[0m\u001b[0;34m.\u001b[0m\u001b[0mPythonUtils\u001b[0m\u001b[0;34m.\u001b[0m\u001b[0mtoSeq\u001b[0m\u001b[0;34m(\u001b[0m\u001b[0mpath\u001b[0m\u001b[0;34m)\u001b[0m\u001b[0;34m)\u001b[0m\u001b[0;34m)\u001b[0m\u001b[0;34m\u001b[0m\u001b[0;34m\u001b[0m\u001b[0m\n\u001b[0m\u001b[1;32m    419\u001b[0m         \u001b[0;32melif\u001b[0m \u001b[0misinstance\u001b[0m\u001b[0;34m(\u001b[0m\u001b[0mpath\u001b[0m\u001b[0;34m,\u001b[0m \u001b[0mRDD\u001b[0m\u001b[0;34m)\u001b[0m\u001b[0;34m:\u001b[0m\u001b[0;34m\u001b[0m\u001b[0;34m\u001b[0m\u001b[0m\n\u001b[1;32m    420\u001b[0m \u001b[0;34m\u001b[0m\u001b[0m\n",
            "\u001b[0;32m/content/spark-3.4.1-bin-hadoop3/python/lib/py4j-0.10.9.7-src.zip/py4j/java_gateway.py\u001b[0m in \u001b[0;36m__call__\u001b[0;34m(self, *args)\u001b[0m\n\u001b[1;32m   1320\u001b[0m \u001b[0;34m\u001b[0m\u001b[0m\n\u001b[1;32m   1321\u001b[0m         \u001b[0manswer\u001b[0m \u001b[0;34m=\u001b[0m \u001b[0mself\u001b[0m\u001b[0;34m.\u001b[0m\u001b[0mgateway_client\u001b[0m\u001b[0;34m.\u001b[0m\u001b[0msend_command\u001b[0m\u001b[0;34m(\u001b[0m\u001b[0mcommand\u001b[0m\u001b[0;34m)\u001b[0m\u001b[0;34m\u001b[0m\u001b[0;34m\u001b[0m\u001b[0m\n\u001b[0;32m-> 1322\u001b[0;31m         return_value = get_return_value(\n\u001b[0m\u001b[1;32m   1323\u001b[0m             answer, self.gateway_client, self.target_id, self.name)\n\u001b[1;32m   1324\u001b[0m \u001b[0;34m\u001b[0m\u001b[0m\n",
            "\u001b[0;32m/content/spark-3.4.1-bin-hadoop3/python/pyspark/errors/exceptions/captured.py\u001b[0m in \u001b[0;36mdeco\u001b[0;34m(*a, **kw)\u001b[0m\n\u001b[1;32m    173\u001b[0m                 \u001b[0;31m# Hide where the exception came from that shows a non-Pythonic\u001b[0m\u001b[0;34m\u001b[0m\u001b[0;34m\u001b[0m\u001b[0m\n\u001b[1;32m    174\u001b[0m                 \u001b[0;31m# JVM exception message.\u001b[0m\u001b[0;34m\u001b[0m\u001b[0;34m\u001b[0m\u001b[0m\n\u001b[0;32m--> 175\u001b[0;31m                 \u001b[0;32mraise\u001b[0m \u001b[0mconverted\u001b[0m \u001b[0;32mfrom\u001b[0m \u001b[0;32mNone\u001b[0m\u001b[0;34m\u001b[0m\u001b[0;34m\u001b[0m\u001b[0m\n\u001b[0m\u001b[1;32m    176\u001b[0m             \u001b[0;32melse\u001b[0m\u001b[0;34m:\u001b[0m\u001b[0;34m\u001b[0m\u001b[0;34m\u001b[0m\u001b[0m\n\u001b[1;32m    177\u001b[0m                 \u001b[0;32mraise\u001b[0m\u001b[0;34m\u001b[0m\u001b[0;34m\u001b[0m\u001b[0m\n",
            "\u001b[0;31mAnalysisException\u001b[0m: [PATH_NOT_FOUND] Path does not exist: file:/content/second.json."
          ]
        }
      ]
    },
    {
      "cell_type": "markdown",
      "source": [
        "\n",
        "## **Machine Learning**"
      ],
      "metadata": {
        "id": "ez57OomLDeGN"
      }
    },
    {
      "cell_type": "code",
      "source": [
        "from pyspark.ml.feature import VectorAssembler\n",
        "from pyspark.ml.regression import LinearRegression\n"
      ],
      "metadata": {
        "id": "mBpqNabK5lJn"
      },
      "execution_count": 41,
      "outputs": []
    },
    {
      "cell_type": "code",
      "source": [
        "from pyspark.sql import SparkSession\n",
        "\n",
        "# Restart Spark session\n",
        "spark = SparkSession.builder \\\n",
        "    .appName(\"Jio Analytics Data Engineering\") \\\n",
        "    .getOrCreate()\n",
        "\n",
        "# Load the JSON file\n",
        "df = spark.read.json('/content/short.json')\n",
        "\n",
        "\n",
        "\n",
        "\n",
        "# Extract the nested field `pro.d` into a separate column\n",
        "cleaned_df = df.withColumn(\"WatchTimeInSeconds\", col(\"pro.d\").cast(\"int\"))\n",
        "\n",
        "# Convert rtc to a readable timestamp\n",
        "cleaned_df = cleaned_df.withColumn(\"rtc\", from_unixtime(col(\"rtc\")))\n",
        "\n",
        "cleaned_df.show()\n"
      ],
      "metadata": {
        "colab": {
          "base_uri": "https://localhost:8080/"
        },
        "id": "2Tu3dBViJzgt",
        "outputId": "54c8649e-9d5b-4b52-c8ba-25b3d341d152"
      },
      "execution_count": 42,
      "outputs": [
        {
          "output_type": "stream",
          "name": "stdout",
          "text": [
            "+---------+-------+----+----------+-------------+----------------+----+-----+-----------------+-------------+--------------------+------------+------------------+-----------------+-----+-------+-------+----+---------+-------+------+---+-----------------+--------------------+---------+-------+--------------------+-------+--------------------+-------------+--------------------+--------------------+--------------------+------------------+\n",
            "|     akey|    avn|   c|     crmid|    dateflink|             did|dtpe|evtno|firmware_revision|hardware_info|              idamid|         key|               lat|              lng|logno|    mnu|    mod| nwk|      ori|os_name|   osv| pf|platform_build_id|                 pro|profileid|    res|                 rtc|    sdv|                 sid|     software|                 uid|          user_agent|     x-forwarded-for|WatchTimeInSeconds|\n",
            "+---------+-------+----+----------+-------------+----------------+----+-----+-----------------+-------------+--------------------+------------+------------------+-----------------+-----+-------+-------+----+---------+-------+------+---+-----------------+--------------------+---------+-------+--------------------+-------+--------------------+-------------+--------------------+--------------------+--------------------+------------------+\n",
            "|109154002|  6.0.8|null|7047321247|1622626200111|5034ef043e8f2749|   S|    1|             null|         null|e281f8e4-bdea-4a5...|media_access|           27.5574|          78.6643|   23|   vivo|   null|  4G|     null|   null|   6.0|  A|             null|{00000000-1ca7-1f...|     null|   null|+53388-12-22 17:2...|   null|       1622626172573|         null|       ril7047321247|                null|2409:4053:202:82e...|                 3|\n",
            "|109154002|1.6.6.4| Jio|7137774035|1622626200278|1dd45ec58313ebb4|   F| null|                 |         F90M|6bf00fe8-dceb-464...|media_access|30.531692504882812|75.88119506835938|   20|    LYF|Feature|  4G|Landscape|    2.5|48.0a2|  K|   20201029161555|{null, null, null...|       NA|240x320|+53388-12-22 19:5...|1.6.6.4|16226261766384e30...|    KaiOS 2.5|      neelamkumar781|Mozilla/5.0 (Mobi...|2409:4055:69d:3cd...|                 2|\n",
            "|109154002|  6.0.8|null|1124003909|1622626200293|3bbb560707f29684|   S|    1|             null|         null|ab9096ac-57a8-426...|media_access|           26.9035|           75.729|   54| Xiaomi|   null|  4G|     null|   null| 8.1.0|  A|             null|{00000000-5487-3f...|     null|   null|+53388-12-22 19:3...|   null|       1622625884908|         null|         salamkhan19|                null|2409:4052:2e02:60...|               140|\n",
            "|109154002|  6.0.8|null|1132537431|1622626200307|98020733e34987a9|   S|    1|             null|         null|171f3a72-697e-405...|media_access|                 0|                0|  137| Xiaomi|   null|  4G|     null|   null|    10|  A|             null|{00000000-1e5c-e7...|     null|   null|+53388-12-22 19:2...|   null|       1622625444655|         null|       ril1132537431|                null|        157.38.63.70|                 0|\n",
            "|109154002|  6.0.8|null|3071421502|1622626200452|e463668faa1d5874|   S|    1|             null|         null|b90c740d-6f9f-4ae...|media_access|           22.7284|          88.4677|   93|samsung|   null|WIFI|     null|   null|    11|  A|             null|{ffffffff-b7f8-c9...|     null|   null|+53388-12-22 19:4...|   null|       1622625314706|         null|     kingsukghosh-41|                null|       103.76.82.207|                48|\n",
            "|109154002|  6.0.8|null|3140553756|1622626200478|a11e9f558353b398|   S|    1|             null|         null|2c58e8c8-4573-4ce...|media_access|                 0|                0|  120|   vivo|   null|  4G|     null|   null|    11|  A|             null|{ffffffff-8673-95...|     null|   null|+53388-12-22 19:0...|   null|       1622624348354|         null|       ril3140553756|                null|2409:4062:18a:749...|               685|\n",
            "|109154002|  6.0.7|null|1140063322|1622626200478|c8e1820703f52ab8|   S|    1|             null|         null|287796f8-f2f0-468...|media_access|                 0|                0|   26|   vivo|   null|  4G|     null|   null| 6.0.1|  A|             null|{ffffffff-8602-d9...|     null|   null|+53388-12-22 17:5...|   null|       1622626127116|         null| Arun.Ganpat.Talekar|                null|2409:4042:2d86:43...|                 0|\n",
            "|109154002|  6.0.8|null|7086959243|1622626200480|87445dff7df45418|   S|    1|             null|         null|fc0e777a-8544-426...|media_access|           30.5964|          77.2982|   17| Xiaomi|   null|  4G|     null|   null| 7.1.2|  A|             null|{ffffffff-89dd-4e...|     null|   null|+53388-12-22 19:4...|   null|       1622626098402|         null|       ril7086959243|                null|2409:4056:e9e:7f6...|                41|\n",
            "|109154002|  6.0.8|null|1108323902|1622626200531|6b0cc8e17335e2ed|   S|    1|             null|         null|409f562a-70bb-4f5...|media_access|                 0|                0|   41|samsung|   null|  4G|     null|   null|    10|  A|             null|{ffffffff-8b21-6e...|     null|   null|+53388-12-22 19:4...|   null|       1622624159275|         null|Vasava.Dilipkumar...|                null|2405:204:8106:eeb...|              1095|\n",
            "|109154002|  6.0.7|null|3073231160|1622626200540|b5364b4e4efddc9a|   S|    1|             null|         null|7208b35a-f88d-4d9...|media_access|                 0|                0|  107|   OPPO|   null|  4G|     null|   null|     9|  A|             null|{00000000-518e-b7...|     null|   null|+53388-12-22 19:1...|   null|       1622621486500|         null|       bulbulibibi75|                null|2409:4061:2091:ec...|                 0|\n",
            "|109154002|  6.0.7|null|3122832937|1622626200549|f9ce164bc9da2ce1|   S|    1|             null|         null|852f096b-18c2-4c4...|media_access|                 0|                0|   60| Realme|   null|  4G|     null|   null|     9|  A|             null|{00000000-4c79-47...|     null|   null|+53388-12-22 20:0...|   null|       1622625874674|         null|       ril3122832937|                null|2409:4064:2e2f:8a...|                52|\n",
            "|109154002|  6.0.7|null|1135328819|1622626200550|54305bd8b8d84a30|   S|    1|             null|         null|aa9dabb6-aa2f-4ce...|media_access|                 0|                0|   35| realme|   null|WIFI|     null|   null|    10|  A|             null|{00000000-54f8-70...|     null|   null|+53388-12-22 19:0...|   null|       1622625787302|         null|    shaikh.anam.bano|                null|       103.123.224.8|                 5|\n",
            "|109154002|  6.0.7|null|5101332368|1622626200551|1556662b9b9bfb19|   S|    1|             null|         null|2627d78f-9cad-4c9...|media_access|            13.841|          74.6245|   48| Xiaomi|   null|  4G|     null|   null|    10|  A|             null|{00000000-2011-c0...|     null|   null|+53388-12-22 19:3...|   null|       1622624916229|         null|           gokul9517|                null|2409:4071:2088:14...|               314|\n",
            "|109154002|  6.0.8|null|3005330614|1622626200880|a41a92b866e55f40|   S|    1|             null|         null|322de4dc-1748-4b5...|media_access|           21.9791|          87.7809|  120|   OPPO|   null|  4G|     null|   null|    10|  A|             null|{00000000-518f-2b...|     null|   null|+53388-12-22 19:0...|   null|       1622624437706|         null|    tapaskumardas-64|                null|2409:4061:608:ced...|                74|\n",
            "|109154002|1.6.6.4| Jio|1112169282|1622626200889|edddf160ce4ea867|   F| null|                 |        F320B|464ee388-b26b-4e4...|media_access|              null|             null|   70|    LYF|Feature|  4G|Landscape|2.5.3.2|48.0a2|  K|   20210315171215|{null, null, null...|       NA|240x320|+53388-12-22 19:5...|1.6.6.4|16226255474632f90...|KaiOS 2.5.3.2|  mahliyamukeshbhai8|Mozilla/5.0 (Mobi...|2405:205:c8c6:460...|                 9|\n",
            "|109154002|  6.0.8|null|1218102819|1622626200904|871a9531cecb6d1c|   S|    1|             null|         null|992edb59-889b-454...|media_access|                 0|                0|   46| Xiaomi|   null|  4G|     null|   null|    10|  A|             null|{ffffffff-bca0-3b...|     null|   null|+53388-12-22 19:3...|   null|       1622626073116|         null|Suvama.Ankush.Wag...|                null|2409:4042:2402:c0...|                22|\n",
            "|109154002|  6.0.8|null|1032837923|1622626200904|8acf88171981753e|   S|    1|             null|         null|09f4d09b-4136-421...|media_access|                 0|                0|   32|   vivo|   null|WIFI|     null|   null|    10|  A|             null|{00000000-490e-32...|     null|   null|+53388-12-22 20:2...|   null|       1622625584347|         null|hemantmadhukarrao...|                null|        103.247.4.78|               546|\n",
            "|109154002|  6.0.8|null|1197657474|1622626200905|98ca0784ab86238e|   S|    1|             null|         null|c6793fbd-7c43-4e2...|media_access|           24.2369|           77.181|  101|   vivo|   null|  4G|     null|   null| 8.1.0|  A|             null|{00000000-490e-32...|     null|   null|+53388-12-22 19:4...|   null|       1622623134274|         null|       ril1197657474|                null|2409:4043:2e89:f2...|                11|\n",
            "|109154002|1.6.6.4| Jio|3135559391|1622626200961|fbd03bd3fbf584d4|   F| null|                 |        F320B|65ddab81-6644-412...|media_access|              null|             null|   45|    LYF|Feature|  4G|Landscape|2.5.3.2|48.0a2|  K|   20201009165323|{null, null, null...|       NA|240x320|+53388-12-22 19:5...|1.6.6.4|1622625821686ef2b...|KaiOS 2.5.3.2|      ujjalbiswas_50|Mozilla/5.0 (Mobi...|2409:4061:499:887...|                39|\n",
            "|109154002|  6.0.8|null|7150862665|1622626200985|40cf2e977cb78ceb|   S|    1|             null|         null|586cff0a-695e-421...|media_access|                 0|                0|   32|   vivo|   null|  4G|     null|   null| 8.1.0|  A|             null|{00000000-490e-32...|     null|   null|+53388-12-22 20:0...|   null|       1622623354122|         null|      serazahmad-060|                null|2409:4063:4d87:53...|              2449|\n",
            "+---------+-------+----+----------+-------------+----------------+----+-----+-----------------+-------------+--------------------+------------+------------------+-----------------+-----+-------+-------+----+---------+-------+------+---+-----------------+--------------------+---------+-------+--------------------+-------+--------------------+-------------+--------------------+--------------------+--------------------+------------------+\n",
            "\n"
          ]
        }
      ]
    },
    {
      "cell_type": "code",
      "source": [
        "from pyspark.sql.functions import col, from_unixtime, mean, stddev, dayofweek, hour, sum, when, unix_timestamp, lag\n",
        "from pyspark.sql.window import Window\n",
        "\n",
        "# Fill missing WatchTimeInSeconds with the mean value\n",
        "mean_watch_time = cleaned_df.select(mean(\"WatchTimeInSeconds\")).collect()[0][0]\n",
        "cleaned_df = cleaned_df.fillna({'WatchTimeInSeconds': mean_watch_time})\n",
        "\n",
        "# Normalize WatchTimeInSeconds\n",
        "watch_time_mean = cleaned_df.select(mean(col(\"WatchTimeInSeconds\"))).collect()[0][0]\n",
        "watch_time_stddev = cleaned_df.select(stddev(col(\"WatchTimeInSeconds\"))).collect()[0][0]\n",
        "\n",
        "cleaned_df = cleaned_df.withColumn(\"NormalizedWatchTime\",\n",
        "                                   (col(\"WatchTimeInSeconds\") - watch_time_mean) / watch_time_stddev)\n",
        "\n",
        "cleaned_df.show()"
      ],
      "metadata": {
        "colab": {
          "base_uri": "https://localhost:8080/"
        },
        "id": "sBqUS3nzPrZA",
        "outputId": "198552c6-1b55-4d13-c743-2494cf641cb0"
      },
      "execution_count": 43,
      "outputs": [
        {
          "output_type": "stream",
          "name": "stdout",
          "text": [
            "+---------+-------+----+----------+-------------+----------------+----+-----+-----------------+-------------+--------------------+------------+------------------+-----------------+-----+-------+-------+----+---------+-------+------+---+-----------------+--------------------+---------+-------+--------------------+-------+--------------------+-------------+--------------------+--------------------+--------------------+------------------+--------------------+\n",
            "|     akey|    avn|   c|     crmid|    dateflink|             did|dtpe|evtno|firmware_revision|hardware_info|              idamid|         key|               lat|              lng|logno|    mnu|    mod| nwk|      ori|os_name|   osv| pf|platform_build_id|                 pro|profileid|    res|                 rtc|    sdv|                 sid|     software|                 uid|          user_agent|     x-forwarded-for|WatchTimeInSeconds| NormalizedWatchTime|\n",
            "+---------+-------+----+----------+-------------+----------------+----+-----+-----------------+-------------+--------------------+------------+------------------+-----------------+-----+-------+-------+----+---------+-------+------+---+-----------------+--------------------+---------+-------+--------------------+-------+--------------------+-------------+--------------------+--------------------+--------------------+------------------+--------------------+\n",
            "|109154002|  6.0.8|null|7047321247|1622626200111|5034ef043e8f2749|   S|    1|             null|         null|e281f8e4-bdea-4a5...|media_access|           27.5574|          78.6643|   23|   vivo|   null|  4G|     null|   null|   6.0|  A|             null|{00000000-1ca7-1f...|     null|   null|+53388-12-22 17:2...|   null|       1622626172573|         null|       ril7047321247|                null|2409:4053:202:82e...|                 3|-0.46571630567463634|\n",
            "|109154002|1.6.6.4| Jio|7137774035|1622626200278|1dd45ec58313ebb4|   F| null|                 |         F90M|6bf00fe8-dceb-464...|media_access|30.531692504882812|75.88119506835938|   20|    LYF|Feature|  4G|Landscape|    2.5|48.0a2|  K|   20201029161555|{null, null, null...|       NA|240x320|+53388-12-22 19:5...|1.6.6.4|16226261766384e30...|    KaiOS 2.5|      neelamkumar781|Mozilla/5.0 (Mobi...|2409:4055:69d:3cd...|                 2| -0.4674175524533565|\n",
            "|109154002|  6.0.8|null|1124003909|1622626200293|3bbb560707f29684|   S|    1|             null|         null|ab9096ac-57a8-426...|media_access|           26.9035|           75.729|   54| Xiaomi|   null|  4G|     null|   null| 8.1.0|  A|             null|{00000000-5487-3f...|     null|   null|+53388-12-22 19:3...|   null|       1622625884908|         null|         salamkhan19|                null|2409:4052:2e02:60...|               140|-0.23264549698997813|\n",
            "|109154002|  6.0.8|null|1132537431|1622626200307|98020733e34987a9|   S|    1|             null|         null|171f3a72-697e-405...|media_access|                 0|                0|  137| Xiaomi|   null|  4G|     null|   null|    10|  A|             null|{00000000-1e5c-e7...|     null|   null|+53388-12-22 19:2...|   null|       1622625444655|         null|       ril1132537431|                null|        157.38.63.70|                 0|-0.47082004601079674|\n",
            "|109154002|  6.0.8|null|3071421502|1622626200452|e463668faa1d5874|   S|    1|             null|         null|b90c740d-6f9f-4ae...|media_access|           22.7284|          88.4677|   93|samsung|   null|WIFI|     null|   null|    11|  A|             null|{ffffffff-b7f8-c9...|     null|   null|+53388-12-22 19:4...|   null|       1622625314706|         null|     kingsukghosh-41|                null|       103.76.82.207|                48|-0.38916020063223034|\n",
            "|109154002|  6.0.8|null|3140553756|1622626200478|a11e9f558353b398|   S|    1|             null|         null|2c58e8c8-4573-4ce...|media_access|                 0|                0|  120|   vivo|   null|  4G|     null|   null|    11|  A|             null|{ffffffff-8673-95...|     null|   null|+53388-12-22 19:0...|   null|       1622624348354|         null|       ril3140553756|                null|2409:4062:18a:749...|               685|  0.6945339974124942|\n",
            "|109154002|  6.0.7|null|1140063322|1622626200478|c8e1820703f52ab8|   S|    1|             null|         null|287796f8-f2f0-468...|media_access|                 0|                0|   26|   vivo|   null|  4G|     null|   null| 6.0.1|  A|             null|{ffffffff-8602-d9...|     null|   null|+53388-12-22 17:5...|   null|       1622626127116|         null| Arun.Ganpat.Talekar|                null|2409:4042:2d86:43...|                 0|-0.47082004601079674|\n",
            "|109154002|  6.0.8|null|7086959243|1622626200480|87445dff7df45418|   S|    1|             null|         null|fc0e777a-8544-426...|media_access|           30.5964|          77.2982|   17| Xiaomi|   null|  4G|     null|   null| 7.1.2|  A|             null|{ffffffff-89dd-4e...|     null|   null|+53388-12-22 19:4...|   null|       1622626098402|         null|       ril7086959243|                null|2409:4056:e9e:7f6...|                41|-0.40106892808327127|\n",
            "|109154002|  6.0.8|null|1108323902|1622626200531|6b0cc8e17335e2ed|   S|    1|             null|         null|409f562a-70bb-4f5...|media_access|                 0|                0|   41|samsung|   null|  4G|     null|   null|    10|  A|             null|{ffffffff-8b21-6e...|     null|   null|+53388-12-22 19:4...|   null|       1622624159275|         null|Vasava.Dilipkumar...|                null|2405:204:8106:eeb...|              1095|  1.3920451766877486|\n",
            "|109154002|  6.0.7|null|3073231160|1622626200540|b5364b4e4efddc9a|   S|    1|             null|         null|7208b35a-f88d-4d9...|media_access|                 0|                0|  107|   OPPO|   null|  4G|     null|   null|     9|  A|             null|{00000000-518e-b7...|     null|   null|+53388-12-22 19:1...|   null|       1622621486500|         null|       bulbulibibi75|                null|2409:4061:2091:ec...|                 0|-0.47082004601079674|\n",
            "|109154002|  6.0.7|null|3122832937|1622626200549|f9ce164bc9da2ce1|   S|    1|             null|         null|852f096b-18c2-4c4...|media_access|                 0|                0|   60| Realme|   null|  4G|     null|   null|     9|  A|             null|{00000000-4c79-47...|     null|   null|+53388-12-22 20:0...|   null|       1622625874674|         null|       ril3122832937|                null|2409:4064:2e2f:8a...|                52| -0.3823552135173498|\n",
            "|109154002|  6.0.7|null|1135328819|1622626200550|54305bd8b8d84a30|   S|    1|             null|         null|aa9dabb6-aa2f-4ce...|media_access|                 0|                0|   35| realme|   null|WIFI|     null|   null|    10|  A|             null|{00000000-54f8-70...|     null|   null|+53388-12-22 19:0...|   null|       1622625787302|         null|    shaikh.anam.bano|                null|       103.123.224.8|                 5| -0.4623138121171961|\n",
            "|109154002|  6.0.7|null|5101332368|1622626200551|1556662b9b9bfb19|   S|    1|             null|         null|2627d78f-9cad-4c9...|media_access|            13.841|          74.6245|   48| Xiaomi|   null|  4G|     null|   null|    10|  A|             null|{00000000-2011-c0...|     null|   null|+53388-12-22 19:3...|   null|       1622624916229|         null|           gokul9517|                null|2409:4071:2088:14...|               314| 0.06337144250732495|\n",
            "|109154002|  6.0.8|null|3005330614|1622626200880|a41a92b866e55f40|   S|    1|             null|         null|322de4dc-1748-4b5...|media_access|           21.9791|          87.7809|  120|   OPPO|   null|  4G|     null|   null|    10|  A|             null|{00000000-518f-2b...|     null|   null|+53388-12-22 19:0...|   null|       1622624437706|         null|    tapaskumardas-64|                null|2409:4061:608:ced...|                74| -0.3449277843855069|\n",
            "|109154002|1.6.6.4| Jio|1112169282|1622626200889|edddf160ce4ea867|   F| null|                 |        F320B|464ee388-b26b-4e4...|media_access|              null|             null|   70|    LYF|Feature|  4G|Landscape|2.5.3.2|48.0a2|  K|   20210315171215|{null, null, null...|       NA|240x320|+53388-12-22 19:5...|1.6.6.4|16226255474632f90...|KaiOS 2.5.3.2|  mahliyamukeshbhai8|Mozilla/5.0 (Mobi...|2405:205:c8c6:460...|                 9|-0.45550882500231554|\n",
            "|109154002|  6.0.8|null|1218102819|1622626200904|871a9531cecb6d1c|   S|    1|             null|         null|992edb59-889b-454...|media_access|                 0|                0|   46| Xiaomi|   null|  4G|     null|   null|    10|  A|             null|{ffffffff-bca0-3b...|     null|   null|+53388-12-22 19:3...|   null|       1622626073116|         null|Suvama.Ankush.Wag...|                null|2409:4042:2402:c0...|                22| -0.4333926168789538|\n",
            "|109154002|  6.0.8|null|1032837923|1622626200904|8acf88171981753e|   S|    1|             null|         null|09f4d09b-4136-421...|media_access|                 0|                0|   32|   vivo|   null|WIFI|     null|   null|    10|  A|             null|{00000000-490e-32...|     null|   null|+53388-12-22 20:2...|   null|       1622625584347|         null|hemantmadhukarrao...|                null|        103.247.4.78|               546|  0.4580606951703957|\n",
            "|109154002|  6.0.8|null|1197657474|1622626200905|98ca0784ab86238e|   S|    1|             null|         null|c6793fbd-7c43-4e2...|media_access|           24.2369|           77.181|  101|   vivo|   null|  4G|     null|   null| 8.1.0|  A|             null|{00000000-490e-32...|     null|   null|+53388-12-22 19:4...|   null|       1622623134274|         null|       ril1197657474|                null|2409:4043:2e89:f2...|                11| -0.4521063314448753|\n",
            "|109154002|1.6.6.4| Jio|3135559391|1622626200961|fbd03bd3fbf584d4|   F| null|                 |        F320B|65ddab81-6644-412...|media_access|              null|             null|   45|    LYF|Feature|  4G|Landscape|2.5.3.2|48.0a2|  K|   20201009165323|{null, null, null...|       NA|240x320|+53388-12-22 19:5...|1.6.6.4|1622625821686ef2b...|KaiOS 2.5.3.2|      ujjalbiswas_50|Mozilla/5.0 (Mobi...|2409:4061:499:887...|                39|-0.40447142164071154|\n",
            "|109154002|  6.0.8|null|7150862665|1622626200985|40cf2e977cb78ceb|   S|    1|             null|         null|586cff0a-695e-421...|media_access|                 0|                0|   32|   vivo|   null|  4G|     null|   null| 8.1.0|  A|             null|{00000000-490e-32...|     null|   null|+53388-12-22 20:0...|   null|       1622623354122|         null|      serazahmad-060|                null|2409:4063:4d87:53...|              2449|   3.695533315074808|\n",
            "+---------+-------+----+----------+-------------+----------------+----+-----+-----------------+-------------+--------------------+------------+------------------+-----------------+-----+-------+-------+----+---------+-------+------+---+-----------------+--------------------+---------+-------+--------------------+-------+--------------------+-------------+--------------------+--------------------+--------------------+------------------+--------------------+\n",
            "\n"
          ]
        }
      ]
    },
    {
      "cell_type": "code",
      "source": [
        "cleaned_df.printSchema()"
      ],
      "metadata": {
        "colab": {
          "base_uri": "https://localhost:8080/"
        },
        "id": "fA-VPEp2Uqhb",
        "outputId": "0360fc2a-e894-4cb3-8f90-80eb05532387"
      },
      "execution_count": 44,
      "outputs": [
        {
          "output_type": "stream",
          "name": "stdout",
          "text": [
            "root\n",
            " |-- akey: string (nullable = true)\n",
            " |-- avn: string (nullable = true)\n",
            " |-- c: string (nullable = true)\n",
            " |-- crmid: string (nullable = true)\n",
            " |-- dateflink: long (nullable = true)\n",
            " |-- did: string (nullable = true)\n",
            " |-- dtpe: string (nullable = true)\n",
            " |-- evtno: string (nullable = true)\n",
            " |-- firmware_revision: string (nullable = true)\n",
            " |-- hardware_info: string (nullable = true)\n",
            " |-- idamid: string (nullable = true)\n",
            " |-- key: string (nullable = true)\n",
            " |-- lat: string (nullable = true)\n",
            " |-- lng: string (nullable = true)\n",
            " |-- logno: string (nullable = true)\n",
            " |-- mnu: string (nullable = true)\n",
            " |-- mod: string (nullable = true)\n",
            " |-- nwk: string (nullable = true)\n",
            " |-- ori: string (nullable = true)\n",
            " |-- os_name: string (nullable = true)\n",
            " |-- osv: string (nullable = true)\n",
            " |-- pf: string (nullable = true)\n",
            " |-- platform_build_id: string (nullable = true)\n",
            " |-- pro: struct (nullable = true)\n",
            " |    |-- HARD_CODE_DEVICE_ID: string (nullable = true)\n",
            " |    |-- avr: string (nullable = true)\n",
            " |    |-- bbc: string (nullable = true)\n",
            " |    |-- bbd: string (nullable = true)\n",
            " |    |-- bc: string (nullable = true)\n",
            " |    |-- bd: string (nullable = true)\n",
            " |    |-- bdl: string (nullable = true)\n",
            " |    |-- bufferdetails: string (nullable = true)\n",
            " |    |-- cellid: string (nullable = true)\n",
            " |    |-- cg: string (nullable = true)\n",
            " |    |-- ch: string (nullable = true)\n",
            " |    |-- channel_id: string (nullable = true)\n",
            " |    |-- channel_package_id: array (nullable = true)\n",
            " |    |    |-- element: string (containsNull = true)\n",
            " |    |-- cl: string (nullable = true)\n",
            " |    |-- client_package_id: array (nullable = true)\n",
            " |    |    |-- element: string (containsNull = true)\n",
            " |    |-- codec: string (nullable = true)\n",
            " |    |-- d: string (nullable = true)\n",
            " |    |-- dm: string (nullable = true)\n",
            " |    |-- encryption: string (nullable = true)\n",
            " |    |-- ep: string (nullable = true)\n",
            " |    |-- finish: string (nullable = true)\n",
            " |    |-- getchannelurltime: double (nullable = true)\n",
            " |    |-- index: string (nullable = true)\n",
            " |    |-- isottuser: string (nullable = true)\n",
            " |    |-- jio_id: string (nullable = true)\n",
            " |    |-- keywords: string (nullable = true)\n",
            " |    |-- lac: string (nullable = true)\n",
            " |    |-- mcc: string (nullable = true)\n",
            " |    |-- mnc: string (nullable = true)\n",
            " |    |-- n: string (nullable = true)\n",
            " |    |-- nte: string (nullable = true)\n",
            " |    |-- opr: string (nullable = true)\n",
            " |    |-- pci: string (nullable = true)\n",
            " |    |-- playback_screen: string (nullable = true)\n",
            " |    |-- player: string (nullable = true)\n",
            " |    |-- pn: string (nullable = true)\n",
            " |    |-- prof: string (nullable = true)\n",
            " |    |-- program_date: string (nullable = true)\n",
            " |    |-- program_time: string (nullable = true)\n",
            " |    |-- prow: string (nullable = true)\n",
            " |    |-- rsrp: string (nullable = true)\n",
            " |    |-- rsrq: string (nullable = true)\n",
            " |    |-- rssi: string (nullable = true)\n",
            " |    |-- rtc: string (nullable = true)\n",
            " |    |-- serial_number: string (nullable = true)\n",
            " |    |-- settype: string (nullable = true)\n",
            " |    |-- show_genre: string (nullable = true)\n",
            " |    |-- source: string (nullable = true)\n",
            " |    |-- ss: string (nullable = true)\n",
            " |    |-- start: string (nullable = true)\n",
            " |    |-- startuptime: string (nullable = true)\n",
            " |    |-- t: string (nullable = true)\n",
            " |    |-- tac: string (nullable = true)\n",
            " |    |-- tac_id: string (nullable = true)\n",
            " |    |-- timestamp: string (nullable = true)\n",
            " |    |-- u: string (nullable = true)\n",
            " |    |-- unique_session_id: string (nullable = true)\n",
            " |    |-- unique_session_timestamp: string (nullable = true)\n",
            " |    |-- watch_time_dock: string (nullable = true)\n",
            " |    |-- watch_time_landscape: string (nullable = true)\n",
            " |    |-- watch_time_pip: string (nullable = true)\n",
            " |    |-- watch_time_portrait: string (nullable = true)\n",
            " |-- profileid: string (nullable = true)\n",
            " |-- res: string (nullable = true)\n",
            " |-- rtc: string (nullable = true)\n",
            " |-- sdv: string (nullable = true)\n",
            " |-- sid: string (nullable = true)\n",
            " |-- software: string (nullable = true)\n",
            " |-- uid: string (nullable = true)\n",
            " |-- user_agent: string (nullable = true)\n",
            " |-- x-forwarded-for: string (nullable = true)\n",
            " |-- WatchTimeInSeconds: integer (nullable = true)\n",
            " |-- NormalizedWatchTime: double (nullable = true)\n",
            "\n"
          ]
        }
      ]
    },
    {
      "cell_type": "code",
      "source": [
        "from pyspark.sql import SparkSession\n",
        "from pyspark.ml.feature import VectorAssembler\n",
        "from pyspark.ml.regression import LinearRegression\n",
        "from pyspark.sql.functions import col\n",
        "\n",
        "# Initialize Spark session\n",
        "spark = SparkSession.builder \\\n",
        "    .appName(\"Linear Regression Example\") \\\n",
        "    .getOrCreate()\n",
        "\n",
        "# Assuming you have already cleaned and transformed your data in cleaned_df\n",
        "\n",
        "# Verify column names\n",
        "expected_columns = [\"akey\", \"avn\", \"rtc\"]  # Adjust this list as per your actual column names\n",
        "for col_name in expected_columns:\n",
        "    assert col_name in df.columns, f\"Column '{col_name}' not found in DataFrame.\"\n",
        "\n",
        "# Convert string columns to numeric (assuming they are supposed to be numeric)\n",
        "df = df.withColumn(\"akey\", col(\"akey\").cast(\"double\"))\n",
        "df = df.withColumn(\"avn\", col(\"avn\").cast(\"double\"))\n",
        "df = df.withColumn(\"rtc\", col(\"rtc\").cast(\"double\"))\n",
        "\n",
        "# Create VectorAssembler\n",
        "assembler = VectorAssembler(inputCols=[\"akey\", \"avn\"], outputCol=\"features\")\n",
        "feature_df = assembler.transform(df)\n",
        "\n",
        "# Split data into training and test sets\n",
        "train_df, test_df = feature_df.randomSplit([0.8, 0.2], seed=42)\n",
        "\n",
        "# Initialize LinearRegression model\n",
        "lr = LinearRegression(featuresCol=\"features\", labelCol=\"rtc\")\n",
        "\n",
        "# Fit the model on training data\n",
        "lr_model = lr.fit(train_df)\n",
        "\n",
        "# Make predictions on test data\n",
        "predictions = lr_model.transform(test_df)\n",
        "\n",
        "# Show predictions\n",
        "predictions.show()\n",
        "\n",
        "# Stop Spark session\n",
        "spark.stop()\n",
        "\n"
      ],
      "metadata": {
        "colab": {
          "base_uri": "https://localhost:8080/",
          "height": 1000
        },
        "id": "T5pl2FinPvhj",
        "outputId": "dd7a0d8a-9ae0-43b5-8784-b8732f6ec38e"
      },
      "execution_count": 45,
      "outputs": [
        {
          "output_type": "error",
          "ename": "Py4JJavaError",
          "evalue": "An error occurred while calling o1097.fit.\n: org.apache.spark.SparkException: Job aborted due to stage failure: Task 0 in stage 13.0 failed 1 times, most recent failure: Lost task 0.0 in stage 13.0 (TID 10) (586f61900fea executor driver): org.apache.spark.SparkException: [FAILED_EXECUTE_UDF] Failed to execute user defined function (VectorAssembler$$Lambda$4365/546872049: (struct<akey:double,avn:double>) => struct<type:tinyint,size:int,indices:array<int>,values:array<double>>).\n\tat org.apache.spark.sql.errors.QueryExecutionErrors$.failedExecuteUserDefinedFunctionError(QueryExecutionErrors.scala:217)\n\tat org.apache.spark.sql.errors.QueryExecutionErrors.failedExecuteUserDefinedFunctionError(QueryExecutionErrors.scala)\n\tat org.apache.spark.sql.catalyst.expressions.GeneratedClass$GeneratedIteratorForCodegenStage1.sort_addToSorter_0$(Unknown Source)\n\tat org.apache.spark.sql.catalyst.expressions.GeneratedClass$GeneratedIteratorForCodegenStage1.processNext(Unknown Source)\n\tat org.apache.spark.sql.execution.BufferedRowIterator.hasNext(BufferedRowIterator.java:43)\n\tat org.apache.spark.sql.execution.WholeStageCodegenExec$$anon$1.hasNext(WholeStageCodegenExec.scala:760)\n\tat scala.collection.Iterator$$anon$10.hasNext(Iterator.scala:460)\n\tat scala.collection.Iterator$$anon$10.hasNext(Iterator.scala:460)\n\tat scala.collection.Iterator$$anon$10.hasNext(Iterator.scala:460)\n\tat scala.collection.Iterator.foreach(Iterator.scala:943)\n\tat scala.collection.Iterator.foreach$(Iterator.scala:943)\n\tat scala.collection.AbstractIterator.foreach(Iterator.scala:1431)\n\tat scala.collection.TraversableOnce.foldLeft(TraversableOnce.scala:199)\n\tat scala.collection.TraversableOnce.foldLeft$(TraversableOnce.scala:192)\n\tat scala.collection.AbstractIterator.foldLeft(Iterator.scala:1431)\n\tat scala.collection.TraversableOnce.aggregate(TraversableOnce.scala:260)\n\tat scala.collection.TraversableOnce.aggregate$(TraversableOnce.scala:260)\n\tat scala.collection.AbstractIterator.aggregate(Iterator.scala:1431)\n\tat org.apache.spark.rdd.RDD.$anonfun$treeAggregate$4(RDD.scala:1234)\n\tat org.apache.spark.rdd.RDD.$anonfun$treeAggregate$6(RDD.scala:1235)\n\tat org.apache.spark.rdd.RDD.$anonfun$mapPartitions$2(RDD.scala:853)\n\tat org.apache.spark.rdd.RDD.$anonfun$mapPartitions$2$adapted(RDD.scala:853)\n\tat org.apache.spark.rdd.MapPartitionsRDD.compute(MapPartitionsRDD.scala:52)\n\tat org.apache.spark.rdd.RDD.computeOrReadCheckpoint(RDD.scala:364)\n\tat org.apache.spark.rdd.RDD.iterator(RDD.scala:328)\n\tat org.apache.spark.scheduler.ResultTask.runTask(ResultTask.scala:92)\n\tat org.apache.spark.TaskContext.runTaskWithListeners(TaskContext.scala:161)\n\tat org.apache.spark.scheduler.Task.run(Task.scala:139)\n\tat org.apache.spark.executor.Executor$TaskRunner.$anonfun$run$3(Executor.scala:554)\n\tat org.apache.spark.util.Utils$.tryWithSafeFinally(Utils.scala:1529)\n\tat org.apache.spark.executor.Executor$TaskRunner.run(Executor.scala:557)\n\tat java.util.concurrent.ThreadPoolExecutor.runWorker(ThreadPoolExecutor.java:1149)\n\tat java.util.concurrent.ThreadPoolExecutor$Worker.run(ThreadPoolExecutor.java:624)\n\tat java.lang.Thread.run(Thread.java:750)\nCaused by: org.apache.spark.SparkException: Encountered null while assembling a row with handleInvalid = \"error\". Consider\nremoving nulls from dataset or using handleInvalid = \"keep\" or \"skip\".\n\tat org.apache.spark.ml.feature.VectorAssembler$.$anonfun$assemble$1(VectorAssembler.scala:291)\n\tat org.apache.spark.ml.feature.VectorAssembler$.$anonfun$assemble$1$adapted(VectorAssembler.scala:260)\n\tat scala.collection.IndexedSeqOptimized.foreach(IndexedSeqOptimized.scala:36)\n\tat scala.collection.IndexedSeqOptimized.foreach$(IndexedSeqOptimized.scala:33)\n\tat scala.collection.mutable.WrappedArray.foreach(WrappedArray.scala:38)\n\tat org.apache.spark.ml.feature.VectorAssembler$.assemble(VectorAssembler.scala:260)\n\tat org.apache.spark.ml.feature.VectorAssembler.$anonfun$transform$6(VectorAssembler.scala:143)\n\t... 32 more\n\nDriver stacktrace:\n\tat org.apache.spark.scheduler.DAGScheduler.failJobAndIndependentStages(DAGScheduler.scala:2785)\n\tat org.apache.spark.scheduler.DAGScheduler.$anonfun$abortStage$2(DAGScheduler.scala:2721)\n\tat org.apache.spark.scheduler.DAGScheduler.$anonfun$abortStage$2$adapted(DAGScheduler.scala:2720)\n\tat scala.collection.mutable.ResizableArray.foreach(ResizableArray.scala:62)\n\tat scala.collection.mutable.ResizableArray.foreach$(ResizableArray.scala:55)\n\tat scala.collection.mutable.ArrayBuffer.foreach(ArrayBuffer.scala:49)\n\tat org.apache.spark.scheduler.DAGScheduler.abortStage(DAGScheduler.scala:2720)\n\tat org.apache.spark.scheduler.DAGScheduler.$anonfun$handleTaskSetFailed$1(DAGScheduler.scala:1206)\n\tat org.apache.spark.scheduler.DAGScheduler.$anonfun$handleTaskSetFailed$1$adapted(DAGScheduler.scala:1206)\n\tat scala.Option.foreach(Option.scala:407)\n\tat org.apache.spark.scheduler.DAGScheduler.handleTaskSetFailed(DAGScheduler.scala:1206)\n\tat org.apache.spark.scheduler.DAGSchedulerEventProcessLoop.doOnReceive(DAGScheduler.scala:2984)\n\tat org.apache.spark.scheduler.DAGSchedulerEventProcessLoop.onReceive(DAGScheduler.scala:2923)\n\tat org.apache.spark.scheduler.DAGSchedulerEventProcessLoop.onReceive(DAGScheduler.scala:2912)\n\tat org.apache.spark.util.EventLoop$$anon$1.run(EventLoop.scala:49)\n\tat org.apache.spark.scheduler.DAGScheduler.runJob(DAGScheduler.scala:971)\n\tat org.apache.spark.SparkContext.runJob(SparkContext.scala:2263)\n\tat org.apache.spark.SparkContext.runJob(SparkContext.scala:2358)\n\tat org.apache.spark.rdd.RDD.$anonfun$fold$1(RDD.scala:1172)\n\tat org.apache.spark.rdd.RDDOperationScope$.withScope(RDDOperationScope.scala:151)\n\tat org.apache.spark.rdd.RDDOperationScope$.withScope(RDDOperationScope.scala:112)\n\tat org.apache.spark.rdd.RDD.withScope(RDD.scala:405)\n\tat org.apache.spark.rdd.RDD.fold(RDD.scala:1166)\n\tat org.apache.spark.rdd.RDD.$anonfun$treeAggregate$2(RDD.scala:1259)\n\tat org.apache.spark.rdd.RDDOperationScope$.withScope(RDDOperationScope.scala:151)\n\tat org.apache.spark.rdd.RDDOperationScope$.withScope(RDDOperationScope.scala:112)\n\tat org.apache.spark.rdd.RDD.withScope(RDD.scala:405)\n\tat org.apache.spark.rdd.RDD.treeAggregate(RDD.scala:1226)\n\tat org.apache.spark.rdd.RDD.$anonfun$treeAggregate$1(RDD.scala:1212)\n\tat org.apache.spark.rdd.RDDOperationScope$.withScope(RDDOperationScope.scala:151)\n\tat org.apache.spark.rdd.RDDOperationScope$.withScope(RDDOperationScope.scala:112)\n\tat org.apache.spark.rdd.RDD.withScope(RDD.scala:405)\n\tat org.apache.spark.rdd.RDD.treeAggregate(RDD.scala:1212)\n\tat org.apache.spark.ml.optim.WeightedLeastSquares.fit(WeightedLeastSquares.scala:107)\n\tat org.apache.spark.ml.regression.LinearRegression.trainWithNormal(LinearRegression.scala:456)\n\tat org.apache.spark.ml.regression.LinearRegression.$anonfun$train$1(LinearRegression.scala:354)\n\tat org.apache.spark.ml.util.Instrumentation$.$anonfun$instrumented$1(Instrumentation.scala:191)\n\tat scala.util.Try$.apply(Try.scala:213)\n\tat org.apache.spark.ml.util.Instrumentation$.instrumented(Instrumentation.scala:191)\n\tat org.apache.spark.ml.regression.LinearRegression.train(LinearRegression.scala:329)\n\tat org.apache.spark.ml.regression.LinearRegression.train(LinearRegression.scala:186)\n\tat org.apache.spark.ml.Predictor.fit(Predictor.scala:114)\n\tat sun.reflect.NativeMethodAccessorImpl.invoke0(Native Method)\n\tat sun.reflect.NativeMethodAccessorImpl.invoke(NativeMethodAccessorImpl.java:62)\n\tat sun.reflect.DelegatingMethodAccessorImpl.invoke(DelegatingMethodAccessorImpl.java:43)\n\tat java.lang.reflect.Method.invoke(Method.java:498)\n\tat py4j.reflection.MethodInvoker.invoke(MethodInvoker.java:244)\n\tat py4j.reflection.ReflectionEngine.invoke(ReflectionEngine.java:374)\n\tat py4j.Gateway.invoke(Gateway.java:282)\n\tat py4j.commands.AbstractCommand.invokeMethod(AbstractCommand.java:132)\n\tat py4j.commands.CallCommand.execute(CallCommand.java:79)\n\tat py4j.ClientServerConnection.waitForCommands(ClientServerConnection.java:182)\n\tat py4j.ClientServerConnection.run(ClientServerConnection.java:106)\n\tat java.lang.Thread.run(Thread.java:750)\nCaused by: org.apache.spark.SparkException: [FAILED_EXECUTE_UDF] Failed to execute user defined function (VectorAssembler$$Lambda$4365/546872049: (struct<akey:double,avn:double>) => struct<type:tinyint,size:int,indices:array<int>,values:array<double>>).\n\tat org.apache.spark.sql.errors.QueryExecutionErrors$.failedExecuteUserDefinedFunctionError(QueryExecutionErrors.scala:217)\n\tat org.apache.spark.sql.errors.QueryExecutionErrors.failedExecuteUserDefinedFunctionError(QueryExecutionErrors.scala)\n\tat org.apache.spark.sql.catalyst.expressions.GeneratedClass$GeneratedIteratorForCodegenStage1.sort_addToSorter_0$(Unknown Source)\n\tat org.apache.spark.sql.catalyst.expressions.GeneratedClass$GeneratedIteratorForCodegenStage1.processNext(Unknown Source)\n\tat org.apache.spark.sql.execution.BufferedRowIterator.hasNext(BufferedRowIterator.java:43)\n\tat org.apache.spark.sql.execution.WholeStageCodegenExec$$anon$1.hasNext(WholeStageCodegenExec.scala:760)\n\tat scala.collection.Iterator$$anon$10.hasNext(Iterator.scala:460)\n\tat scala.collection.Iterator$$anon$10.hasNext(Iterator.scala:460)\n\tat scala.collection.Iterator$$anon$10.hasNext(Iterator.scala:460)\n\tat scala.collection.Iterator.foreach(Iterator.scala:943)\n\tat scala.collection.Iterator.foreach$(Iterator.scala:943)\n\tat scala.collection.AbstractIterator.foreach(Iterator.scala:1431)\n\tat scala.collection.TraversableOnce.foldLeft(TraversableOnce.scala:199)\n\tat scala.collection.TraversableOnce.foldLeft$(TraversableOnce.scala:192)\n\tat scala.collection.AbstractIterator.foldLeft(Iterator.scala:1431)\n\tat scala.collection.TraversableOnce.aggregate(TraversableOnce.scala:260)\n\tat scala.collection.TraversableOnce.aggregate$(TraversableOnce.scala:260)\n\tat scala.collection.AbstractIterator.aggregate(Iterator.scala:1431)\n\tat org.apache.spark.rdd.RDD.$anonfun$treeAggregate$4(RDD.scala:1234)\n\tat org.apache.spark.rdd.RDD.$anonfun$treeAggregate$6(RDD.scala:1235)\n\tat org.apache.spark.rdd.RDD.$anonfun$mapPartitions$2(RDD.scala:853)\n\tat org.apache.spark.rdd.RDD.$anonfun$mapPartitions$2$adapted(RDD.scala:853)\n\tat org.apache.spark.rdd.MapPartitionsRDD.compute(MapPartitionsRDD.scala:52)\n\tat org.apache.spark.rdd.RDD.computeOrReadCheckpoint(RDD.scala:364)\n\tat org.apache.spark.rdd.RDD.iterator(RDD.scala:328)\n\tat org.apache.spark.scheduler.ResultTask.runTask(ResultTask.scala:92)\n\tat org.apache.spark.TaskContext.runTaskWithListeners(TaskContext.scala:161)\n\tat org.apache.spark.scheduler.Task.run(Task.scala:139)\n\tat org.apache.spark.executor.Executor$TaskRunner.$anonfun$run$3(Executor.scala:554)\n\tat org.apache.spark.util.Utils$.tryWithSafeFinally(Utils.scala:1529)\n\tat org.apache.spark.executor.Executor$TaskRunner.run(Executor.scala:557)\n\tat java.util.concurrent.ThreadPoolExecutor.runWorker(ThreadPoolExecutor.java:1149)\n\tat java.util.concurrent.ThreadPoolExecutor$Worker.run(ThreadPoolExecutor.java:624)\n\t... 1 more\nCaused by: org.apache.spark.SparkException: Encountered null while assembling a row with handleInvalid = \"error\". Consider\nremoving nulls from dataset or using handleInvalid = \"keep\" or \"skip\".\n\tat org.apache.spark.ml.feature.VectorAssembler$.$anonfun$assemble$1(VectorAssembler.scala:291)\n\tat org.apache.spark.ml.feature.VectorAssembler$.$anonfun$assemble$1$adapted(VectorAssembler.scala:260)\n\tat scala.collection.IndexedSeqOptimized.foreach(IndexedSeqOptimized.scala:36)\n\tat scala.collection.IndexedSeqOptimized.foreach$(IndexedSeqOptimized.scala:33)\n\tat scala.collection.mutable.WrappedArray.foreach(WrappedArray.scala:38)\n\tat org.apache.spark.ml.feature.VectorAssembler$.assemble(VectorAssembler.scala:260)\n\tat org.apache.spark.ml.feature.VectorAssembler.$anonfun$transform$6(VectorAssembler.scala:143)\n\t... 32 more\n",
          "traceback": [
            "\u001b[0;31m---------------------------------------------------------------------------\u001b[0m",
            "\u001b[0;31mPy4JJavaError\u001b[0m                             Traceback (most recent call last)",
            "\u001b[0;32m<ipython-input-45-2027ea84a6cd>\u001b[0m in \u001b[0;36m<cell line: 34>\u001b[0;34m()\u001b[0m\n\u001b[1;32m     32\u001b[0m \u001b[0;34m\u001b[0m\u001b[0m\n\u001b[1;32m     33\u001b[0m \u001b[0;31m# Fit the model on training data\u001b[0m\u001b[0;34m\u001b[0m\u001b[0;34m\u001b[0m\u001b[0m\n\u001b[0;32m---> 34\u001b[0;31m \u001b[0mlr_model\u001b[0m \u001b[0;34m=\u001b[0m \u001b[0mlr\u001b[0m\u001b[0;34m.\u001b[0m\u001b[0mfit\u001b[0m\u001b[0;34m(\u001b[0m\u001b[0mtrain_df\u001b[0m\u001b[0;34m)\u001b[0m\u001b[0;34m\u001b[0m\u001b[0;34m\u001b[0m\u001b[0m\n\u001b[0m\u001b[1;32m     35\u001b[0m \u001b[0;34m\u001b[0m\u001b[0m\n\u001b[1;32m     36\u001b[0m \u001b[0;31m# Make predictions on test data\u001b[0m\u001b[0;34m\u001b[0m\u001b[0;34m\u001b[0m\u001b[0m\n",
            "\u001b[0;32m/content/spark-3.4.1-bin-hadoop3/python/pyspark/ml/base.py\u001b[0m in \u001b[0;36mfit\u001b[0;34m(self, dataset, params)\u001b[0m\n\u001b[1;32m    203\u001b[0m                 \u001b[0;32mreturn\u001b[0m \u001b[0mself\u001b[0m\u001b[0;34m.\u001b[0m\u001b[0mcopy\u001b[0m\u001b[0;34m(\u001b[0m\u001b[0mparams\u001b[0m\u001b[0;34m)\u001b[0m\u001b[0;34m.\u001b[0m\u001b[0m_fit\u001b[0m\u001b[0;34m(\u001b[0m\u001b[0mdataset\u001b[0m\u001b[0;34m)\u001b[0m\u001b[0;34m\u001b[0m\u001b[0;34m\u001b[0m\u001b[0m\n\u001b[1;32m    204\u001b[0m             \u001b[0;32melse\u001b[0m\u001b[0;34m:\u001b[0m\u001b[0;34m\u001b[0m\u001b[0;34m\u001b[0m\u001b[0m\n\u001b[0;32m--> 205\u001b[0;31m                 \u001b[0;32mreturn\u001b[0m \u001b[0mself\u001b[0m\u001b[0;34m.\u001b[0m\u001b[0m_fit\u001b[0m\u001b[0;34m(\u001b[0m\u001b[0mdataset\u001b[0m\u001b[0;34m)\u001b[0m\u001b[0;34m\u001b[0m\u001b[0;34m\u001b[0m\u001b[0m\n\u001b[0m\u001b[1;32m    206\u001b[0m         \u001b[0;32melse\u001b[0m\u001b[0;34m:\u001b[0m\u001b[0;34m\u001b[0m\u001b[0;34m\u001b[0m\u001b[0m\n\u001b[1;32m    207\u001b[0m             raise TypeError(\n",
            "\u001b[0;32m/content/spark-3.4.1-bin-hadoop3/python/pyspark/ml/wrapper.py\u001b[0m in \u001b[0;36m_fit\u001b[0;34m(self, dataset)\u001b[0m\n\u001b[1;32m    379\u001b[0m \u001b[0;34m\u001b[0m\u001b[0m\n\u001b[1;32m    380\u001b[0m     \u001b[0;32mdef\u001b[0m \u001b[0m_fit\u001b[0m\u001b[0;34m(\u001b[0m\u001b[0mself\u001b[0m\u001b[0;34m,\u001b[0m \u001b[0mdataset\u001b[0m\u001b[0;34m:\u001b[0m \u001b[0mDataFrame\u001b[0m\u001b[0;34m)\u001b[0m \u001b[0;34m->\u001b[0m \u001b[0mJM\u001b[0m\u001b[0;34m:\u001b[0m\u001b[0;34m\u001b[0m\u001b[0;34m\u001b[0m\u001b[0m\n\u001b[0;32m--> 381\u001b[0;31m         \u001b[0mjava_model\u001b[0m \u001b[0;34m=\u001b[0m \u001b[0mself\u001b[0m\u001b[0;34m.\u001b[0m\u001b[0m_fit_java\u001b[0m\u001b[0;34m(\u001b[0m\u001b[0mdataset\u001b[0m\u001b[0;34m)\u001b[0m\u001b[0;34m\u001b[0m\u001b[0;34m\u001b[0m\u001b[0m\n\u001b[0m\u001b[1;32m    382\u001b[0m         \u001b[0mmodel\u001b[0m \u001b[0;34m=\u001b[0m \u001b[0mself\u001b[0m\u001b[0;34m.\u001b[0m\u001b[0m_create_model\u001b[0m\u001b[0;34m(\u001b[0m\u001b[0mjava_model\u001b[0m\u001b[0;34m)\u001b[0m\u001b[0;34m\u001b[0m\u001b[0;34m\u001b[0m\u001b[0m\n\u001b[1;32m    383\u001b[0m         \u001b[0;32mreturn\u001b[0m \u001b[0mself\u001b[0m\u001b[0;34m.\u001b[0m\u001b[0m_copyValues\u001b[0m\u001b[0;34m(\u001b[0m\u001b[0mmodel\u001b[0m\u001b[0;34m)\u001b[0m\u001b[0;34m\u001b[0m\u001b[0;34m\u001b[0m\u001b[0m\n",
            "\u001b[0;32m/content/spark-3.4.1-bin-hadoop3/python/pyspark/ml/wrapper.py\u001b[0m in \u001b[0;36m_fit_java\u001b[0;34m(self, dataset)\u001b[0m\n\u001b[1;32m    376\u001b[0m \u001b[0;34m\u001b[0m\u001b[0m\n\u001b[1;32m    377\u001b[0m         \u001b[0mself\u001b[0m\u001b[0;34m.\u001b[0m\u001b[0m_transfer_params_to_java\u001b[0m\u001b[0;34m(\u001b[0m\u001b[0;34m)\u001b[0m\u001b[0;34m\u001b[0m\u001b[0;34m\u001b[0m\u001b[0m\n\u001b[0;32m--> 378\u001b[0;31m         \u001b[0;32mreturn\u001b[0m \u001b[0mself\u001b[0m\u001b[0;34m.\u001b[0m\u001b[0m_java_obj\u001b[0m\u001b[0;34m.\u001b[0m\u001b[0mfit\u001b[0m\u001b[0;34m(\u001b[0m\u001b[0mdataset\u001b[0m\u001b[0;34m.\u001b[0m\u001b[0m_jdf\u001b[0m\u001b[0;34m)\u001b[0m\u001b[0;34m\u001b[0m\u001b[0;34m\u001b[0m\u001b[0m\n\u001b[0m\u001b[1;32m    379\u001b[0m \u001b[0;34m\u001b[0m\u001b[0m\n\u001b[1;32m    380\u001b[0m     \u001b[0;32mdef\u001b[0m \u001b[0m_fit\u001b[0m\u001b[0;34m(\u001b[0m\u001b[0mself\u001b[0m\u001b[0;34m,\u001b[0m \u001b[0mdataset\u001b[0m\u001b[0;34m:\u001b[0m \u001b[0mDataFrame\u001b[0m\u001b[0;34m)\u001b[0m \u001b[0;34m->\u001b[0m \u001b[0mJM\u001b[0m\u001b[0;34m:\u001b[0m\u001b[0;34m\u001b[0m\u001b[0;34m\u001b[0m\u001b[0m\n",
            "\u001b[0;32m/content/spark-3.4.1-bin-hadoop3/python/lib/py4j-0.10.9.7-src.zip/py4j/java_gateway.py\u001b[0m in \u001b[0;36m__call__\u001b[0;34m(self, *args)\u001b[0m\n\u001b[1;32m   1320\u001b[0m \u001b[0;34m\u001b[0m\u001b[0m\n\u001b[1;32m   1321\u001b[0m         \u001b[0manswer\u001b[0m \u001b[0;34m=\u001b[0m \u001b[0mself\u001b[0m\u001b[0;34m.\u001b[0m\u001b[0mgateway_client\u001b[0m\u001b[0;34m.\u001b[0m\u001b[0msend_command\u001b[0m\u001b[0;34m(\u001b[0m\u001b[0mcommand\u001b[0m\u001b[0;34m)\u001b[0m\u001b[0;34m\u001b[0m\u001b[0;34m\u001b[0m\u001b[0m\n\u001b[0;32m-> 1322\u001b[0;31m         return_value = get_return_value(\n\u001b[0m\u001b[1;32m   1323\u001b[0m             answer, self.gateway_client, self.target_id, self.name)\n\u001b[1;32m   1324\u001b[0m \u001b[0;34m\u001b[0m\u001b[0m\n",
            "\u001b[0;32m/content/spark-3.4.1-bin-hadoop3/python/pyspark/errors/exceptions/captured.py\u001b[0m in \u001b[0;36mdeco\u001b[0;34m(*a, **kw)\u001b[0m\n\u001b[1;32m    167\u001b[0m     \u001b[0;32mdef\u001b[0m \u001b[0mdeco\u001b[0m\u001b[0;34m(\u001b[0m\u001b[0;34m*\u001b[0m\u001b[0ma\u001b[0m\u001b[0;34m:\u001b[0m \u001b[0mAny\u001b[0m\u001b[0;34m,\u001b[0m \u001b[0;34m**\u001b[0m\u001b[0mkw\u001b[0m\u001b[0;34m:\u001b[0m \u001b[0mAny\u001b[0m\u001b[0;34m)\u001b[0m \u001b[0;34m->\u001b[0m \u001b[0mAny\u001b[0m\u001b[0;34m:\u001b[0m\u001b[0;34m\u001b[0m\u001b[0;34m\u001b[0m\u001b[0m\n\u001b[1;32m    168\u001b[0m         \u001b[0;32mtry\u001b[0m\u001b[0;34m:\u001b[0m\u001b[0;34m\u001b[0m\u001b[0;34m\u001b[0m\u001b[0m\n\u001b[0;32m--> 169\u001b[0;31m             \u001b[0;32mreturn\u001b[0m \u001b[0mf\u001b[0m\u001b[0;34m(\u001b[0m\u001b[0;34m*\u001b[0m\u001b[0ma\u001b[0m\u001b[0;34m,\u001b[0m \u001b[0;34m**\u001b[0m\u001b[0mkw\u001b[0m\u001b[0;34m)\u001b[0m\u001b[0;34m\u001b[0m\u001b[0;34m\u001b[0m\u001b[0m\n\u001b[0m\u001b[1;32m    170\u001b[0m         \u001b[0;32mexcept\u001b[0m \u001b[0mPy4JJavaError\u001b[0m \u001b[0;32mas\u001b[0m \u001b[0me\u001b[0m\u001b[0;34m:\u001b[0m\u001b[0;34m\u001b[0m\u001b[0;34m\u001b[0m\u001b[0m\n\u001b[1;32m    171\u001b[0m             \u001b[0mconverted\u001b[0m \u001b[0;34m=\u001b[0m \u001b[0mconvert_exception\u001b[0m\u001b[0;34m(\u001b[0m\u001b[0me\u001b[0m\u001b[0;34m.\u001b[0m\u001b[0mjava_exception\u001b[0m\u001b[0;34m)\u001b[0m\u001b[0;34m\u001b[0m\u001b[0;34m\u001b[0m\u001b[0m\n",
            "\u001b[0;32m/content/spark-3.4.1-bin-hadoop3/python/lib/py4j-0.10.9.7-src.zip/py4j/protocol.py\u001b[0m in \u001b[0;36mget_return_value\u001b[0;34m(answer, gateway_client, target_id, name)\u001b[0m\n\u001b[1;32m    324\u001b[0m             \u001b[0mvalue\u001b[0m \u001b[0;34m=\u001b[0m \u001b[0mOUTPUT_CONVERTER\u001b[0m\u001b[0;34m[\u001b[0m\u001b[0mtype\u001b[0m\u001b[0;34m]\u001b[0m\u001b[0;34m(\u001b[0m\u001b[0manswer\u001b[0m\u001b[0;34m[\u001b[0m\u001b[0;36m2\u001b[0m\u001b[0;34m:\u001b[0m\u001b[0;34m]\u001b[0m\u001b[0;34m,\u001b[0m \u001b[0mgateway_client\u001b[0m\u001b[0;34m)\u001b[0m\u001b[0;34m\u001b[0m\u001b[0;34m\u001b[0m\u001b[0m\n\u001b[1;32m    325\u001b[0m             \u001b[0;32mif\u001b[0m \u001b[0manswer\u001b[0m\u001b[0;34m[\u001b[0m\u001b[0;36m1\u001b[0m\u001b[0;34m]\u001b[0m \u001b[0;34m==\u001b[0m \u001b[0mREFERENCE_TYPE\u001b[0m\u001b[0;34m:\u001b[0m\u001b[0;34m\u001b[0m\u001b[0;34m\u001b[0m\u001b[0m\n\u001b[0;32m--> 326\u001b[0;31m                 raise Py4JJavaError(\n\u001b[0m\u001b[1;32m    327\u001b[0m                     \u001b[0;34m\"An error occurred while calling {0}{1}{2}.\\n\"\u001b[0m\u001b[0;34m.\u001b[0m\u001b[0;34m\u001b[0m\u001b[0;34m\u001b[0m\u001b[0m\n\u001b[1;32m    328\u001b[0m                     format(target_id, \".\", name), value)\n",
            "\u001b[0;31mPy4JJavaError\u001b[0m: An error occurred while calling o1097.fit.\n: org.apache.spark.SparkException: Job aborted due to stage failure: Task 0 in stage 13.0 failed 1 times, most recent failure: Lost task 0.0 in stage 13.0 (TID 10) (586f61900fea executor driver): org.apache.spark.SparkException: [FAILED_EXECUTE_UDF] Failed to execute user defined function (VectorAssembler$$Lambda$4365/546872049: (struct<akey:double,avn:double>) => struct<type:tinyint,size:int,indices:array<int>,values:array<double>>).\n\tat org.apache.spark.sql.errors.QueryExecutionErrors$.failedExecuteUserDefinedFunctionError(QueryExecutionErrors.scala:217)\n\tat org.apache.spark.sql.errors.QueryExecutionErrors.failedExecuteUserDefinedFunctionError(QueryExecutionErrors.scala)\n\tat org.apache.spark.sql.catalyst.expressions.GeneratedClass$GeneratedIteratorForCodegenStage1.sort_addToSorter_0$(Unknown Source)\n\tat org.apache.spark.sql.catalyst.expressions.GeneratedClass$GeneratedIteratorForCodegenStage1.processNext(Unknown Source)\n\tat org.apache.spark.sql.execution.BufferedRowIterator.hasNext(BufferedRowIterator.java:43)\n\tat org.apache.spark.sql.execution.WholeStageCodegenExec$$anon$1.hasNext(WholeStageCodegenExec.scala:760)\n\tat scala.collection.Iterator$$anon$10.hasNext(Iterator.scala:460)\n\tat scala.collection.Iterator$$anon$10.hasNext(Iterator.scala:460)\n\tat scala.collection.Iterator$$anon$10.hasNext(Iterator.scala:460)\n\tat scala.collection.Iterator.foreach(Iterator.scala:943)\n\tat scala.collection.Iterator.foreach$(Iterator.scala:943)\n\tat scala.collection.AbstractIterator.foreach(Iterator.scala:1431)\n\tat scala.collection.TraversableOnce.foldLeft(TraversableOnce.scala:199)\n\tat scala.collection.TraversableOnce.foldLeft$(TraversableOnce.scala:192)\n\tat scala.collection.AbstractIterator.foldLeft(Iterator.scala:1431)\n\tat scala.collection.TraversableOnce.aggregate(TraversableOnce.scala:260)\n\tat scala.collection.TraversableOnce.aggregate$(TraversableOnce.scala:260)\n\tat scala.collection.AbstractIterator.aggregate(Iterator.scala:1431)\n\tat org.apache.spark.rdd.RDD.$anonfun$treeAggregate$4(RDD.scala:1234)\n\tat org.apache.spark.rdd.RDD.$anonfun$treeAggregate$6(RDD.scala:1235)\n\tat org.apache.spark.rdd.RDD.$anonfun$mapPartitions$2(RDD.scala:853)\n\tat org.apache.spark.rdd.RDD.$anonfun$mapPartitions$2$adapted(RDD.scala:853)\n\tat org.apache.spark.rdd.MapPartitionsRDD.compute(MapPartitionsRDD.scala:52)\n\tat org.apache.spark.rdd.RDD.computeOrReadCheckpoint(RDD.scala:364)\n\tat org.apache.spark.rdd.RDD.iterator(RDD.scala:328)\n\tat org.apache.spark.scheduler.ResultTask.runTask(ResultTask.scala:92)\n\tat org.apache.spark.TaskContext.runTaskWithListeners(TaskContext.scala:161)\n\tat org.apache.spark.scheduler.Task.run(Task.scala:139)\n\tat org.apache.spark.executor.Executor$TaskRunner.$anonfun$run$3(Executor.scala:554)\n\tat org.apache.spark.util.Utils$.tryWithSafeFinally(Utils.scala:1529)\n\tat org.apache.spark.executor.Executor$TaskRunner.run(Executor.scala:557)\n\tat java.util.concurrent.ThreadPoolExecutor.runWorker(ThreadPoolExecutor.java:1149)\n\tat java.util.concurrent.ThreadPoolExecutor$Worker.run(ThreadPoolExecutor.java:624)\n\tat java.lang.Thread.run(Thread.java:750)\nCaused by: org.apache.spark.SparkException: Encountered null while assembling a row with handleInvalid = \"error\". Consider\nremoving nulls from dataset or using handleInvalid = \"keep\" or \"skip\".\n\tat org.apache.spark.ml.feature.VectorAssembler$.$anonfun$assemble$1(VectorAssembler.scala:291)\n\tat org.apache.spark.ml.feature.VectorAssembler$.$anonfun$assemble$1$adapted(VectorAssembler.scala:260)\n\tat scala.collection.IndexedSeqOptimized.foreach(IndexedSeqOptimized.scala:36)\n\tat scala.collection.IndexedSeqOptimized.foreach$(IndexedSeqOptimized.scala:33)\n\tat scala.collection.mutable.WrappedArray.foreach(WrappedArray.scala:38)\n\tat org.apache.spark.ml.feature.VectorAssembler$.assemble(VectorAssembler.scala:260)\n\tat org.apache.spark.ml.feature.VectorAssembler.$anonfun$transform$6(VectorAssembler.scala:143)\n\t... 32 more\n\nDriver stacktrace:\n\tat org.apache.spark.scheduler.DAGScheduler.failJobAndIndependentStages(DAGScheduler.scala:2785)\n\tat org.apache.spark.scheduler.DAGScheduler.$anonfun$abortStage$2(DAGScheduler.scala:2721)\n\tat org.apache.spark.scheduler.DAGScheduler.$anonfun$abortStage$2$adapted(DAGScheduler.scala:2720)\n\tat scala.collection.mutable.ResizableArray.foreach(ResizableArray.scala:62)\n\tat scala.collection.mutable.ResizableArray.foreach$(ResizableArray.scala:55)\n\tat scala.collection.mutable.ArrayBuffer.foreach(ArrayBuffer.scala:49)\n\tat org.apache.spark.scheduler.DAGScheduler.abortStage(DAGScheduler.scala:2720)\n\tat org.apache.spark.scheduler.DAGScheduler.$anonfun$handleTaskSetFailed$1(DAGScheduler.scala:1206)\n\tat org.apache.spark.scheduler.DAGScheduler.$anonfun$handleTaskSetFailed$1$adapted(DAGScheduler.scala:1206)\n\tat scala.Option.foreach(Option.scala:407)\n\tat org.apache.spark.scheduler.DAGScheduler.handleTaskSetFailed(DAGScheduler.scala:1206)\n\tat org.apache.spark.scheduler.DAGSchedulerEventProcessLoop.doOnReceive(DAGScheduler.scala:2984)\n\tat org.apache.spark.scheduler.DAGSchedulerEventProcessLoop.onReceive(DAGScheduler.scala:2923)\n\tat org.apache.spark.scheduler.DAGSchedulerEventProcessLoop.onReceive(DAGScheduler.scala:2912)\n\tat org.apache.spark.util.EventLoop$$anon$1.run(EventLoop.scala:49)\n\tat org.apache.spark.scheduler.DAGScheduler.runJob(DAGScheduler.scala:971)\n\tat org.apache.spark.SparkContext.runJob(SparkContext.scala:2263)\n\tat org.apache.spark.SparkContext.runJob(SparkContext.scala:2358)\n\tat org.apache.spark.rdd.RDD.$anonfun$fold$1(RDD.scala:1172)\n\tat org.apache.spark.rdd.RDDOperationScope$.withScope(RDDOperationScope.scala:151)\n\tat org.apache.spark.rdd.RDDOperationScope$.withScope(RDDOperationScope.scala:112)\n\tat org.apache.spark.rdd.RDD.withScope(RDD.scala:405)\n\tat org.apache.spark.rdd.RDD.fold(RDD.scala:1166)\n\tat org.apache.spark.rdd.RDD.$anonfun$treeAggregate$2(RDD.scala:1259)\n\tat org.apache.spark.rdd.RDDOperationScope$.withScope(RDDOperationScope.scala:151)\n\tat org.apache.spark.rdd.RDDOperationScope$.withScope(RDDOperationScope.scala:112)\n\tat org.apache.spark.rdd.RDD.withScope(RDD.scala:405)\n\tat org.apache.spark.rdd.RDD.treeAggregate(RDD.scala:1226)\n\tat org.apache.spark.rdd.RDD.$anonfun$treeAggregate$1(RDD.scala:1212)\n\tat org.apache.spark.rdd.RDDOperationScope$.withScope(RDDOperationScope.scala:151)\n\tat org.apache.spark.rdd.RDDOperationScope$.withScope(RDDOperationScope.scala:112)\n\tat org.apache.spark.rdd.RDD.withScope(RDD.scala:405)\n\tat org.apache.spark.rdd.RDD.treeAggregate(RDD.scala:1212)\n\tat org.apache.spark.ml.optim.WeightedLeastSquares.fit(WeightedLeastSquares.scala:107)\n\tat org.apache.spark.ml.regression.LinearRegression.trainWithNormal(LinearRegression.scala:456)\n\tat org.apache.spark.ml.regression.LinearRegression.$anonfun$train$1(LinearRegression.scala:354)\n\tat org.apache.spark.ml.util.Instrumentation$.$anonfun$instrumented$1(Instrumentation.scala:191)\n\tat scala.util.Try$.apply(Try.scala:213)\n\tat org.apache.spark.ml.util.Instrumentation$.instrumented(Instrumentation.scala:191)\n\tat org.apache.spark.ml.regression.LinearRegression.train(LinearRegression.scala:329)\n\tat org.apache.spark.ml.regression.LinearRegression.train(LinearRegression.scala:186)\n\tat org.apache.spark.ml.Predictor.fit(Predictor.scala:114)\n\tat sun.reflect.NativeMethodAccessorImpl.invoke0(Native Method)\n\tat sun.reflect.NativeMethodAccessorImpl.invoke(NativeMethodAccessorImpl.java:62)\n\tat sun.reflect.DelegatingMethodAccessorImpl.invoke(DelegatingMethodAccessorImpl.java:43)\n\tat java.lang.reflect.Method.invoke(Method.java:498)\n\tat py4j.reflection.MethodInvoker.invoke(MethodInvoker.java:244)\n\tat py4j.reflection.ReflectionEngine.invoke(ReflectionEngine.java:374)\n\tat py4j.Gateway.invoke(Gateway.java:282)\n\tat py4j.commands.AbstractCommand.invokeMethod(AbstractCommand.java:132)\n\tat py4j.commands.CallCommand.execute(CallCommand.java:79)\n\tat py4j.ClientServerConnection.waitForCommands(ClientServerConnection.java:182)\n\tat py4j.ClientServerConnection.run(ClientServerConnection.java:106)\n\tat java.lang.Thread.run(Thread.java:750)\nCaused by: org.apache.spark.SparkException: [FAILED_EXECUTE_UDF] Failed to execute user defined function (VectorAssembler$$Lambda$4365/546872049: (struct<akey:double,avn:double>) => struct<type:tinyint,size:int,indices:array<int>,values:array<double>>).\n\tat org.apache.spark.sql.errors.QueryExecutionErrors$.failedExecuteUserDefinedFunctionError(QueryExecutionErrors.scala:217)\n\tat org.apache.spark.sql.errors.QueryExecutionErrors.failedExecuteUserDefinedFunctionError(QueryExecutionErrors.scala)\n\tat org.apache.spark.sql.catalyst.expressions.GeneratedClass$GeneratedIteratorForCodegenStage1.sort_addToSorter_0$(Unknown Source)\n\tat org.apache.spark.sql.catalyst.expressions.GeneratedClass$GeneratedIteratorForCodegenStage1.processNext(Unknown Source)\n\tat org.apache.spark.sql.execution.BufferedRowIterator.hasNext(BufferedRowIterator.java:43)\n\tat org.apache.spark.sql.execution.WholeStageCodegenExec$$anon$1.hasNext(WholeStageCodegenExec.scala:760)\n\tat scala.collection.Iterator$$anon$10.hasNext(Iterator.scala:460)\n\tat scala.collection.Iterator$$anon$10.hasNext(Iterator.scala:460)\n\tat scala.collection.Iterator$$anon$10.hasNext(Iterator.scala:460)\n\tat scala.collection.Iterator.foreach(Iterator.scala:943)\n\tat scala.collection.Iterator.foreach$(Iterator.scala:943)\n\tat scala.collection.AbstractIterator.foreach(Iterator.scala:1431)\n\tat scala.collection.TraversableOnce.foldLeft(TraversableOnce.scala:199)\n\tat scala.collection.TraversableOnce.foldLeft$(TraversableOnce.scala:192)\n\tat scala.collection.AbstractIterator.foldLeft(Iterator.scala:1431)\n\tat scala.collection.TraversableOnce.aggregate(TraversableOnce.scala:260)\n\tat scala.collection.TraversableOnce.aggregate$(TraversableOnce.scala:260)\n\tat scala.collection.AbstractIterator.aggregate(Iterator.scala:1431)\n\tat org.apache.spark.rdd.RDD.$anonfun$treeAggregate$4(RDD.scala:1234)\n\tat org.apache.spark.rdd.RDD.$anonfun$treeAggregate$6(RDD.scala:1235)\n\tat org.apache.spark.rdd.RDD.$anonfun$mapPartitions$2(RDD.scala:853)\n\tat org.apache.spark.rdd.RDD.$anonfun$mapPartitions$2$adapted(RDD.scala:853)\n\tat org.apache.spark.rdd.MapPartitionsRDD.compute(MapPartitionsRDD.scala:52)\n\tat org.apache.spark.rdd.RDD.computeOrReadCheckpoint(RDD.scala:364)\n\tat org.apache.spark.rdd.RDD.iterator(RDD.scala:328)\n\tat org.apache.spark.scheduler.ResultTask.runTask(ResultTask.scala:92)\n\tat org.apache.spark.TaskContext.runTaskWithListeners(TaskContext.scala:161)\n\tat org.apache.spark.scheduler.Task.run(Task.scala:139)\n\tat org.apache.spark.executor.Executor$TaskRunner.$anonfun$run$3(Executor.scala:554)\n\tat org.apache.spark.util.Utils$.tryWithSafeFinally(Utils.scala:1529)\n\tat org.apache.spark.executor.Executor$TaskRunner.run(Executor.scala:557)\n\tat java.util.concurrent.ThreadPoolExecutor.runWorker(ThreadPoolExecutor.java:1149)\n\tat java.util.concurrent.ThreadPoolExecutor$Worker.run(ThreadPoolExecutor.java:624)\n\t... 1 more\nCaused by: org.apache.spark.SparkException: Encountered null while assembling a row with handleInvalid = \"error\". Consider\nremoving nulls from dataset or using handleInvalid = \"keep\" or \"skip\".\n\tat org.apache.spark.ml.feature.VectorAssembler$.$anonfun$assemble$1(VectorAssembler.scala:291)\n\tat org.apache.spark.ml.feature.VectorAssembler$.$anonfun$assemble$1$adapted(VectorAssembler.scala:260)\n\tat scala.collection.IndexedSeqOptimized.foreach(IndexedSeqOptimized.scala:36)\n\tat scala.collection.IndexedSeqOptimized.foreach$(IndexedSeqOptimized.scala:33)\n\tat scala.collection.mutable.WrappedArray.foreach(WrappedArray.scala:38)\n\tat org.apache.spark.ml.feature.VectorAssembler$.assemble(VectorAssembler.scala:260)\n\tat org.apache.spark.ml.feature.VectorAssembler.$anonfun$transform$6(VectorAssembler.scala:143)\n\t... 32 more\n"
          ]
        }
      ]
    },
    {
      "cell_type": "markdown",
      "source": [
        "# **visualization**"
      ],
      "metadata": {
        "id": "3SLM4LNQXYQN"
      }
    },
    {
      "cell_type": "code",
      "source": [
        "import matplotlib.pyplot as plt\n",
        "\n",
        "pandas_df = df.toPandas()\n",
        "\n",
        "plt.figure(figsize=(10, 6))\n",
        "plt.hist(pandas_df[\"akey\"], bins=30)\n",
        "plt.xlabel(\"akey\")\n",
        "plt.ylabel(\"pro.d\")\n",
        "plt.title(\"Distribution of akey\")\n",
        "plt.show()"
      ],
      "metadata": {
        "colab": {
          "base_uri": "https://localhost:8080/",
          "height": 564
        },
        "id": "7i5H3ejqXWBP",
        "outputId": "cee7dec8-25b0-4583-e3ae-6f07e6a54f9a"
      },
      "execution_count": 46,
      "outputs": [
        {
          "output_type": "display_data",
          "data": {
            "text/plain": [
              "<Figure size 1000x600 with 1 Axes>"
            ],
            "image/png": "[encoded data removed]"
          },
          "metadata": {}
        }
      ]
    },
    {
      "cell_type": "markdown",
      "source": [
        "# **optimization**"
      ],
      "metadata": {
        "id": "4s5aqnFIXt4n"
      }
    },
    {
      "cell_type": "code",
      "source": [
        "df = df.repartition(10, \"UID\")\n",
        "df.cache()\n",
        "df.count()"
      ],
      "metadata": {
        "colab": {
          "base_uri": "https://localhost:8080/"
        },
        "id": "xEZ2NsW_Xtf9",
        "outputId": "b24caff7-f202-45e2-936b-9a8e96425bd4"
      },
      "execution_count": 47,
      "outputs": [
        {
          "output_type": "execute_result",
          "data": {
            "text/plain": [
              "20"
            ]
          },
          "metadata": {},
          "execution_count": 47
        }
      ]
    },
    {
      "cell_type": "markdown",
      "source": [
        "# **Advanced Analytics and Performance Metrics**"
      ],
      "metadata": {
        "id": "l7PM5QVRX0mi"
      }
    },
    {
      "cell_type": "code",
      "source": [
        "session_df = spark.read.json(\"/content/short.json\")\n",
        "channel_analysis_df = session_df.groupBy(\"pro.ch\").agg(\n",
        "    count(\"*\").alias(\"EventCount\"),\n",
        "    sum(\"pro.watch_time_dock\").alias(\"TotalWatchTime\")\n",
        ")\n",
        "channel_analysis_df.show()\n",
        "\n",
        "performance_metrics_df = session_df.groupBy(\"crmid\").agg(\n",
        "    avg(\"pro.timestamp\").alias(\"AverageLag\"),\n",
        "    sum(\"pro.watch_time_dock\").alias(\"TotalWatchTime\")\n",
        ")\n",
        "performance_metrics_df.show()\n",
        "\n",
        "session_df.toPandas().to_csv(\"session_data.csv\", index=False)\n",
        "\n",
        "partitioned_df = session_df.repartition(10, \"UID\")\n",
        "\n",
        "summary_stats = session_df.describe().show()"
      ],
      "metadata": {
        "colab": {
          "base_uri": "https://localhost:8080/"
        },
        "id": "jcoPYBXfRJMI",
        "outputId": "8bcb6860-65e1-47c1-e781-1d04df8f0225"
      },
      "execution_count": 48,
      "outputs": [
        {
          "output_type": "stream",
          "name": "stdout",
          "text": [
            "+--------------------+----------+--------------+\n",
            "|                  ch|EventCount|TotalWatchTime|\n",
            "+--------------------+----------+--------------+\n",
            "|            Newslive|         1|           3.0|\n",
            "|          Pogo+Hindi|         1|           0.0|\n",
            "|        Zee+Business|         1|           0.0|\n",
            "|         Zee+Kannada|         1|           0.0|\n",
            "|           Zee+TV+HD|         2|           0.0|\n",
            "|    Zee+Anmol+Cinema|         1|          44.0|\n",
            "|      ABP News India|         1|          null|\n",
            "|            Sony+SAB|         1|           2.0|\n",
            "|Cartoon Network H...|         1|          null|\n",
            "|          India news|         1|          null|\n",
            "|           Zee+Anmol|         1|           5.0|\n",
            "|             Sony+HD|         1|           5.0|\n",
            "|         Sony+Six+HD|         1|           3.0|\n",
            "|         Republic+TV|         1|           0.0|\n",
            "|     Colors+Cineplex|         1|           0.0|\n",
            "|          ABP+Ananda|         1|           4.0|\n",
            "|           Colors+HD|         3|           0.0|\n",
            "+--------------------+----------+--------------+\n",
            "\n",
            "+----------+----------+--------------+\n",
            "|     crmid|AverageLag|TotalWatchTime|\n",
            "+----------+----------+--------------+\n",
            "|1197657474|      null|           5.0|\n",
            "|7137774035|      null|          null|\n",
            "|3135559391|      null|          null|\n",
            "|1135328819|      null|           3.0|\n",
            "|5101332368|      null|           0.0|\n",
            "|3073231160|      null|           4.0|\n",
            "|3140553756|      null|           0.0|\n",
            "|1108323902|      null|           0.0|\n",
            "|1132537431|      null|           0.0|\n",
            "|3122832937|      null|          44.0|\n",
            "|1140063322|      null|           2.0|\n",
            "|7047321247|      null|           5.0|\n",
            "|1124003909|      null|           0.0|\n",
            "|1112169282|      null|          null|\n",
            "|3071421502|      null|           0.0|\n",
            "|7150862665|      null|           0.0|\n",
            "|3005330614|      null|           0.0|\n",
            "|1218102819|      null|           0.0|\n",
            "|1032837923|      null|           0.0|\n",
            "|7086959243|      null|           3.0|\n",
            "+----------+----------+--------------+\n",
            "\n",
            "+-------+------------+-------+----+-------------------+------------------+----------------+----+-----+-----------------+-------------+--------------------+------------+------------------+-----------------+------------------+----+-------+----+---------+-------+------------------+----+--------------------+---------+-------+-------------------+-------+--------------------+-------------+-------------------+--------------------+--------------------+\n",
            "|summary|        akey|    avn|   c|              crmid|         dateflink|             did|dtpe|evtno|firmware_revision|hardware_info|              idamid|         key|               lat|              lng|             logno| mnu|    mod| nwk|      ori|os_name|               osv|  pf|   platform_build_id|profileid|    res|                rtc|    sdv|                 sid|     software|                uid|          user_agent|     x-forwarded-for|\n",
            "+-------+------------+-------+----+-------------------+------------------+----------------+----+-----+-----------------+-------------+--------------------+------------+------------------+-----------------+------------------+----+-------+----+---------+-------+------------------+----+--------------------+---------+-------+-------------------+-------+--------------------+-------------+-------------------+--------------------+--------------------+\n",
            "|  count|          20|     20|   3|                 20|                20|              20|  20|   17|                3|            3|                  20|          20|                18|               18|                20|  20|      3|  20|        3|      3|                20|  20|                   3|        3|      3|                 20|      3|                  20|            3|                 20|                   3|                  20|\n",
            "|   mean|1.09154002E8|   null|null|    3.11371018995E9|1.6226262006013E12|            null|null|  1.0|             null|         null|                null|        null|  11.0207995836046|35.31259972601997|             61.35|null|   null|null|     null|    2.5| 9.666666666666666|null|2.020411783269766...|     null|   null|1.62262619808935E12|   null|1.622624952838764...|         null|               null|                null|                null|\n",
            "| stddev|         0.0|   null|null|2.328704138412677E9| 263.8908814155148|            null|null|  0.0|             null|         null|                null|        null|13.159540781472602|40.77775456393474|37.906082000538895|null|   null|null|     null|   null|1.3026778945578592|null| 5.367061904444651E9|     null|   null| 2590.4614255998868|   null|  1317216.1837387085|         null|               null|                null|                null|\n",
            "|    min|   109154002|1.6.6.4| Jio|         1032837923|     1622626200111|1556662b9b9bfb19|   F|    1|                 |        F320B|09f4d09b-4136-421...|media_access|                 0|                0|               101| LYF|Feature|  4G|Landscape|    2.5|                10|   A|      20201009165323|       NA|240x320|      1622626190636|1.6.6.4|       1622621486500|    KaiOS 2.5|Arun.Ganpat.Talekar|Mozilla/5.0 (Mobi...|       103.123.224.8|\n",
            "|    max|   109154002|  6.0.8| Jio|         7150862665|     1622626200985|fbd03bd3fbf584d4|   S|    1|                 |         F90M|fc0e777a-8544-426...|media_access|           30.5964|          88.4677|                93|vivo|Feature|WIFI|Landscape|2.5.3.2|                 9|   K|      20210315171215|       NA|240x320|      1622626201296|1.6.6.4|16226261766384e30...|KaiOS 2.5.3.2|     ujjalbiswas_50|Mozilla/5.0 (Mobi...|2409:4071:2088:14...|\n",
            "+-------+------------+-------+----+-------------------+------------------+----------------+----+-----+-----------------+-------------+--------------------+------------+------------------+-----------------+------------------+----+-------+----+---------+-------+------------------+----+--------------------+---------+-------+-------------------+-------+--------------------+-------------+-------------------+--------------------+--------------------+\n",
            "\n"
          ]
        }
      ]
    },
    {
      "cell_type": "code",
      "source": [],
      "metadata": {
        "id": "ZHKhV0iAX8Xb"
      },
      "execution_count": null,
      "outputs": []
    }
  ]
}